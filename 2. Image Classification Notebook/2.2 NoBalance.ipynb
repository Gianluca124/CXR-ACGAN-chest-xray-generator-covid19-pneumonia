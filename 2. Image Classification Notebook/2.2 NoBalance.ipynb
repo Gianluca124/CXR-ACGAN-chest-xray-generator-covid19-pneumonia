{
 "cells": [
  {
   "cell_type": "markdown",
   "metadata": {},
   "source": [
    "# Preliminary operation and Import Packages"
   ]
  },
  {
   "cell_type": "code",
   "execution_count": 3,
   "metadata": {},
   "outputs": [
    {
     "name": "stdout",
     "output_type": "stream",
     "text": [
      "Tue Feb  7 16:28:59 2023       \n",
      "+-----------------------------------------------------------------------------+\n",
      "| NVIDIA-SMI 528.24       Driver Version: 528.24       CUDA Version: 12.0     |\n",
      "|-------------------------------+----------------------+----------------------+\n",
      "| GPU  Name            TCC/WDDM | Bus-Id        Disp.A | Volatile Uncorr. ECC |\n",
      "| Fan  Temp  Perf  Pwr:Usage/Cap|         Memory-Usage | GPU-Util  Compute M. |\n",
      "|                               |                      |               MIG M. |\n",
      "|===============================+======================+======================|\n",
      "|   0  NVIDIA GeForce ... WDDM  | 00000000:01:00.0 Off |                  N/A |\n",
      "| N/A   47C    P8    N/A /  N/A |   1838MiB /  2048MiB |      0%      Default |\n",
      "|                               |                      |                  N/A |\n",
      "+-------------------------------+----------------------+----------------------+\n",
      "                                                                               \n",
      "+-----------------------------------------------------------------------------+\n",
      "| Processes:                                                                  |\n",
      "|  GPU   GI   CI        PID   Type   Process name                  GPU Memory |\n",
      "|        ID   ID                                                   Usage      |\n",
      "|=============================================================================|\n",
      "|    0   N/A  N/A     21400      C   ...conda3\\envs\\tf\\python.exe    N/A      |\n",
      "|    0   N/A  N/A     23468      C   ...conda3\\envs\\tf\\python.exe    N/A      |\n",
      "|    0   N/A  N/A     23672    C+G   ...ser\\Application\\brave.exe    N/A      |\n",
      "+-----------------------------------------------------------------------------+\n"
     ]
    }
   ],
   "source": [
    "!nvidia-smi"
   ]
  },
  {
   "cell_type": "code",
   "execution_count": 4,
   "metadata": {},
   "outputs": [
    {
     "name": "stdout",
     "output_type": "stream",
     "text": [
      "nvcc: NVIDIA (R) Cuda compiler driver\n",
      "Copyright (c) 2005-2022 NVIDIA Corporation\n",
      "Built on Wed_Sep_21_10:41:10_Pacific_Daylight_Time_2022\n",
      "Cuda compilation tools, release 11.8, V11.8.89\n",
      "Build cuda_11.8.r11.8/compiler.31833905_0\n"
     ]
    }
   ],
   "source": [
    "!nvcc -V"
   ]
  },
  {
   "cell_type": "code",
   "execution_count": 3,
   "metadata": {},
   "outputs": [
    {
     "name": "stdout",
     "output_type": "stream",
     "text": [
      "[name: \"/device:CPU:0\"\n",
      "device_type: \"CPU\"\n",
      "memory_limit: 268435456\n",
      "locality {\n",
      "}\n",
      "incarnation: 2996846242452572785\n",
      "xla_global_id: -1\n",
      ", name: \"/device:GPU:0\"\n",
      "device_type: \"GPU\"\n",
      "memory_limit: 1225944676\n",
      "locality {\n",
      "  bus_id: 1\n",
      "  links {\n",
      "  }\n",
      "}\n",
      "incarnation: 18166989647878258434\n",
      "physical_device_desc: \"device: 0, name: NVIDIA GeForce MX450, pci bus id: 0000:01:00.0, compute capability: 7.5\"\n",
      "xla_global_id: 416903419\n",
      "]\n"
     ]
    }
   ],
   "source": [
    "from tensorflow.python.client import device_lib\n",
    "print(device_lib.list_local_devices())"
   ]
  },
  {
   "cell_type": "code",
   "execution_count": 5,
   "metadata": {},
   "outputs": [],
   "source": [
    "# Keras e TF\n",
    "\n",
    "import tensorflow as tf \n",
    "from tensorflow import keras\n",
    "from tensorflow.keras.utils import load_img\n",
    "from keras.preprocessing.image import ImageDataGenerator\n",
    "from keras.models import Sequential\n",
    "from keras.layers import Conv2D, Conv1D, MaxPooling2D, Dense, Flatten, BatchNormalization, Activation, AveragePooling2D, Input, Flatten, Dropout\n",
    "from keras.callbacks import ModelCheckpoint, LearningRateScheduler\n",
    "from keras.callbacks import ReduceLROnPlateau\n",
    "from keras.regularizers import l2\n",
    "from keras import backend as K\n",
    "from keras.models import Model\n",
    "from keras import regularizers\n",
    "from tensorflow import initializers\n",
    "from keras.layers import LSTM\n",
    "# from keras.layers.embeddings import Embedding\n",
    "from keras.preprocessing import sequence\n",
    "from keras.layers import TimeDistributed\n",
    "from keras.layers import LSTM\n",
    "from keras.models import load_model\n",
    "from keras.layers import Activation\n",
    "\n",
    "# Sk-Learn\n",
    "from sklearn.metrics import classification_report, confusion_matrix\n",
    "from sklearn.model_selection import train_test_split\n",
    "from sklearn.metrics import classification_report,confusion_matrix\n",
    "\n",
    "# Image management\n",
    "import cv2\n",
    "\n",
    "from time import time\n",
    "import sys\n",
    "import os\n",
    "import glob2 as glob\n",
    "from matplotlib import pyplot as plt\n",
    "import seaborn as sns\n",
    "import numpy as np\n",
    "import pandas as pd\n",
    "from scipy.linalg import fractional_matrix_power\n",
    "\n",
    "from sklearn.utils import resample\n",
    "from sklearn.utils import shuffle\n",
    "from sklearn.utils import class_weight \n",
    "\n",
    "import pydot\n",
    "import pydotplus\n",
    "from pydotplus import graphviz"
   ]
  },
  {
   "cell_type": "code",
   "execution_count": null,
   "metadata": {},
   "outputs": [],
   "source": [
    "# Set visualization size for figures \n",
    "plt.rcParams['figure.figsize'] = [10,10] # width, height"
   ]
  },
  {
   "cell_type": "code",
   "execution_count": 5,
   "metadata": {},
   "outputs": [],
   "source": [
    "os.chdir('C:/Users/marco/Desktop/Local_Documents/data/COVIDx-splitted-resized-112')"
   ]
  },
  {
   "attachments": {},
   "cell_type": "markdown",
   "metadata": {},
   "source": [
    "# Image generator"
   ]
  },
  {
   "cell_type": "code",
   "execution_count": 13,
   "metadata": {},
   "outputs": [],
   "source": [
    "batch_size = 32 # Batch size\n",
    "\n",
    "train_path = './train'\n",
    "test_path = './test' \n",
    "\n",
    "train_datagen = ImageDataGenerator(rescale=1./255., validation_split=0.2)\n",
    "test_datagen = ImageDataGenerator(rescale=1./255.)"
   ]
  },
  {
   "cell_type": "code",
   "execution_count": 42,
   "metadata": {},
   "outputs": [
    {
     "name": "stdout",
     "output_type": "stream",
     "text": [
      "Found 23524 images belonging to 3 classes.\n"
     ]
    }
   ],
   "source": [
    "train_data = train_datagen.flow_from_directory(\n",
    "        train_path,  \n",
    "        target_size=(112, 112),  # Lo inserisco per precauzione\n",
    "        batch_size=batch_size,\n",
    "        seed=123,\n",
    "        shuffle=True,\n",
    "        subset='training',\n",
    "        class_mode='categorical')"
   ]
  },
  {
   "cell_type": "code",
   "execution_count": 43,
   "metadata": {},
   "outputs": [
    {
     "name": "stdout",
     "output_type": "stream",
     "text": [
      "Found 5880 images belonging to 3 classes.\n"
     ]
    }
   ],
   "source": [
    "validation_data = train_datagen.flow_from_directory(\n",
    "        train_path,  \n",
    "        target_size=(112, 112),  # Lo inserisco per precauzione\n",
    "        batch_size=batch_size,\n",
    "        seed=123,\n",
    "        shuffle=True,\n",
    "        subset='validation',\n",
    "        class_mode='categorical')"
   ]
  },
  {
   "cell_type": "code",
   "execution_count": 44,
   "metadata": {},
   "outputs": [
    {
     "name": "stdout",
     "output_type": "stream",
     "text": [
      "Found 397 images belonging to 3 classes.\n"
     ]
    }
   ],
   "source": [
    "# Test set\n",
    "test_data = test_datagen.flow_from_directory(\n",
    "        test_path,  \n",
    "        target_size=(112, 112),  # Lo inserisco per precauzione\n",
    "        batch_size=batch_size,\n",
    "        shuffle=False,\n",
    "        class_mode='categorical')"
   ]
  },
  {
   "cell_type": "code",
   "execution_count": 45,
   "metadata": {},
   "outputs": [
    {
     "data": {
      "text/plain": [
       "{'COVID-19': 0, 'normal': 1, 'pneumonia': 2}"
      ]
     },
     "execution_count": 45,
     "metadata": {},
     "output_type": "execute_result"
    }
   ],
   "source": [
    "train_data.class_indices"
   ]
  },
  {
   "cell_type": "code",
   "execution_count": 46,
   "metadata": {},
   "outputs": [
    {
     "data": {
      "text/plain": [
       "{'COVID-19': 0, 'normal': 1, 'pneumonia': 2}"
      ]
     },
     "execution_count": 46,
     "metadata": {},
     "output_type": "execute_result"
    }
   ],
   "source": [
    "validation_data.class_indices"
   ]
  },
  {
   "cell_type": "code",
   "execution_count": 47,
   "metadata": {},
   "outputs": [
    {
     "data": {
      "text/plain": [
       "{'COVID-19': 0, 'normal': 1, 'pneumonia': 2}"
      ]
     },
     "execution_count": 47,
     "metadata": {},
     "output_type": "execute_result"
    }
   ],
   "source": [
    "test_data.class_indices"
   ]
  },
  {
   "attachments": {},
   "cell_type": "markdown",
   "metadata": {},
   "source": [
    "# Definizione dell'architettura"
   ]
  },
  {
   "cell_type": "code",
   "execution_count": 49,
   "metadata": {},
   "outputs": [],
   "source": [
    "#Definizione del CallBacks: Early stopper sulla loss di validazione\n",
    "early_stopper = tf.keras.callbacks.EarlyStopping(monitor='val_loss', patience=100)"
   ]
  },
  {
   "cell_type": "code",
   "execution_count": 50,
   "metadata": {},
   "outputs": [],
   "source": [
    "version = \"v1\"\n",
    "img_size = '112'\n",
    "checkpoint_filepath = f'C:/Users/marco/Desktop/Local_Documents/models/NoBalance/dcnn_model_{img_size}_{version}_val_acc_best.hdf5'\n",
    "model_checkpoint_callback = tf.keras.callbacks.ModelCheckpoint(\n",
    "    filepath=checkpoint_filepath,\n",
    "    monitor='val_accuracy',\n",
    "    mode='max',\n",
    "    save_best_only=True)"
   ]
  },
  {
   "cell_type": "code",
   "execution_count": 24,
   "metadata": {},
   "outputs": [],
   "source": [
    "num_classes = 3\n",
    "inputs = keras.Input((112,112,3))\n",
    "\n",
    "x = inputs\n",
    "\n",
    "x = keras.layers.Conv2D(16, 3, padding =\"same\", strides=1)(x)\n",
    "x = keras.layers.Activation('relu')(x)\n",
    "x = keras.layers.BatchNormalization()(x)\n",
    "\n",
    "x = keras.layers.Conv2D(32, 3,  padding =\"same\", strides=1)(x)\n",
    "x = keras.layers.Activation('relu')(x)\n",
    "x = keras.layers.MaxPooling2D(pool_size=(3,3), strides=(3,3))(x)\n",
    "x = keras.layers.Dropout(0.2)(x)\n",
    "\n",
    "x = keras.layers.Conv2D(64, 3,  padding =\"same\", strides=1)(x)\n",
    "x = keras.layers.Activation('relu')(x)\n",
    "x = keras.layers.BatchNormalization()(x)\n",
    "\n",
    "x = keras.layers.Conv2D(128, 2,  padding =\"same\", strides=1)(x)\n",
    "x = keras.layers.Activation('relu')(x)\n",
    "\n",
    "x = keras.layers.MaxPooling2D(pool_size=(2,2), strides=(3,3))(x)\n",
    "\n",
    "x = keras.layers.Dropout(0.2)(x)\n",
    "\n",
    "# x = keras.layers.GlobalMaxPool2D()(x)\n",
    "x = keras.layers.Flatten()(x)\n",
    "\n",
    "x = keras.layers.Dense(128, activation='relu')(x)\n",
    "x = keras.layers.Dropout(0.5)(x)\n",
    "\n",
    "# x = keras.layers.Dense(512, activation='relu')(x)\n",
    "# x = keras.layers.Dropout(0.5)(x)\n",
    "\n",
    "# x = keras.layers.Dense(1000, activation='relu')(x)\n",
    "# x = keras.layers.Dropout(0.5)(x)\n",
    "\n",
    "outputs = keras.layers.Dense(num_classes, activation='softmax')(x)\n",
    "net_dcnn_112_nobal = keras.Model(inputs, outputs)\n",
    "\n"
   ]
  },
  {
   "cell_type": "code",
   "execution_count": 26,
   "metadata": {},
   "outputs": [
    {
     "name": "stdout",
     "output_type": "stream",
     "text": [
      "Model: \"model\"\n",
      "_________________________________________________________________\n",
      " Layer (type)                Output Shape              Param #   \n",
      "=================================================================\n",
      " input_1 (InputLayer)        [(None, 112, 112, 3)]     0         \n",
      "                                                                 \n",
      " conv2d (Conv2D)             (None, 112, 112, 16)      448       \n",
      "                                                                 \n",
      " activation (Activation)     (None, 112, 112, 16)      0         \n",
      "                                                                 \n",
      " batch_normalization (BatchN  (None, 112, 112, 16)     64        \n",
      " ormalization)                                                   \n",
      "                                                                 \n",
      " conv2d_1 (Conv2D)           (None, 112, 112, 32)      4640      \n",
      "                                                                 \n",
      " activation_1 (Activation)   (None, 112, 112, 32)      0         \n",
      "                                                                 \n",
      " max_pooling2d (MaxPooling2D  (None, 37, 37, 32)       0         \n",
      " )                                                               \n",
      "                                                                 \n",
      " dropout (Dropout)           (None, 37, 37, 32)        0         \n",
      "                                                                 \n",
      " conv2d_2 (Conv2D)           (None, 37, 37, 64)        18496     \n",
      "                                                                 \n",
      " activation_2 (Activation)   (None, 37, 37, 64)        0         \n",
      "                                                                 \n",
      " batch_normalization_1 (Batc  (None, 37, 37, 64)       256       \n",
      " hNormalization)                                                 \n",
      "                                                                 \n",
      " conv2d_3 (Conv2D)           (None, 37, 37, 128)       32896     \n",
      "                                                                 \n",
      " activation_3 (Activation)   (None, 37, 37, 128)       0         \n",
      "                                                                 \n",
      " max_pooling2d_1 (MaxPooling  (None, 12, 12, 128)      0         \n",
      " 2D)                                                             \n",
      "                                                                 \n",
      " dropout_1 (Dropout)         (None, 12, 12, 128)       0         \n",
      "                                                                 \n",
      " flatten (Flatten)           (None, 18432)             0         \n",
      "                                                                 \n",
      " dense (Dense)               (None, 128)               2359424   \n",
      "                                                                 \n",
      " dropout_2 (Dropout)         (None, 128)               0         \n",
      "                                                                 \n",
      " dense_1 (Dense)             (None, 3)                 387       \n",
      "                                                                 \n",
      "=================================================================\n",
      "Total params: 2,416,611\n",
      "Trainable params: 2,416,451\n",
      "Non-trainable params: 160\n",
      "_________________________________________________________________\n"
     ]
    }
   ],
   "source": [
    "net_dcnn_112_nobal.summary()"
   ]
  },
  {
   "cell_type": "code",
   "execution_count": 27,
   "metadata": {},
   "outputs": [],
   "source": [
    "METRICS = [ \n",
    "      keras.metrics.CategoricalAccuracy(name='accuracy'),\n",
    "      keras.metrics.Precision(name='precision'),\n",
    "      keras.metrics.Recall(name='recall'),\n",
    "      keras.metrics.AUC(name='auc'),\n",
    "      keras.metrics.TopKCategoricalAccuracy(name='top k accuracy'),\n",
    "]\n",
    "OPTIMIZER = keras.optimizers.Adam(learning_rate=0.0001)"
   ]
  },
  {
   "cell_type": "code",
   "execution_count": 28,
   "metadata": {},
   "outputs": [
    {
     "ename": "NameError",
     "evalue": "name 'train_data' is not defined",
     "output_type": "error",
     "traceback": [
      "\u001b[1;31m---------------------------------------------------------------------------\u001b[0m",
      "\u001b[1;31mNameError\u001b[0m                                 Traceback (most recent call last)",
      "Cell \u001b[1;32mIn[28], line 2\u001b[0m\n\u001b[0;32m      1\u001b[0m \u001b[39m# batch size \u001b[39;00m\n\u001b[1;32m----> 2\u001b[0m step_per_epoch_train \u001b[39m=\u001b[39m \u001b[39mlen\u001b[39m(train_data\u001b[39m.\u001b[39mlabels) \u001b[39m/\u001b[39m\u001b[39m/\u001b[39m batch_size\n\u001b[0;32m      3\u001b[0m \u001b[39mprint\u001b[39m(step_per_epoch_train)\n\u001b[0;32m      4\u001b[0m step_per_epoch_val \u001b[39m=\u001b[39m \u001b[39mlen\u001b[39m(validation_data\u001b[39m.\u001b[39mlabels) \u001b[39m/\u001b[39m\u001b[39m/\u001b[39m batch_size\n",
      "\u001b[1;31mNameError\u001b[0m: name 'train_data' is not defined"
     ]
    }
   ],
   "source": [
    "# batch size \n",
    "step_per_epoch_train = len(train_data.labels) // batch_size\n",
    "print(step_per_epoch_train)\n",
    "step_per_epoch_val = len(validation_data.labels) // batch_size\n",
    "print(step_per_epoch_val)"
   ]
  },
  {
   "attachments": {},
   "cell_type": "markdown",
   "metadata": {},
   "source": [
    "# Fit "
   ]
  },
  {
   "cell_type": "code",
   "execution_count": 23,
   "metadata": {},
   "outputs": [
    {
     "ename": "NameError",
     "evalue": "name 'net_dcnn_112_nobal' is not defined",
     "output_type": "error",
     "traceback": [
      "\u001b[1;31m---------------------------------------------------------------------------\u001b[0m",
      "\u001b[1;31mNameError\u001b[0m                                 Traceback (most recent call last)",
      "Cell \u001b[1;32mIn[23], line 1\u001b[0m\n\u001b[1;32m----> 1\u001b[0m net_dcnn_112_nobal\u001b[39m.\u001b[39mcompile(loss\u001b[39m=\u001b[39mkeras\u001b[39m.\u001b[39mlosses\u001b[39m.\u001b[39mcategorical_crossentropy,\n\u001b[0;32m      2\u001b[0m             optimizer \u001b[39m=\u001b[39m OPTIMIZER,\n\u001b[0;32m      3\u001b[0m             metrics\u001b[39m=\u001b[39mMETRICS)\n",
      "\u001b[1;31mNameError\u001b[0m: name 'net_dcnn_112_nobal' is not defined"
     ]
    }
   ],
   "source": [
    "net_dcnn_112_nobal.compile(loss=keras.losses.categorical_crossentropy,\n",
    "            optimizer = OPTIMIZER,\n",
    "            metrics=METRICS)"
   ]
  },
  {
   "cell_type": "code",
   "execution_count": 55,
   "metadata": {},
   "outputs": [
    {
     "name": "stdout",
     "output_type": "stream",
     "text": [
      "Epoch 1/50\n"
     ]
    },
    {
     "name": "stderr",
     "output_type": "stream",
     "text": [
      "C:\\Users\\marco\\AppData\\Local\\Temp\\ipykernel_21012\\265271607.py:1: UserWarning: `Model.fit_generator` is deprecated and will be removed in a future version. Please use `Model.fit`, which supports generators.\n",
      "  history_dcnn = net_dcnn_112_cw.fit_generator(train_data,\n"
     ]
    },
    {
     "name": "stdout",
     "output_type": "stream",
     "text": [
      "735/735 [==============================] - 74s 93ms/step - loss: 0.5975 - accuracy: 0.7527 - precision: 0.8104 - recall: 0.6738 - auc: 0.9047 - top k accuracy: 1.0000 - val_loss: 0.4308 - val_accuracy: 0.8354 - val_precision: 0.8781 - val_recall: 0.7823 - val_auc: 0.9542 - val_top k accuracy: 1.0000\n",
      "Epoch 2/50\n",
      "735/735 [==============================] - 67s 92ms/step - loss: 0.4602 - accuracy: 0.8189 - precision: 0.8594 - recall: 0.7721 - auc: 0.9438 - top k accuracy: 1.0000 - val_loss: 0.3609 - val_accuracy: 0.8632 - val_precision: 0.8969 - val_recall: 0.8212 - val_auc: 0.9690 - val_top k accuracy: 1.0000\n",
      "Epoch 3/50\n",
      "735/735 [==============================] - 65s 88ms/step - loss: 0.4089 - accuracy: 0.8403 - precision: 0.8721 - recall: 0.8007 - auc: 0.9556 - top k accuracy: 1.0000 - val_loss: 0.3178 - val_accuracy: 0.8692 - val_precision: 0.8875 - val_recall: 0.8528 - val_auc: 0.9725 - val_top k accuracy: 1.0000\n",
      "Epoch 4/50\n",
      "735/735 [==============================] - 67s 91ms/step - loss: 0.3671 - accuracy: 0.8571 - precision: 0.8857 - recall: 0.8259 - auc: 0.9640 - top k accuracy: 1.0000 - val_loss: 0.3612 - val_accuracy: 0.8654 - val_precision: 0.8814 - val_recall: 0.8490 - val_auc: 0.9660 - val_top k accuracy: 1.0000\n",
      "Epoch 5/50\n",
      "735/735 [==============================] - 68s 93ms/step - loss: 0.3194 - accuracy: 0.8779 - precision: 0.9002 - recall: 0.8534 - auc: 0.9725 - top k accuracy: 1.0000 - val_loss: 0.2397 - val_accuracy: 0.9097 - val_precision: 0.9237 - val_recall: 0.8991 - val_auc: 0.9843 - val_top k accuracy: 1.0000\n",
      "Epoch 6/50\n",
      "735/735 [==============================] - 74s 100ms/step - loss: 0.2871 - accuracy: 0.8915 - precision: 0.9128 - recall: 0.8716 - auc: 0.9777 - top k accuracy: 1.0000 - val_loss: 0.3329 - val_accuracy: 0.8793 - val_precision: 0.8912 - val_recall: 0.8699 - val_auc: 0.9724 - val_top k accuracy: 1.0000\n",
      "Epoch 7/50\n",
      "735/735 [==============================] - 72s 98ms/step - loss: 0.2562 - accuracy: 0.9054 - precision: 0.9204 - recall: 0.8877 - auc: 0.9820 - top k accuracy: 1.0000 - val_loss: 0.2451 - val_accuracy: 0.9109 - val_precision: 0.9200 - val_recall: 0.9028 - val_auc: 0.9828 - val_top k accuracy: 1.0000\n",
      "Epoch 8/50\n",
      "735/735 [==============================] - 68s 93ms/step - loss: 0.2440 - accuracy: 0.9115 - precision: 0.9250 - recall: 0.8962 - auc: 0.9833 - top k accuracy: 1.0000 - val_loss: 0.6026 - val_accuracy: 0.8193 - val_precision: 0.8281 - val_recall: 0.8060 - val_auc: 0.9371 - val_top k accuracy: 1.0000\n",
      "Epoch 9/50\n",
      "735/735 [==============================] - 69s 94ms/step - loss: 0.2258 - accuracy: 0.9156 - precision: 0.9281 - recall: 0.9040 - auc: 0.9855 - top k accuracy: 1.0000 - val_loss: 0.2112 - val_accuracy: 0.9232 - val_precision: 0.9272 - val_recall: 0.9199 - val_auc: 0.9870 - val_top k accuracy: 1.0000\n",
      "Epoch 10/50\n",
      "735/735 [==============================] - 69s 94ms/step - loss: 0.2201 - accuracy: 0.9198 - precision: 0.9296 - recall: 0.9083 - auc: 0.9862 - top k accuracy: 1.0000 - val_loss: 0.2802 - val_accuracy: 0.9016 - val_precision: 0.9113 - val_recall: 0.8934 - val_auc: 0.9791 - val_top k accuracy: 1.0000\n",
      "Epoch 11/50\n",
      "735/735 [==============================] - 69s 94ms/step - loss: 0.2105 - accuracy: 0.9224 - precision: 0.9326 - recall: 0.9125 - auc: 0.9873 - top k accuracy: 1.0000 - val_loss: 0.2082 - val_accuracy: 0.9201 - val_precision: 0.9252 - val_recall: 0.9146 - val_auc: 0.9875 - val_top k accuracy: 1.0000\n",
      "Epoch 12/50\n",
      "735/735 [==============================] - 70s 95ms/step - loss: 0.1973 - accuracy: 0.9280 - precision: 0.9363 - recall: 0.9187 - auc: 0.9888 - top k accuracy: 1.0000 - val_loss: 0.3764 - val_accuracy: 0.8881 - val_precision: 0.8942 - val_recall: 0.8834 - val_auc: 0.9703 - val_top k accuracy: 1.0000\n",
      "Epoch 13/50\n",
      "735/735 [==============================] - 69s 94ms/step - loss: 0.1900 - accuracy: 0.9288 - precision: 0.9367 - recall: 0.9202 - auc: 0.9897 - top k accuracy: 1.0000 - val_loss: 0.1708 - val_accuracy: 0.9372 - val_precision: 0.9388 - val_recall: 0.9348 - val_auc: 0.9913 - val_top k accuracy: 1.0000\n",
      "Epoch 14/50\n",
      "735/735 [==============================] - 71s 96ms/step - loss: 0.1891 - accuracy: 0.9297 - precision: 0.9372 - recall: 0.9222 - auc: 0.9895 - top k accuracy: 1.0000 - val_loss: 0.2030 - val_accuracy: 0.9262 - val_precision: 0.9318 - val_recall: 0.9220 - val_auc: 0.9882 - val_top k accuracy: 1.0000\n",
      "Epoch 15/50\n",
      "735/735 [==============================] - 72s 98ms/step - loss: 0.1751 - accuracy: 0.9350 - precision: 0.9419 - recall: 0.9275 - auc: 0.9910 - top k accuracy: 1.0000 - val_loss: 0.2009 - val_accuracy: 0.9257 - val_precision: 0.9303 - val_recall: 0.9214 - val_auc: 0.9883 - val_top k accuracy: 1.0000\n",
      "Epoch 16/50\n",
      "735/735 [==============================] - 69s 94ms/step - loss: 0.1732 - accuracy: 0.9347 - precision: 0.9421 - recall: 0.9278 - auc: 0.9911 - top k accuracy: 1.0000 - val_loss: 0.1783 - val_accuracy: 0.9392 - val_precision: 0.9412 - val_recall: 0.9368 - val_auc: 0.9905 - val_top k accuracy: 1.0000\n",
      "Epoch 17/50\n",
      "735/735 [==============================] - 70s 95ms/step - loss: 0.1662 - accuracy: 0.9375 - precision: 0.9443 - recall: 0.9312 - auc: 0.9919 - top k accuracy: 1.0000 - val_loss: 0.2198 - val_accuracy: 0.9245 - val_precision: 0.9285 - val_recall: 0.9203 - val_auc: 0.9859 - val_top k accuracy: 1.0000\n",
      "Epoch 18/50\n",
      "735/735 [==============================] - 70s 95ms/step - loss: 0.1600 - accuracy: 0.9405 - precision: 0.9472 - recall: 0.9351 - auc: 0.9923 - top k accuracy: 1.0000 - val_loss: 0.1806 - val_accuracy: 0.9378 - val_precision: 0.9387 - val_recall: 0.9365 - val_auc: 0.9901 - val_top k accuracy: 1.0000\n",
      "Epoch 19/50\n",
      "735/735 [==============================] - 66s 90ms/step - loss: 0.1546 - accuracy: 0.9404 - precision: 0.9453 - recall: 0.9356 - auc: 0.9928 - top k accuracy: 1.0000 - val_loss: 0.1782 - val_accuracy: 0.9375 - val_precision: 0.9393 - val_recall: 0.9348 - val_auc: 0.9903 - val_top k accuracy: 1.0000\n",
      "Epoch 20/50\n",
      "735/735 [==============================] - 68s 93ms/step - loss: 0.1487 - accuracy: 0.9427 - precision: 0.9480 - recall: 0.9375 - auc: 0.9933 - top k accuracy: 1.0000 - val_loss: 0.1808 - val_accuracy: 0.9314 - val_precision: 0.9337 - val_recall: 0.9283 - val_auc: 0.9902 - val_top k accuracy: 1.0000\n",
      "Epoch 21/50\n",
      "735/735 [==============================] - 69s 94ms/step - loss: 0.1456 - accuracy: 0.9453 - precision: 0.9504 - recall: 0.9405 - auc: 0.9936 - top k accuracy: 1.0000 - val_loss: 0.3610 - val_accuracy: 0.9018 - val_precision: 0.9058 - val_recall: 0.8994 - val_auc: 0.9726 - val_top k accuracy: 1.0000\n",
      "Epoch 22/50\n",
      "735/735 [==============================] - 70s 95ms/step - loss: 0.1425 - accuracy: 0.9455 - precision: 0.9503 - recall: 0.9406 - auc: 0.9938 - top k accuracy: 1.0000 - val_loss: 0.2085 - val_accuracy: 0.9327 - val_precision: 0.9349 - val_recall: 0.9315 - val_auc: 0.9879 - val_top k accuracy: 1.0000\n",
      "Epoch 23/50\n",
      "735/735 [==============================] - 76s 103ms/step - loss: 0.1343 - accuracy: 0.9484 - precision: 0.9534 - recall: 0.9441 - auc: 0.9945 - top k accuracy: 1.0000 - val_loss: 0.1739 - val_accuracy: 0.9428 - val_precision: 0.9432 - val_recall: 0.9418 - val_auc: 0.9904 - val_top k accuracy: 1.0000\n",
      "Epoch 24/50\n",
      "735/735 [==============================] - 72s 97ms/step - loss: 0.1335 - accuracy: 0.9497 - precision: 0.9530 - recall: 0.9456 - auc: 0.9946 - top k accuracy: 1.0000 - val_loss: 0.1792 - val_accuracy: 0.9395 - val_precision: 0.9403 - val_recall: 0.9387 - val_auc: 0.9905 - val_top k accuracy: 1.0000\n",
      "Epoch 25/50\n",
      "735/735 [==============================] - 68s 93ms/step - loss: 0.1279 - accuracy: 0.9498 - precision: 0.9541 - recall: 0.9459 - auc: 0.9949 - top k accuracy: 1.0000 - val_loss: 0.3506 - val_accuracy: 0.9004 - val_precision: 0.9041 - val_recall: 0.8981 - val_auc: 0.9745 - val_top k accuracy: 1.0000\n",
      "Epoch 26/50\n",
      "735/735 [==============================] - 69s 93ms/step - loss: 0.1270 - accuracy: 0.9498 - precision: 0.9543 - recall: 0.9457 - auc: 0.9951 - top k accuracy: 1.0000 - val_loss: 0.1739 - val_accuracy: 0.9447 - val_precision: 0.9449 - val_recall: 0.9436 - val_auc: 0.9901 - val_top k accuracy: 1.0000\n",
      "Epoch 27/50\n",
      "735/735 [==============================] - 69s 94ms/step - loss: 0.1192 - accuracy: 0.9537 - precision: 0.9581 - recall: 0.9503 - auc: 0.9956 - top k accuracy: 1.0000 - val_loss: 0.2441 - val_accuracy: 0.9332 - val_precision: 0.9346 - val_recall: 0.9325 - val_auc: 0.9852 - val_top k accuracy: 1.0000\n",
      "Epoch 28/50\n",
      "735/735 [==============================] - 75s 101ms/step - loss: 0.1148 - accuracy: 0.9539 - precision: 0.9577 - recall: 0.9506 - auc: 0.9958 - top k accuracy: 1.0000 - val_loss: 0.3232 - val_accuracy: 0.9047 - val_precision: 0.9095 - val_recall: 0.8994 - val_auc: 0.9753 - val_top k accuracy: 1.0000\n",
      "Epoch 29/50\n",
      "735/735 [==============================] - 66s 90ms/step - loss: 0.1153 - accuracy: 0.9548 - precision: 0.9586 - recall: 0.9518 - auc: 0.9958 - top k accuracy: 1.0000 - val_loss: 0.2152 - val_accuracy: 0.9356 - val_precision: 0.9357 - val_recall: 0.9348 - val_auc: 0.9869 - val_top k accuracy: 1.0000\n",
      "Epoch 30/50\n",
      "735/735 [==============================] - 67s 92ms/step - loss: 0.1096 - accuracy: 0.9563 - precision: 0.9598 - recall: 0.9534 - auc: 0.9962 - top k accuracy: 1.0000 - val_loss: 0.3008 - val_accuracy: 0.9143 - val_precision: 0.9179 - val_recall: 0.9127 - val_auc: 0.9795 - val_top k accuracy: 1.0000\n",
      "Epoch 31/50\n",
      "735/735 [==============================] - 66s 90ms/step - loss: 0.1105 - accuracy: 0.9550 - precision: 0.9585 - recall: 0.9522 - auc: 0.9961 - top k accuracy: 1.0000 - val_loss: 0.1855 - val_accuracy: 0.9390 - val_precision: 0.9398 - val_recall: 0.9378 - val_auc: 0.9894 - val_top k accuracy: 1.0000\n",
      "Epoch 32/50\n",
      "735/735 [==============================] - 68s 92ms/step - loss: 0.1053 - accuracy: 0.9572 - precision: 0.9596 - recall: 0.9535 - auc: 0.9966 - top k accuracy: 1.0000 - val_loss: 0.1788 - val_accuracy: 0.9455 - val_precision: 0.9463 - val_recall: 0.9445 - val_auc: 0.9903 - val_top k accuracy: 1.0000\n",
      "Epoch 33/50\n",
      "735/735 [==============================] - 71s 96ms/step - loss: 0.1017 - accuracy: 0.9593 - precision: 0.9619 - recall: 0.9560 - auc: 0.9967 - top k accuracy: 1.0000 - val_loss: 0.3260 - val_accuracy: 0.9059 - val_precision: 0.9076 - val_recall: 0.9037 - val_auc: 0.9774 - val_top k accuracy: 1.0000\n",
      "Epoch 34/50\n",
      "735/735 [==============================] - 67s 91ms/step - loss: 0.0984 - accuracy: 0.9592 - precision: 0.9622 - recall: 0.9564 - auc: 0.9969 - top k accuracy: 1.0000 - val_loss: 0.1857 - val_accuracy: 0.9433 - val_precision: 0.9442 - val_recall: 0.9428 - val_auc: 0.9894 - val_top k accuracy: 1.0000\n",
      "Epoch 35/50\n",
      "735/735 [==============================] - 68s 92ms/step - loss: 0.0982 - accuracy: 0.9602 - precision: 0.9632 - recall: 0.9577 - auc: 0.9970 - top k accuracy: 1.0000 - val_loss: 0.2112 - val_accuracy: 0.9372 - val_precision: 0.9379 - val_recall: 0.9360 - val_auc: 0.9875 - val_top k accuracy: 1.0000\n",
      "Epoch 36/50\n",
      "735/735 [==============================] - 73s 99ms/step - loss: 0.0931 - accuracy: 0.9609 - precision: 0.9637 - recall: 0.9585 - auc: 0.9972 - top k accuracy: 1.0000 - val_loss: 0.4736 - val_accuracy: 0.8945 - val_precision: 0.8962 - val_recall: 0.8919 - val_auc: 0.9673 - val_top k accuracy: 1.0000\n",
      "Epoch 37/50\n",
      "735/735 [==============================] - 73s 99ms/step - loss: 0.0902 - accuracy: 0.9616 - precision: 0.9639 - recall: 0.9592 - auc: 0.9974 - top k accuracy: 1.0000 - val_loss: 0.3092 - val_accuracy: 0.9269 - val_precision: 0.9295 - val_recall: 0.9255 - val_auc: 0.9802 - val_top k accuracy: 1.0000\n",
      "Epoch 38/50\n",
      "735/735 [==============================] - 72s 98ms/step - loss: 0.0915 - accuracy: 0.9623 - precision: 0.9647 - recall: 0.9593 - auc: 0.9972 - top k accuracy: 1.0000 - val_loss: 0.2107 - val_accuracy: 0.9413 - val_precision: 0.9430 - val_recall: 0.9401 - val_auc: 0.9870 - val_top k accuracy: 1.0000\n",
      "Epoch 39/50\n",
      "735/735 [==============================] - 73s 100ms/step - loss: 0.0921 - accuracy: 0.9625 - precision: 0.9651 - recall: 0.9599 - auc: 0.9972 - top k accuracy: 1.0000 - val_loss: 0.2046 - val_accuracy: 0.9404 - val_precision: 0.9416 - val_recall: 0.9395 - val_auc: 0.9884 - val_top k accuracy: 1.0000\n",
      "Epoch 40/50\n",
      "735/735 [==============================] - 75s 101ms/step - loss: 0.0893 - accuracy: 0.9615 - precision: 0.9641 - recall: 0.9595 - auc: 0.9975 - top k accuracy: 1.0000 - val_loss: 0.2668 - val_accuracy: 0.9380 - val_precision: 0.9389 - val_recall: 0.9372 - val_auc: 0.9827 - val_top k accuracy: 1.0000\n",
      "Epoch 41/50\n",
      "735/735 [==============================] - 71s 97ms/step - loss: 0.0865 - accuracy: 0.9649 - precision: 0.9666 - recall: 0.9628 - auc: 0.9977 - top k accuracy: 1.0000 - val_loss: 0.2066 - val_accuracy: 0.9435 - val_precision: 0.9447 - val_recall: 0.9428 - val_auc: 0.9875 - val_top k accuracy: 1.0000\n",
      "Epoch 42/50\n",
      "735/735 [==============================] - 70s 95ms/step - loss: 0.0803 - accuracy: 0.9656 - precision: 0.9675 - recall: 0.9636 - auc: 0.9979 - top k accuracy: 1.0000 - val_loss: 0.2008 - val_accuracy: 0.9460 - val_precision: 0.9470 - val_recall: 0.9457 - val_auc: 0.9871 - val_top k accuracy: 1.0000\n",
      "Epoch 43/50\n",
      "735/735 [==============================] - 82s 111ms/step - loss: 0.0814 - accuracy: 0.9653 - precision: 0.9675 - recall: 0.9633 - auc: 0.9979 - top k accuracy: 1.0000 - val_loss: 0.2480 - val_accuracy: 0.9421 - val_precision: 0.9425 - val_recall: 0.9411 - val_auc: 0.9854 - val_top k accuracy: 1.0000\n",
      "Epoch 44/50\n",
      "735/735 [==============================] - 68s 93ms/step - loss: 0.0759 - accuracy: 0.9675 - precision: 0.9698 - recall: 0.9659 - auc: 0.9982 - top k accuracy: 1.0000 - val_loss: 0.2827 - val_accuracy: 0.9314 - val_precision: 0.9326 - val_recall: 0.9308 - val_auc: 0.9814 - val_top k accuracy: 1.0000\n",
      "Epoch 45/50\n",
      "735/735 [==============================] - 68s 92ms/step - loss: 0.0792 - accuracy: 0.9673 - precision: 0.9694 - recall: 0.9659 - auc: 0.9978 - top k accuracy: 1.0000 - val_loss: 0.2514 - val_accuracy: 0.9426 - val_precision: 0.9434 - val_recall: 0.9413 - val_auc: 0.9848 - val_top k accuracy: 1.0000\n",
      "Epoch 46/50\n",
      "735/735 [==============================] - 69s 94ms/step - loss: 0.0818 - accuracy: 0.9664 - precision: 0.9686 - recall: 0.9645 - auc: 0.9978 - top k accuracy: 1.0000 - val_loss: 0.2094 - val_accuracy: 0.9445 - val_precision: 0.9448 - val_recall: 0.9445 - val_auc: 0.9873 - val_top k accuracy: 1.0000\n",
      "Epoch 47/50\n",
      "735/735 [==============================] - 71s 96ms/step - loss: 0.0741 - accuracy: 0.9696 - precision: 0.9715 - recall: 0.9676 - auc: 0.9982 - top k accuracy: 1.0000 - val_loss: 0.2277 - val_accuracy: 0.9455 - val_precision: 0.9460 - val_recall: 0.9455 - val_auc: 0.9858 - val_top k accuracy: 1.0000\n",
      "Epoch 48/50\n",
      "735/735 [==============================] - 71s 97ms/step - loss: 0.0751 - accuracy: 0.9670 - precision: 0.9690 - recall: 0.9652 - auc: 0.9981 - top k accuracy: 1.0000 - val_loss: 0.2288 - val_accuracy: 0.9411 - val_precision: 0.9419 - val_recall: 0.9406 - val_auc: 0.9861 - val_top k accuracy: 1.0000\n",
      "Epoch 49/50\n",
      "735/735 [==============================] - 92s 125ms/step - loss: 0.0719 - accuracy: 0.9696 - precision: 0.9717 - recall: 0.9682 - auc: 0.9982 - top k accuracy: 1.0000 - val_loss: 0.2269 - val_accuracy: 0.9457 - val_precision: 0.9462 - val_recall: 0.9454 - val_auc: 0.9860 - val_top k accuracy: 1.0000\n",
      "Epoch 50/50\n",
      "735/735 [==============================] - 86s 116ms/step - loss: 0.0696 - accuracy: 0.9716 - precision: 0.9730 - recall: 0.9699 - auc: 0.9983 - top k accuracy: 1.0000 - val_loss: 0.2367 - val_accuracy: 0.9406 - val_precision: 0.9409 - val_recall: 0.9404 - val_auc: 0.9852 - val_top k accuracy: 1.0000\n"
     ]
    }
   ],
   "source": [
    "history_dcnn_nobal = net_dcnn_112_nobal.fit(train_data,\n",
    "          epochs=50,\n",
    "          steps_per_epoch=step_per_epoch_train,\n",
    "          validation_data=validation_data,\n",
    "          validation_steps=step_per_epoch_val,\n",
    "          workers = 3,\n",
    "          callbacks=[model_checkpoint_callback, early_stopper])"
   ]
  },
  {
   "cell_type": "code",
   "execution_count": 1,
   "metadata": {},
   "outputs": [
    {
     "ename": "NameError",
     "evalue": "name 'np' is not defined",
     "output_type": "error",
     "traceback": [
      "\u001b[1;31m---------------------------------------------------------------------------\u001b[0m",
      "\u001b[1;31mNameError\u001b[0m                                 Traceback (most recent call last)",
      "Cell \u001b[1;32mIn[1], line 1\u001b[0m\n\u001b[1;32m----> 1\u001b[0m np\u001b[39m.\u001b[39msave(\u001b[39mf\u001b[39m\u001b[39m'\u001b[39m\u001b[39mC:/Users/marco/Desktop/Local_Documents/models/NoBalance/dcnn_history_\u001b[39m\u001b[39m{\u001b[39;00mimg_size\u001b[39m}\u001b[39;00m\u001b[39m_\u001b[39m\u001b[39m{\u001b[39;00mversion\u001b[39m}\u001b[39;00m\u001b[39m.npy\u001b[39m\u001b[39m'\u001b[39m,\n\u001b[0;32m      2\u001b[0m         history_dcnn_nobal\u001b[39m.\u001b[39mhistory)\n",
      "\u001b[1;31mNameError\u001b[0m: name 'np' is not defined"
     ]
    }
   ],
   "source": [
    "np.save(f'C:/Users/marco/Desktop/Local_Documents/models/NoBalance/dcnn_history_{img_size}_{version}.npy',\n",
    "        history_dcnn_nobal.history)"
   ]
  },
  {
   "cell_type": "code",
   "execution_count": 13,
   "metadata": {},
   "outputs": [],
   "source": [
    "history_dcnn_nobal = np.load('C:/Users/marco/Desktop/Local_Documents/models/NoBalance/dcnn_history_112_v1.npy', allow_pickle=True).item()"
   ]
  },
  {
   "attachments": {},
   "cell_type": "markdown",
   "metadata": {},
   "source": [
    "# Evaluation"
   ]
  },
  {
   "attachments": {},
   "cell_type": "markdown",
   "metadata": {},
   "source": [
    "## Training - Validation"
   ]
  },
  {
   "cell_type": "code",
   "execution_count": 21,
   "metadata": {},
   "outputs": [
    {
     "data": {
      "text/plain": [
       "<matplotlib.legend.Legend at 0x1fe97d62d90>"
      ]
     },
     "execution_count": 21,
     "metadata": {},
     "output_type": "execute_result"
    },
    {
     "data": {
      "image/png": "[encoded data removed]",
      "text/plain": [
       "<Figure size 640x480 with 2 Axes>"
      ]
     },
     "metadata": {},
     "output_type": "display_data"
    }
   ],
   "source": [
    "# Visualization of the learning curves\n",
    "\n",
    "# Loss\n",
    "plt.subplot(1, 2, 1)\n",
    "plt.plot(history_dcnn_nobal['loss'])\n",
    "plt.plot(history_dcnn_nobal['val_loss'])\n",
    "plt.xlabel('Epoch')\n",
    "plt.ylabel('Loss')\n",
    "plt.legend(['train', 'validation'])\n",
    "\n",
    "# Accuracy\n",
    "plt.subplot(1, 2, 2)\n",
    "plt.plot(history_dcnn_nobal['accuracy'])\n",
    "plt.plot(history_dcnn_nobal['val_accuracy'])\n",
    "plt.xlabel('Epoch')\n",
    "plt.ylabel('Accuracy')\n",
    "plt.legend(['train', 'validation'])"
   ]
  },
  {
   "attachments": {},
   "cell_type": "markdown",
   "metadata": {},
   "source": [
    "## Test set"
   ]
  },
  {
   "cell_type": "code",
   "execution_count": null,
   "metadata": {},
   "outputs": [],
   "source": [
    "# Load model\n"
   ]
  },
  {
   "cell_type": "code",
   "execution_count": 22,
   "metadata": {},
   "outputs": [
    {
     "ename": "NameError",
     "evalue": "name 'net_dcnn_112_nobal' is not defined",
     "output_type": "error",
     "traceback": [
      "\u001b[1;31m---------------------------------------------------------------------------\u001b[0m",
      "\u001b[1;31mNameError\u001b[0m                                 Traceback (most recent call last)",
      "Cell \u001b[1;32mIn[22], line 2\u001b[0m\n\u001b[0;32m      1\u001b[0m \u001b[39m# Evaluation\u001b[39;00m\n\u001b[1;32m----> 2\u001b[0m score \u001b[39m=\u001b[39m net_dcnn_112_nobal\u001b[39m.\u001b[39mevaluate(test_data)\n\u001b[0;32m      3\u001b[0m \u001b[39mprint\u001b[39m(\u001b[39m'\u001b[39m\u001b[39mTest loss:\u001b[39m\u001b[39m'\u001b[39m, score[\u001b[39m0\u001b[39m])\n\u001b[0;32m      4\u001b[0m \u001b[39mprint\u001b[39m(\u001b[39m'\u001b[39m\u001b[39mTest accuracy:\u001b[39m\u001b[39m'\u001b[39m, score[\u001b[39m1\u001b[39m])\n",
      "\u001b[1;31mNameError\u001b[0m: name 'net_dcnn_112_nobal' is not defined"
     ]
    }
   ],
   "source": [
    "# Evaluation\n",
    "score = net_dcnn_112_nobal.evaluate(test_data)\n",
    "print('Test loss:', score[0])\n",
    "print('Test accuracy:', score[1])"
   ]
  }
 ],
 "metadata": {
  "kernelspec": {
   "display_name": "Python 3.8.16 ('tf')",
   "language": "python",
   "name": "python3"
  },
  "language_info": {
   "codemirror_mode": {
    "name": "ipython",
    "version": 3
   },
   "file_extension": ".py",
   "mimetype": "text/x-python",
   "name": "python",
   "nbconvert_exporter": "python",
   "pygments_lexer": "ipython3",
   "version": "3.8.16"
  },
  "orig_nbformat": 4,
  "vscode": {
   "interpreter": {
    "hash": "4a44bbf2a83640dfde2344ebe838e4635fa18e86f31ce321969bab99fe559bce"
   }
  }
 },
 "nbformat": 4,
 "nbformat_minor": 2
}
