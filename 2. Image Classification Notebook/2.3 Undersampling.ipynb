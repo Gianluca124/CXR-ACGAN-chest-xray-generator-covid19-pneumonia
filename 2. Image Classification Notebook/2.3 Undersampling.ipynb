{
 "cells": [
  {
   "cell_type": "markdown",
   "metadata": {},
   "source": [
    "# Preliminary operation and Import Packages"
   ]
  },
  {
   "cell_type": "markdown",
   "metadata": {},
   "source": [
    "2.9 version of TensorFlow/Keras, because some data augmentation techniques are particularly slow"
   ]
  },
  {
   "cell_type": "code",
   "execution_count": null,
   "metadata": {},
   "outputs": [
    {
     "name": "stdout",
     "output_type": "stream",
     "text": [
      "Mon Feb  6 21:40:24 2023       \n",
      "+-----------------------------------------------------------------------------+\n",
      "| NVIDIA-SMI 528.24       Driver Version: 528.24       CUDA Version: 12.0     |\n",
      "|-------------------------------+----------------------+----------------------+\n",
      "| GPU  Name            TCC/WDDM | Bus-Id        Disp.A | Volatile Uncorr. ECC |\n",
      "| Fan  Temp  Perf  Pwr:Usage/Cap|         Memory-Usage | GPU-Util  Compute M. |\n",
      "|                               |                      |               MIG M. |\n",
      "|===============================+======================+======================|\n",
      "|   0  NVIDIA GeForce ... WDDM  | 00000000:01:00.0 Off |                  N/A |\n",
      "| N/A   54C    P0    N/A /  N/A |    214MiB /  2048MiB |      2%      Default |\n",
      "|                               |                      |                  N/A |\n",
      "+-------------------------------+----------------------+----------------------+\n",
      "                                                                               \n",
      "+-----------------------------------------------------------------------------+\n",
      "| Processes:                                                                  |\n",
      "|  GPU   GI   CI        PID   Type   Process name                  GPU Memory |\n",
      "|        ID   ID                                                   Usage      |\n",
      "|=============================================================================|\n",
      "|    0   N/A  N/A      8184    C+G   ...ser\\Application\\brave.exe    N/A      |\n",
      "+-----------------------------------------------------------------------------+\n"
     ]
    }
   ],
   "source": [
    "!nvidia-smi"
   ]
  },
  {
   "cell_type": "code",
   "execution_count": null,
   "metadata": {},
   "outputs": [
    {
     "name": "stdout",
     "output_type": "stream",
     "text": [
      "nvcc: NVIDIA (R) Cuda compiler driver\n",
      "Copyright (c) 2005-2022 NVIDIA Corporation\n",
      "Built on Wed_Sep_21_10:41:10_Pacific_Daylight_Time_2022\n",
      "Cuda compilation tools, release 11.8, V11.8.89\n",
      "Build cuda_11.8.r11.8/compiler.31833905_0\n"
     ]
    }
   ],
   "source": [
    "!nvcc -V"
   ]
  },
  {
   "cell_type": "code",
   "execution_count": null,
   "metadata": {},
   "outputs": [
    {
     "name": "stdout",
     "output_type": "stream",
     "text": [
      "[name: \"/device:CPU:0\"\n",
      "device_type: \"CPU\"\n",
      "memory_limit: 268435456\n",
      "locality {\n",
      "}\n",
      "incarnation: 3053378521526046220\n",
      "xla_global_id: -1\n",
      ", name: \"/device:GPU:0\"\n",
      "device_type: \"GPU\"\n",
      "memory_limit: 1297474971\n",
      "locality {\n",
      "  bus_id: 1\n",
      "  links {\n",
      "  }\n",
      "}\n",
      "incarnation: 2118325974425920900\n",
      "physical_device_desc: \"device: 0, name: NVIDIA GeForce MX450, pci bus id: 0000:01:00.0, compute capability: 7.5\"\n",
      "xla_global_id: 416903419\n",
      "]\n"
     ]
    }
   ],
   "source": [
    "from tensorflow.python.client import device_lib\n",
    "print(device_lib.list_local_devices())"
   ]
  },
  {
   "cell_type": "code",
   "execution_count": 1,
   "metadata": {},
   "outputs": [],
   "source": [
    "# Keras e TF\n",
    "\n",
    "import tensorflow as tf \n",
    "from tensorflow import keras\n",
    "from tensorflow.keras.utils import load_img\n",
    "from keras.preprocessing.image import ImageDataGenerator\n",
    "from keras.models import Sequential\n",
    "from keras.layers import Conv2D, Conv1D, MaxPooling2D, Dense, Flatten, BatchNormalization, Activation, AveragePooling2D, Input, Flatten, Dropout\n",
    "from keras.callbacks import ModelCheckpoint, LearningRateScheduler\n",
    "from keras.callbacks import ReduceLROnPlateau\n",
    "from keras.regularizers import l2\n",
    "from keras import backend as K\n",
    "from keras.models import Model\n",
    "from keras import regularizers\n",
    "from tensorflow import initializers\n",
    "from keras.models import load_model\n",
    "from keras.layers import Activation\n",
    "\n",
    "from keras.layers import LSTM\n",
    "# from keras.layers.embeddings import Embedding\n",
    "from keras.preprocessing import sequence\n",
    "from keras.layers import TimeDistributed\n",
    "from keras.layers import LSTM\n",
    "\n",
    "\n",
    "# Sk-Learn\n",
    "from sklearn.metrics import classification_report, confusion_matrix\n",
    "from sklearn.model_selection import train_test_split\n",
    "from sklearn.metrics import classification_report,confusion_matrix\n",
    "\n",
    "# Image management\n",
    "import cv2\n",
    "\n",
    "#Utility\n",
    "from time import time\n",
    "import sys\n",
    "import os\n",
    "import glob2 as glob\n",
    "from matplotlib import pyplot as plt\n",
    "import seaborn as sns\n",
    "import numpy as np\n",
    "import pandas as pd\n",
    "from scipy.linalg import fractional_matrix_power\n",
    "import re\n",
    "from sklearn.utils import resample\n",
    "from sklearn.utils import shuffle\n",
    "from sklearn.utils import class_weight \n",
    "\n",
    "import pydot\n",
    "import pydotplus\n",
    "from pydotplus import graphviz"
   ]
  },
  {
   "cell_type": "markdown",
   "metadata": {},
   "source": [
    "# Class Imbalance"
   ]
  },
  {
   "cell_type": "markdown",
   "metadata": {},
   "source": [
    "Ci sono diverse metodi per trattare il problema delle classi sbilanciate: \n",
    "1)  **Undersamplig**: Si va a diminuire la classe maggioritaria portando allo stesso livello di quella minoritaria. Tale metodo comporta una notevole perdita di dati\n",
    "2)  **Data Augmentation**: Si potrebbe generare immagini per la classe minoritaria portandola allo stesso livello della classe maggioritari. Tale metodo ha lo svantaggio di distorcere in modo significativo le distribuzioni delle classi, dove la classe minoritaria è ora molto meno variabile. La classe maggioritaria avrebbe una ricca variazione, mentre la più piccola sarebbe costituita da molte immagini simili con piccole trasformazioni affini. Non è considerato un metodo convenzionale e molti lo sconsigliano\n",
    "3)  Sfruttare l'argomento **class_weight** di model.fit, che può essere utilizzato per far sì che il modello apprenda di più dalla classe minoritaria (si aggiunge una penalizzazione maggiore quando la ret sbaglia sulla classe minoritaria)\n",
    "4) **Image Generation** : Si usano le GAN per generare immagini ai fini di bilanciare le classi"
   ]
  },
  {
   "attachments": {},
   "cell_type": "markdown",
   "metadata": {},
   "source": [
    "# Undersampling"
   ]
  },
  {
   "cell_type": "code",
   "execution_count": 2,
   "metadata": {},
   "outputs": [],
   "source": [
    "os.chdir('C:/Users/marco/Desktop/Local_Documents/data/COVIDx-nosplit-resized-112')"
   ]
  },
  {
   "cell_type": "code",
   "execution_count": 53,
   "metadata": {},
   "outputs": [],
   "source": [
    "# Set visualization size for figures \n",
    "plt.rcParams['figure.figsize'] = [8,8] # width, height"
   ]
  },
  {
   "cell_type": "code",
   "execution_count": 4,
   "metadata": {},
   "outputs": [],
   "source": [
    "train_label =pd.read_csv('train_COVIDx9A_rebuilt.txt', sep = ' ', header=None)\n",
    "test_label = pd.read_csv('test_COVIDx9A_rebuilt.txt', sep= ' ', header=None)"
   ]
  },
  {
   "cell_type": "code",
   "execution_count": 5,
   "metadata": {},
   "outputs": [],
   "source": [
    "# Set column names and remove unnecessary ones\n",
    "\n",
    "train_label.columns=['img_path', 'label']\n",
    "\n",
    "test_label.columns=['img_path', 'label']"
   ]
  },
  {
   "cell_type": "code",
   "execution_count": 73,
   "metadata": {},
   "outputs": [
    {
     "data": {
      "text/html": [
       "<div>\n",
       "<style scoped>\n",
       "    .dataframe tbody tr th:only-of-type {\n",
       "        vertical-align: middle;\n",
       "    }\n",
       "\n",
       "    .dataframe tbody tr th {\n",
       "        vertical-align: top;\n",
       "    }\n",
       "\n",
       "    .dataframe thead th {\n",
       "        text-align: right;\n",
       "    }\n",
       "</style>\n",
       "<table border=\"1\" class=\"dataframe\">\n",
       "  <thead>\n",
       "    <tr style=\"text-align: right;\">\n",
       "      <th></th>\n",
       "      <th>img_path</th>\n",
       "      <th>label</th>\n",
       "    </tr>\n",
       "  </thead>\n",
       "  <tbody>\n",
       "    <tr>\n",
       "      <th>0</th>\n",
       "      <td>071d06607edf81d70c940e043bce34_jumbo.png</td>\n",
       "      <td>COVID-19</td>\n",
       "    </tr>\n",
       "    <tr>\n",
       "      <th>1</th>\n",
       "      <td>078d2e0b3e4fec1d603efb0e818c31_jumbo.png</td>\n",
       "      <td>COVID-19</td>\n",
       "    </tr>\n",
       "    <tr>\n",
       "      <th>2</th>\n",
       "      <td>08ed451c576ee00935ee178ec85c57_jumbo-1.png</td>\n",
       "      <td>COVID-19</td>\n",
       "    </tr>\n",
       "    <tr>\n",
       "      <th>3</th>\n",
       "      <td>0a6c60063b4bae4de001caaba306d1_jumbo.png</td>\n",
       "      <td>COVID-19</td>\n",
       "    </tr>\n",
       "    <tr>\n",
       "      <th>4</th>\n",
       "      <td>1-s2.png</td>\n",
       "      <td>COVID-19</td>\n",
       "    </tr>\n",
       "  </tbody>\n",
       "</table>\n",
       "</div>"
      ],
      "text/plain": [
       "                                     img_path     label\n",
       "0    071d06607edf81d70c940e043bce34_jumbo.png  COVID-19\n",
       "1    078d2e0b3e4fec1d603efb0e818c31_jumbo.png  COVID-19\n",
       "2  08ed451c576ee00935ee178ec85c57_jumbo-1.png  COVID-19\n",
       "3    0a6c60063b4bae4de001caaba306d1_jumbo.png  COVID-19\n",
       "4                                    1-s2.png  COVID-19"
      ]
     },
     "execution_count": 73,
     "metadata": {},
     "output_type": "execute_result"
    }
   ],
   "source": [
    "train_label.head(5)"
   ]
  },
  {
   "cell_type": "code",
   "execution_count": 72,
   "metadata": {},
   "outputs": [
    {
     "data": {
      "text/html": [
       "<div>\n",
       "<style scoped>\n",
       "    .dataframe tbody tr th:only-of-type {\n",
       "        vertical-align: middle;\n",
       "    }\n",
       "\n",
       "    .dataframe tbody tr th {\n",
       "        vertical-align: top;\n",
       "    }\n",
       "\n",
       "    .dataframe thead th {\n",
       "        text-align: right;\n",
       "    }\n",
       "</style>\n",
       "<table border=\"1\" class=\"dataframe\">\n",
       "  <thead>\n",
       "    <tr style=\"text-align: right;\">\n",
       "      <th></th>\n",
       "      <th>img_path</th>\n",
       "      <th>label</th>\n",
       "    </tr>\n",
       "  </thead>\n",
       "  <tbody>\n",
       "    <tr>\n",
       "      <th>0</th>\n",
       "      <td>MIDRC-RICORD-1C-419639-000002-10161-0.png</td>\n",
       "      <td>COVID-19</td>\n",
       "    </tr>\n",
       "    <tr>\n",
       "      <th>1</th>\n",
       "      <td>MIDRC-RICORD-1C-419639-000025-04760-0.png</td>\n",
       "      <td>COVID-19</td>\n",
       "    </tr>\n",
       "    <tr>\n",
       "      <th>2</th>\n",
       "      <td>MIDRC-RICORD-1C-419639-000025-17477-0.png</td>\n",
       "      <td>COVID-19</td>\n",
       "    </tr>\n",
       "    <tr>\n",
       "      <th>3</th>\n",
       "      <td>MIDRC-RICORD-1C-419639-000025-39552-0.png</td>\n",
       "      <td>COVID-19</td>\n",
       "    </tr>\n",
       "    <tr>\n",
       "      <th>4</th>\n",
       "      <td>MIDRC-RICORD-1C-419639-000025-39552-1.png</td>\n",
       "      <td>COVID-19</td>\n",
       "    </tr>\n",
       "  </tbody>\n",
       "</table>\n",
       "</div>"
      ],
      "text/plain": [
       "                                    img_path     label\n",
       "0  MIDRC-RICORD-1C-419639-000002-10161-0.png  COVID-19\n",
       "1  MIDRC-RICORD-1C-419639-000025-04760-0.png  COVID-19\n",
       "2  MIDRC-RICORD-1C-419639-000025-17477-0.png  COVID-19\n",
       "3  MIDRC-RICORD-1C-419639-000025-39552-0.png  COVID-19\n",
       "4  MIDRC-RICORD-1C-419639-000025-39552-1.png  COVID-19"
      ]
     },
     "execution_count": 72,
     "metadata": {},
     "output_type": "execute_result"
    }
   ],
   "source": [
    "test_label.head(5)"
   ]
  },
  {
   "cell_type": "code",
   "execution_count": 7,
   "metadata": {},
   "outputs": [],
   "source": [
    "# # Rimuovo l'estensione e uniformo tutto a .png\n",
    "# train_label['img_path'] = train_label['img_path'].apply(lambda x: re.sub(r'\\.[^.]*$', '.png', x))\n",
    "\n",
    "# # Stampa il risultato\n",
    "# print(train_label['img_path'].head(15))"
   ]
  },
  {
   "cell_type": "code",
   "execution_count": 8,
   "metadata": {},
   "outputs": [
    {
     "data": {
      "text/plain": [
       "COVID-19     15774\n",
       "normal        8085\n",
       "pneumonia     5545\n",
       "Name: label, dtype: int64"
      ]
     },
     "execution_count": 8,
     "metadata": {},
     "output_type": "execute_result"
    }
   ],
   "source": [
    "train_label['label'].value_counts()"
   ]
  },
  {
   "cell_type": "code",
   "execution_count": 9,
   "metadata": {},
   "outputs": [
    {
     "data": {
      "text/plain": [
       "<AxesSubplot: xlabel='label', ylabel='Count'>"
      ]
     },
     "execution_count": 9,
     "metadata": {},
     "output_type": "execute_result"
    },
    {
     "data": {
      "image/png": "[encoded data removed]",
      "text/plain": [
       "<Figure size 500x500 with 1 Axes>"
      ]
     },
     "metadata": {},
     "output_type": "display_data"
    }
   ],
   "source": [
    "sns.histplot(train_label['label'], discrete=True)"
   ]
  },
  {
   "attachments": {},
   "cell_type": "markdown",
   "metadata": {},
   "source": [
    "Andiamo a diminuire le classe maggioritarie (COVID-19, normal) portandole allo stesso livello della classe minoritaria, ovvero 5555"
   ]
  },
  {
   "cell_type": "code",
   "execution_count": 74,
   "metadata": {},
   "outputs": [],
   "source": [
    "COVID_19  = train_label[train_label['label']=='COVID-19']   #negative values in label column\n",
    "normal = train_label[train_label['label']=='normal']  #positive values in label column\n",
    "pneumonia = train_label[train_label['label']=='pneumonia']\n",
    "\n",
    "df_COVID_19 = resample(COVID_19, replace = True, n_samples = 5545)\n",
    "df_normal = resample(normal, replace = True, n_samples = 5545)\n",
    "\n",
    "train_label_under = pd.concat([pneumonia, df_COVID_19, df_normal])\n",
    "\n",
    "train_label_under = shuffle(train_label_under) "
   ]
  },
  {
   "cell_type": "code",
   "execution_count": 75,
   "metadata": {},
   "outputs": [
    {
     "data": {
      "text/plain": [
       "normal       5545\n",
       "pneumonia    5545\n",
       "COVID-19     5545\n",
       "Name: label, dtype: int64"
      ]
     },
     "execution_count": 75,
     "metadata": {},
     "output_type": "execute_result"
    }
   ],
   "source": [
    "train_label_under['label'].value_counts()"
   ]
  },
  {
   "cell_type": "code",
   "execution_count": 12,
   "metadata": {},
   "outputs": [],
   "source": [
    "train_label_under, val_label_under = train_test_split(train_label_under, train_size=0.8, random_state=0)"
   ]
  },
  {
   "cell_type": "code",
   "execution_count": 13,
   "metadata": {},
   "outputs": [
    {
     "name": "stdout",
     "output_type": "stream",
     "text": [
      "Negative and positive values of train: \n",
      " normal       4476\n",
      "pneumonia    4435\n",
      "COVID-19     4397\n",
      "Name: label, dtype: int64\n",
      "Negative and positive values of validation:\n",
      " COVID-19     1148\n",
      "pneumonia    1110\n",
      "normal       1069\n",
      "Name: label, dtype: int64\n",
      "Negative and positive values of test: \n",
      "COVID-19     200\n",
      "normal       100\n",
      "pneumonia    100\n",
      "Name: label, dtype: int64\n"
     ]
    }
   ],
   "source": [
    "print(f\"Negative and positive values of train: \\n {train_label_under['label'].value_counts()}\")\n",
    "print(f\"Negative and positive values of validation:\\n {val_label_under['label'].value_counts()}\")\n",
    "print(f\"Negative and positive values of test: \\n{test_label['label'].value_counts()}\")"
   ]
  },
  {
   "attachments": {},
   "cell_type": "markdown",
   "metadata": {},
   "source": [
    "# Model"
   ]
  },
  {
   "attachments": {},
   "cell_type": "markdown",
   "metadata": {},
   "source": [
    "## Image generation + Positional-based Data Augmentation"
   ]
  },
  {
   "attachments": {},
   "cell_type": "markdown",
   "metadata": {},
   "source": [
    "Per la parte di data augmentation viene seguito quanto fatto da Linda Wang, Zhong Qiu Lin & Alexander Wong1 in https://www.ncbi.nlm.nih.gov/pmc/articles/PMC7658227/pdf/41598_2020_Article_76550.pdf\n",
    "\n",
    "Data pre-processing details.\n",
    "\n",
    "The COVIDx dataset was used to train all tested deep neural network architectures.\n",
    "\n",
    "...data augmentation was leveraged with the following augmentation types: \n",
    "-   translation (± 10% in x and y directions)\n",
    "-   rotation (± 10. )\n",
    "-   horizontal flip, zoom (± 15%)\n",
    "-   and intensity shift (± 10%)..."
   ]
  },
  {
   "cell_type": "code",
   "execution_count": 76,
   "metadata": {},
   "outputs": [],
   "source": [
    "target_size = (112,112) # Target size\n",
    "batch_size = 32 # Batch size\n",
    "\n",
    "train_path = './train'\n",
    "test_path = './test'   "
   ]
  },
  {
   "cell_type": "code",
   "execution_count": 15,
   "metadata": {},
   "outputs": [],
   "source": [
    "train_datagen = ImageDataGenerator(rescale=1./255.,\n",
    "                                    rotation_range=10,\n",
    "                                    width_shift_range=0.1,\n",
    "                                    height_shift_range=0.1,\n",
    "                                    horizontal_flip=True,\n",
    "                                    brightness_range=(0.9, 1.1),\n",
    "                                    zoom_range=(0.85, 1.15),\n",
    "                                    fill_mode='constant',\n",
    "                                    cval=0.)\n",
    "test_datagen = ImageDataGenerator(rescale=1./255.)"
   ]
  },
  {
   "cell_type": "code",
   "execution_count": 16,
   "metadata": {},
   "outputs": [
    {
     "name": "stdout",
     "output_type": "stream",
     "text": [
      "Found 13308 validated image filenames belonging to 3 classes.\n"
     ]
    }
   ],
   "source": [
    "#Training set\n",
    "\n",
    "train_data = train_datagen.flow_from_dataframe(\n",
    "dataframe=train_label_under,\n",
    "directory=train_path,\n",
    "x_col=\"img_path\",\n",
    "y_col=\"label\",\n",
    "batch_size=batch_size,\n",
    "seed=123,\n",
    "shuffle=True,\n",
    "class_mode=\"categorical\",\n",
    "target_size=target_size)"
   ]
  },
  {
   "cell_type": "code",
   "execution_count": 17,
   "metadata": {},
   "outputs": [
    {
     "name": "stdout",
     "output_type": "stream",
     "text": [
      "Found 3327 validated image filenames belonging to 3 classes.\n"
     ]
    }
   ],
   "source": [
    "# Validation set\n",
    "validation_data = test_datagen.flow_from_dataframe(\n",
    "dataframe=val_label_under,\n",
    "directory=train_path,\n",
    "x_col=\"img_path\",\n",
    "y_col=\"label\",\n",
    "batch_size=batch_size,\n",
    "seed=123,\n",
    "shuffle=True,\n",
    "class_mode=\"categorical\",\n",
    "target_size=target_size)"
   ]
  },
  {
   "cell_type": "code",
   "execution_count": 87,
   "metadata": {},
   "outputs": [
    {
     "name": "stdout",
     "output_type": "stream",
     "text": [
      "Found 397 validated image filenames belonging to 3 classes.\n"
     ]
    },
    {
     "name": "stderr",
     "output_type": "stream",
     "text": [
      "c:\\Users\\marco\\miniconda3\\envs\\tf\\lib\\site-packages\\keras\\preprocessing\\image.py:1139: UserWarning: Found 3 invalid image filename(s) in x_col=\"img_path\". These filename(s) will be ignored.\n",
      "  warnings.warn(\n"
     ]
    }
   ],
   "source": [
    "# Test set\n",
    "test_data = test_datagen.flow_from_dataframe(\n",
    "dataframe=test_label,\n",
    "directory=test_path,\n",
    "x_col=\"img_path\",\n",
    "y_col=\"label\",\n",
    "batch_size=batch_size,\n",
    "seed=123,\n",
    "shuffle=False,\n",
    "class_mode='categorical',\n",
    "target_size=target_size)"
   ]
  },
  {
   "cell_type": "code",
   "execution_count": 65,
   "metadata": {},
   "outputs": [
    {
     "name": "stdout",
     "output_type": "stream",
     "text": [
      "{'COVID-19': 0, 'normal': 1, 'pneumonia': 2}\n"
     ]
    }
   ],
   "source": [
    "class_names = train_data.class_indices\n",
    "print(class_names)"
   ]
  },
  {
   "cell_type": "code",
   "execution_count": 80,
   "metadata": {},
   "outputs": [
    {
     "data": {
      "text/plain": [
       "{'COVID-19': 0, 'normal': 1, 'pneumonia': 2}"
      ]
     },
     "execution_count": 80,
     "metadata": {},
     "output_type": "execute_result"
    }
   ],
   "source": [
    "validation_data.class_indices"
   ]
  },
  {
   "cell_type": "code",
   "execution_count": 85,
   "metadata": {},
   "outputs": [
    {
     "data": {
      "text/plain": [
       "{'COVID-19': 0, 'normal': 1, 'pneumonia': 2}"
      ]
     },
     "execution_count": 85,
     "metadata": {},
     "output_type": "execute_result"
    }
   ],
   "source": [
    "test_data.class_indices"
   ]
  },
  {
   "attachments": {},
   "cell_type": "markdown",
   "metadata": {},
   "source": [
    "## Definizione dell'architettura"
   ]
  },
  {
   "cell_type": "code",
   "execution_count": 20,
   "metadata": {},
   "outputs": [],
   "source": [
    "#Definizione del CallBacks: Early stopper sulla loss di validazione\n",
    "early_stopper = tf.keras.callbacks.EarlyStopping(monitor='val_loss', patience=100)"
   ]
  },
  {
   "cell_type": "code",
   "execution_count": 34,
   "metadata": {},
   "outputs": [],
   "source": [
    "version = \"v1\"\n",
    "img_size = '112'\n",
    "checkpoint_filepath = f'C:/Users/marco/Desktop/Local_Documents/models/Undersampling_Augmentation/dcnn_model_{img_size}_{version}_val_acc_best.hdf5'\n",
    "model_checkpoint_callback = tf.keras.callbacks.ModelCheckpoint(\n",
    "    filepath=checkpoint_filepath,\n",
    "    monitor='val_accuracy',\n",
    "    mode='max',\n",
    "    save_best_only=True)"
   ]
  },
  {
   "cell_type": "code",
   "execution_count": 35,
   "metadata": {},
   "outputs": [],
   "source": [
    "num_classes = 3\n",
    "inputs = keras.Input((112,112,3))\n",
    "\n",
    "x = inputs\n",
    "\n",
    "x = keras.layers.Conv2D(16, 3, padding =\"same\", strides=1)(x)\n",
    "x = keras.layers.Activation('relu')(x)\n",
    "x = keras.layers.BatchNormalization()(x)\n",
    "\n",
    "x = keras.layers.Conv2D(32, 3,  padding =\"same\", strides=1)(x)\n",
    "x = keras.layers.Activation('relu')(x)\n",
    "x = keras.layers.MaxPooling2D(pool_size=(3,3), strides=(3,3))(x)\n",
    "x = keras.layers.Dropout(0.2)(x)\n",
    "\n",
    "x = keras.layers.Conv2D(64, 3,  padding =\"same\", strides=1)(x)\n",
    "x = keras.layers.Activation('relu')(x)\n",
    "x = keras.layers.BatchNormalization()(x)\n",
    "\n",
    "x = keras.layers.Conv2D(128, 2,  padding =\"same\", strides=1)(x)\n",
    "x = keras.layers.Activation('relu')(x)\n",
    "\n",
    "x = keras.layers.MaxPooling2D(pool_size=(2,2), strides=(3,3))(x)\n",
    "\n",
    "x = keras.layers.Dropout(0.2)(x)\n",
    "\n",
    "# x = keras.layers.GlobalMaxPool2D()(x)\n",
    "x = keras.layers.Flatten()(x)\n",
    "\n",
    "x = keras.layers.Dense(128, activation='relu')(x)\n",
    "x = keras.layers.Dropout(0.5)(x)\n",
    "\n",
    "# x = keras.layers.Dense(1000, activation='relu')(x)\n",
    "# x = keras.layers.Dropout(0.5)(x)\n",
    "\n",
    "outputs = keras.layers.Dense(num_classes, activation='softmax')(x)\n",
    "net_dcnn_112_down = keras.Model(inputs, outputs)\n",
    "\n"
   ]
  },
  {
   "cell_type": "code",
   "execution_count": 36,
   "metadata": {},
   "outputs": [
    {
     "name": "stdout",
     "output_type": "stream",
     "text": [
      "Model: \"model_3\"\n",
      "_________________________________________________________________\n",
      " Layer (type)                Output Shape              Param #   \n",
      "=================================================================\n",
      " input_4 (InputLayer)        [(None, 112, 112, 3)]     0         \n",
      "                                                                 \n",
      " conv2d_12 (Conv2D)          (None, 112, 112, 16)      448       \n",
      "                                                                 \n",
      " activation_12 (Activation)  (None, 112, 112, 16)      0         \n",
      "                                                                 \n",
      " batch_normalization_6 (Batc  (None, 112, 112, 16)     64        \n",
      " hNormalization)                                                 \n",
      "                                                                 \n",
      " conv2d_13 (Conv2D)          (None, 112, 112, 32)      4640      \n",
      "                                                                 \n",
      " activation_13 (Activation)  (None, 112, 112, 32)      0         \n",
      "                                                                 \n",
      " max_pooling2d_6 (MaxPooling  (None, 37, 37, 32)       0         \n",
      " 2D)                                                             \n",
      "                                                                 \n",
      " dropout_9 (Dropout)         (None, 37, 37, 32)        0         \n",
      "                                                                 \n",
      " conv2d_14 (Conv2D)          (None, 37, 37, 64)        18496     \n",
      "                                                                 \n",
      " activation_14 (Activation)  (None, 37, 37, 64)        0         \n",
      "                                                                 \n",
      " batch_normalization_7 (Batc  (None, 37, 37, 64)       256       \n",
      " hNormalization)                                                 \n",
      "                                                                 \n",
      " conv2d_15 (Conv2D)          (None, 37, 37, 128)       32896     \n",
      "                                                                 \n",
      " activation_15 (Activation)  (None, 37, 37, 128)       0         \n",
      "                                                                 \n",
      " max_pooling2d_7 (MaxPooling  (None, 12, 12, 128)      0         \n",
      " 2D)                                                             \n",
      "                                                                 \n",
      " dropout_10 (Dropout)        (None, 12, 12, 128)       0         \n",
      "                                                                 \n",
      " flatten_3 (Flatten)         (None, 18432)             0         \n",
      "                                                                 \n",
      " dense_6 (Dense)             (None, 128)               2359424   \n",
      "                                                                 \n",
      " dropout_11 (Dropout)        (None, 128)               0         \n",
      "                                                                 \n",
      " dense_7 (Dense)             (None, 3)                 387       \n",
      "                                                                 \n",
      "=================================================================\n",
      "Total params: 2,416,611\n",
      "Trainable params: 2,416,451\n",
      "Non-trainable params: 160\n",
      "_________________________________________________________________\n"
     ]
    }
   ],
   "source": [
    "net_dcnn_112_down.summary()"
   ]
  },
  {
   "cell_type": "code",
   "execution_count": 31,
   "metadata": {},
   "outputs": [],
   "source": [
    "METRICS = [ \n",
    "      keras.metrics.CategoricalAccuracy(name='accuracy'),\n",
    "      keras.metrics.Precision(name='precision'),\n",
    "      keras.metrics.Recall(name='recall'),\n",
    "      keras.metrics.AUC(name='auc'),\n",
    "      keras.metrics.TopKCategoricalAccuracy(name='top k accuracy'),\n",
    "]\n",
    "OPTIMIZER = keras.optimizers.Adam(learning_rate=0.0001)"
   ]
  },
  {
   "cell_type": "code",
   "execution_count": 46,
   "metadata": {},
   "outputs": [
    {
     "name": "stdout",
     "output_type": "stream",
     "text": [
      "415\n",
      "103\n"
     ]
    }
   ],
   "source": [
    "# batch size \n",
    "step_per_epoch_train = len(train_label_under) // batch_size\n",
    "print(step_per_epoch_train)\n",
    "step_per_epoch_val = len(val_label_under) // batch_size\n",
    "print(step_per_epoch_val)"
   ]
  },
  {
   "cell_type": "code",
   "execution_count": 47,
   "metadata": {},
   "outputs": [],
   "source": [
    "net_dcnn_112_down.compile(loss=keras.losses.categorical_crossentropy,\n",
    "            optimizer = OPTIMIZER,\n",
    "            metrics=METRICS)"
   ]
  },
  {
   "cell_type": "code",
   "execution_count": 50,
   "metadata": {},
   "outputs": [
    {
     "name": "stdout",
     "output_type": "stream",
     "text": [
      "Epoch 1/50\n"
     ]
    },
    {
     "name": "stderr",
     "output_type": "stream",
     "text": [
      "C:\\Users\\marco\\AppData\\Local\\Temp\\ipykernel_23468\\1817942326.py:1: UserWarning: `Model.fit_generator` is deprecated and will be removed in a future version. Please use `Model.fit`, which supports generators.\n",
      "  history_dcnn = net_dcnn_112_down.fit_generator(train_data,\n"
     ]
    },
    {
     "name": "stdout",
     "output_type": "stream",
     "text": [
      "415/415 [==============================] - 38s 89ms/step - loss: 0.6858 - accuracy: 0.6860 - precision: 0.7614 - recall: 0.5691 - auc: 0.8623 - top k accuracy: 1.0000 - val_loss: 1.4222 - val_accuracy: 0.4845 - val_precision: 0.4998 - val_recall: 0.4506 - val_auc: 0.7192 - val_top k accuracy: 1.0000\n",
      "Epoch 2/50\n",
      "415/415 [==============================] - 38s 90ms/step - loss: 0.6390 - accuracy: 0.7205 - precision: 0.7734 - recall: 0.6338 - auc: 0.8874 - top k accuracy: 1.0000 - val_loss: 1.3797 - val_accuracy: 0.5518 - val_precision: 0.5802 - val_recall: 0.5167 - val_auc: 0.7472 - val_top k accuracy: 1.0000\n",
      "Epoch 3/50\n",
      "415/415 [==============================] - 36s 87ms/step - loss: 0.6148 - accuracy: 0.7405 - precision: 0.7901 - recall: 0.6638 - auc: 0.8979 - top k accuracy: 1.0000 - val_loss: 0.8915 - val_accuracy: 0.6682 - val_precision: 0.7011 - val_recall: 0.6035 - val_auc: 0.8268 - val_top k accuracy: 1.0000\n",
      "Epoch 4/50\n",
      "415/415 [==============================] - 40s 95ms/step - loss: 0.5836 - accuracy: 0.7544 - precision: 0.7942 - recall: 0.6869 - auc: 0.9074 - top k accuracy: 1.0000 - val_loss: 1.1537 - val_accuracy: 0.5852 - val_precision: 0.6159 - val_recall: 0.5485 - val_auc: 0.7819 - val_top k accuracy: 1.0000\n",
      "Epoch 5/50\n",
      "415/415 [==============================] - 38s 90ms/step - loss: 0.5685 - accuracy: 0.7629 - precision: 0.8089 - recall: 0.7034 - auc: 0.9137 - top k accuracy: 1.0000 - val_loss: 0.7999 - val_accuracy: 0.7087 - val_precision: 0.7389 - val_recall: 0.6610 - val_auc: 0.8631 - val_top k accuracy: 1.0000\n",
      "Epoch 6/50\n",
      "415/415 [==============================] - 57s 138ms/step - loss: 0.5506 - accuracy: 0.7744 - precision: 0.8167 - recall: 0.7115 - auc: 0.9185 - top k accuracy: 1.0000 - val_loss: 1.0921 - val_accuracy: 0.6014 - val_precision: 0.6659 - val_recall: 0.5476 - val_auc: 0.7982 - val_top k accuracy: 1.0000\n",
      "Epoch 7/50\n",
      "415/415 [==============================] - 47s 112ms/step - loss: 0.5343 - accuracy: 0.7832 - precision: 0.8225 - recall: 0.7297 - auc: 0.9239 - top k accuracy: 1.0000 - val_loss: 0.8484 - val_accuracy: 0.6757 - val_precision: 0.7004 - val_recall: 0.6360 - val_auc: 0.8510 - val_top k accuracy: 1.0000\n",
      "Epoch 8/50\n",
      "415/415 [==============================] - 47s 112ms/step - loss: 0.5120 - accuracy: 0.7901 - precision: 0.8279 - recall: 0.7419 - auc: 0.9303 - top k accuracy: 1.0000 - val_loss: 0.6733 - val_accuracy: 0.7433 - val_precision: 0.7740 - val_recall: 0.6988 - val_auc: 0.8944 - val_top k accuracy: 1.0000\n",
      "Epoch 9/50\n",
      "415/415 [==============================] - 45s 108ms/step - loss: 0.4944 - accuracy: 0.8006 - precision: 0.8348 - recall: 0.7560 - auc: 0.9347 - top k accuracy: 1.0000 - val_loss: 0.7424 - val_accuracy: 0.7187 - val_precision: 0.7509 - val_recall: 0.6670 - val_auc: 0.8796 - val_top k accuracy: 1.0000\n",
      "Epoch 10/50\n",
      "415/415 [==============================] - 39s 92ms/step - loss: 0.4894 - accuracy: 0.8033 - precision: 0.8395 - recall: 0.7616 - auc: 0.9363 - top k accuracy: 1.0000 - val_loss: 0.5995 - val_accuracy: 0.7580 - val_precision: 0.8001 - val_recall: 0.6955 - val_auc: 0.9086 - val_top k accuracy: 1.0000\n",
      "Epoch 11/50\n",
      "415/415 [==============================] - 41s 98ms/step - loss: 0.4803 - accuracy: 0.8096 - precision: 0.8428 - recall: 0.7651 - auc: 0.9390 - top k accuracy: 1.0000 - val_loss: 0.7834 - val_accuracy: 0.7262 - val_precision: 0.7565 - val_recall: 0.6892 - val_auc: 0.8845 - val_top k accuracy: 1.0000\n",
      "Epoch 12/50\n",
      "415/415 [==============================] - 43s 103ms/step - loss: 0.4687 - accuracy: 0.8141 - precision: 0.8443 - recall: 0.7704 - auc: 0.9418 - top k accuracy: 1.0000 - val_loss: 0.9084 - val_accuracy: 0.7277 - val_precision: 0.7439 - val_recall: 0.7072 - val_auc: 0.8774 - val_top k accuracy: 1.0000\n",
      "Epoch 13/50\n",
      "415/415 [==============================] - 36s 87ms/step - loss: 0.4528 - accuracy: 0.8182 - precision: 0.8517 - recall: 0.7733 - auc: 0.9456 - top k accuracy: 1.0000 - val_loss: 0.8853 - val_accuracy: 0.6658 - val_precision: 0.7094 - val_recall: 0.6324 - val_auc: 0.8587 - val_top k accuracy: 1.0000\n",
      "Epoch 14/50\n",
      "415/415 [==============================] - 37s 89ms/step - loss: 0.4515 - accuracy: 0.8249 - precision: 0.8531 - recall: 0.7796 - auc: 0.9461 - top k accuracy: 1.0000 - val_loss: 1.1069 - val_accuracy: 0.6057 - val_precision: 0.6332 - val_recall: 0.5771 - val_auc: 0.8182 - val_top k accuracy: 1.0000\n",
      "Epoch 15/50\n",
      "415/415 [==============================] - 38s 90ms/step - loss: 0.4386 - accuracy: 0.8259 - precision: 0.8574 - recall: 0.7883 - auc: 0.9490 - top k accuracy: 1.0000 - val_loss: 0.8445 - val_accuracy: 0.6820 - val_precision: 0.7223 - val_recall: 0.6318 - val_auc: 0.8636 - val_top k accuracy: 1.0000\n",
      "Epoch 16/50\n",
      "415/415 [==============================] - 42s 101ms/step - loss: 0.4253 - accuracy: 0.8385 - precision: 0.8651 - recall: 0.8000 - auc: 0.9522 - top k accuracy: 1.0000 - val_loss: 1.0630 - val_accuracy: 0.6673 - val_precision: 0.6870 - val_recall: 0.6354 - val_auc: 0.8445 - val_top k accuracy: 1.0000\n",
      "Epoch 17/50\n",
      "415/415 [==============================] - 42s 101ms/step - loss: 0.4285 - accuracy: 0.8336 - precision: 0.8605 - recall: 0.7989 - auc: 0.9514 - top k accuracy: 1.0000 - val_loss: 2.0967 - val_accuracy: 0.4866 - val_precision: 0.5035 - val_recall: 0.4746 - val_auc: 0.7182 - val_top k accuracy: 1.0000\n",
      "Epoch 18/50\n",
      "415/415 [==============================] - 43s 103ms/step - loss: 0.4194 - accuracy: 0.8424 - precision: 0.8686 - recall: 0.8068 - auc: 0.9533 - top k accuracy: 1.0000 - val_loss: 0.6178 - val_accuracy: 0.7905 - val_precision: 0.8146 - val_recall: 0.7674 - val_auc: 0.9196 - val_top k accuracy: 1.0000\n",
      "Epoch 19/50\n",
      "415/415 [==============================] - 42s 101ms/step - loss: 0.4159 - accuracy: 0.8417 - precision: 0.8659 - recall: 0.8069 - auc: 0.9542 - top k accuracy: 1.0000 - val_loss: 2.3184 - val_accuracy: 0.4644 - val_precision: 0.4746 - val_recall: 0.4548 - val_auc: 0.7020 - val_top k accuracy: 1.0000\n",
      "Epoch 20/50\n",
      "415/415 [==============================] - 48s 116ms/step - loss: 0.4072 - accuracy: 0.8437 - precision: 0.8686 - recall: 0.8078 - auc: 0.9559 - top k accuracy: 1.0000 - val_loss: 0.9124 - val_accuracy: 0.6982 - val_precision: 0.7227 - val_recall: 0.6691 - val_auc: 0.8659 - val_top k accuracy: 1.0000\n",
      "Epoch 21/50\n",
      "415/415 [==============================] - 56s 134ms/step - loss: 0.4054 - accuracy: 0.8448 - precision: 0.8718 - recall: 0.8110 - auc: 0.9565 - top k accuracy: 1.0000 - val_loss: 0.6960 - val_accuracy: 0.7430 - val_precision: 0.7820 - val_recall: 0.7093 - val_auc: 0.8997 - val_top k accuracy: 1.0000\n",
      "Epoch 22/50\n",
      "415/415 [==============================] - 54s 131ms/step - loss: 0.4088 - accuracy: 0.8465 - precision: 0.8769 - recall: 0.8099 - auc: 0.9562 - top k accuracy: 1.0000 - val_loss: 0.7321 - val_accuracy: 0.7418 - val_precision: 0.7826 - val_recall: 0.6967 - val_auc: 0.8961 - val_top k accuracy: 1.0000\n",
      "Epoch 23/50\n",
      "415/415 [==============================] - 50s 120ms/step - loss: 0.3935 - accuracy: 0.8491 - precision: 0.8755 - recall: 0.8145 - auc: 0.9586 - top k accuracy: 1.0000 - val_loss: 0.5161 - val_accuracy: 0.8139 - val_precision: 0.8399 - val_recall: 0.7932 - val_auc: 0.9375 - val_top k accuracy: 1.0000\n",
      "Epoch 24/50\n",
      "415/415 [==============================] - 56s 134ms/step - loss: 0.3957 - accuracy: 0.8451 - precision: 0.8726 - recall: 0.8167 - auc: 0.9582 - top k accuracy: 1.0000 - val_loss: 0.6424 - val_accuracy: 0.7619 - val_precision: 0.7964 - val_recall: 0.7277 - val_auc: 0.9098 - val_top k accuracy: 1.0000\n",
      "Epoch 25/50\n",
      "415/415 [==============================] - 56s 134ms/step - loss: 0.3919 - accuracy: 0.8524 - precision: 0.8770 - recall: 0.8173 - auc: 0.9591 - top k accuracy: 1.0000 - val_loss: 0.7731 - val_accuracy: 0.7130 - val_precision: 0.7373 - val_recall: 0.6883 - val_auc: 0.8892 - val_top k accuracy: 1.0000\n",
      "Epoch 26/50\n",
      "415/415 [==============================] - 54s 130ms/step - loss: 0.3891 - accuracy: 0.8537 - precision: 0.8762 - recall: 0.8219 - auc: 0.9598 - top k accuracy: 1.0000 - val_loss: 0.9791 - val_accuracy: 0.6619 - val_precision: 0.6915 - val_recall: 0.6345 - val_auc: 0.8541 - val_top k accuracy: 1.0000\n",
      "Epoch 27/50\n",
      "415/415 [==============================] - 57s 137ms/step - loss: 0.3870 - accuracy: 0.8549 - precision: 0.8782 - recall: 0.8258 - auc: 0.9601 - top k accuracy: 1.0000 - val_loss: 0.4622 - val_accuracy: 0.8341 - val_precision: 0.8592 - val_recall: 0.8085 - val_auc: 0.9468 - val_top k accuracy: 1.0000\n",
      "Epoch 28/50\n",
      "415/415 [==============================] - 60s 143ms/step - loss: 0.3830 - accuracy: 0.8550 - precision: 0.8760 - recall: 0.8277 - auc: 0.9606 - top k accuracy: 1.0000 - val_loss: 1.1754 - val_accuracy: 0.6279 - val_precision: 0.6455 - val_recall: 0.6041 - val_auc: 0.8201 - val_top k accuracy: 1.0000\n",
      "Epoch 29/50\n",
      "415/415 [==============================] - 63s 150ms/step - loss: 0.3786 - accuracy: 0.8594 - precision: 0.8813 - recall: 0.8310 - auc: 0.9617 - top k accuracy: 1.0000 - val_loss: 1.0238 - val_accuracy: 0.6892 - val_precision: 0.7059 - val_recall: 0.6522 - val_auc: 0.8539 - val_top k accuracy: 1.0000\n",
      "Epoch 30/50\n",
      "415/415 [==============================] - 62s 148ms/step - loss: 0.3732 - accuracy: 0.8605 - precision: 0.8818 - recall: 0.8320 - auc: 0.9628 - top k accuracy: 1.0000 - val_loss: 1.1069 - val_accuracy: 0.6546 - val_precision: 0.6711 - val_recall: 0.6336 - val_auc: 0.8380 - val_top k accuracy: 1.0000\n",
      "Epoch 31/50\n",
      "415/415 [==============================] - 62s 149ms/step - loss: 0.3709 - accuracy: 0.8621 - precision: 0.8842 - recall: 0.8317 - auc: 0.9632 - top k accuracy: 1.0000 - val_loss: 0.8052 - val_accuracy: 0.7136 - val_precision: 0.7295 - val_recall: 0.6979 - val_auc: 0.8834 - val_top k accuracy: 1.0000\n",
      "Epoch 32/50\n",
      "415/415 [==============================] - 62s 148ms/step - loss: 0.3730 - accuracy: 0.8593 - precision: 0.8791 - recall: 0.8303 - auc: 0.9625 - top k accuracy: 1.0000 - val_loss: 0.7343 - val_accuracy: 0.7361 - val_precision: 0.7531 - val_recall: 0.7078 - val_auc: 0.8945 - val_top k accuracy: 1.0000\n",
      "Epoch 33/50\n",
      "415/415 [==============================] - 63s 150ms/step - loss: 0.3697 - accuracy: 0.8557 - precision: 0.8785 - recall: 0.8277 - auc: 0.9632 - top k accuracy: 1.0000 - val_loss: 0.6792 - val_accuracy: 0.7749 - val_precision: 0.7914 - val_recall: 0.7535 - val_auc: 0.9108 - val_top k accuracy: 1.0000\n",
      "Epoch 34/50\n",
      "415/415 [==============================] - 62s 149ms/step - loss: 0.3664 - accuracy: 0.8634 - precision: 0.8861 - recall: 0.8341 - auc: 0.9640 - top k accuracy: 1.0000 - val_loss: 0.8881 - val_accuracy: 0.7184 - val_precision: 0.7383 - val_recall: 0.6910 - val_auc: 0.8793 - val_top k accuracy: 1.0000\n",
      "Epoch 35/50\n",
      "415/415 [==============================] - 62s 149ms/step - loss: 0.3610 - accuracy: 0.8661 - precision: 0.8874 - recall: 0.8373 - auc: 0.9652 - top k accuracy: 1.0000 - val_loss: 0.7447 - val_accuracy: 0.7532 - val_precision: 0.7687 - val_recall: 0.7361 - val_auc: 0.9074 - val_top k accuracy: 1.0000\n",
      "Epoch 36/50\n",
      "415/415 [==============================] - 63s 151ms/step - loss: 0.3656 - accuracy: 0.8666 - precision: 0.8866 - recall: 0.8406 - auc: 0.9641 - top k accuracy: 1.0000 - val_loss: 0.7596 - val_accuracy: 0.7277 - val_precision: 0.7617 - val_recall: 0.6946 - val_auc: 0.8888 - val_top k accuracy: 1.0000\n",
      "Epoch 37/50\n",
      "415/415 [==============================] - 62s 148ms/step - loss: 0.3511 - accuracy: 0.8658 - precision: 0.8849 - recall: 0.8418 - auc: 0.9663 - top k accuracy: 1.0000 - val_loss: 0.6769 - val_accuracy: 0.7953 - val_precision: 0.8153 - val_recall: 0.7764 - val_auc: 0.9179 - val_top k accuracy: 1.0000\n",
      "Epoch 38/50\n",
      "415/415 [==============================] - 62s 148ms/step - loss: 0.3559 - accuracy: 0.8674 - precision: 0.8849 - recall: 0.8427 - auc: 0.9657 - top k accuracy: 1.0000 - val_loss: 0.4820 - val_accuracy: 0.8362 - val_precision: 0.8522 - val_recall: 0.8212 - val_auc: 0.9473 - val_top k accuracy: 1.0000\n",
      "Epoch 39/50\n",
      "415/415 [==============================] - 68s 163ms/step - loss: 0.3454 - accuracy: 0.8701 - precision: 0.8884 - recall: 0.8494 - auc: 0.9678 - top k accuracy: 1.0000 - val_loss: 2.0850 - val_accuracy: 0.4953 - val_precision: 0.5042 - val_recall: 0.4860 - val_auc: 0.7321 - val_top k accuracy: 1.0000\n",
      "Epoch 40/50\n",
      "415/415 [==============================] - 63s 151ms/step - loss: 0.3558 - accuracy: 0.8647 - precision: 0.8848 - recall: 0.8399 - auc: 0.9661 - top k accuracy: 1.0000 - val_loss: 1.5403 - val_accuracy: 0.5993 - val_precision: 0.6081 - val_recall: 0.5756 - val_auc: 0.7805 - val_top k accuracy: 1.0000\n",
      "Epoch 41/50\n",
      "415/415 [==============================] - 62s 149ms/step - loss: 0.3460 - accuracy: 0.8674 - precision: 0.8872 - recall: 0.8445 - auc: 0.9676 - top k accuracy: 1.0000 - val_loss: 0.4960 - val_accuracy: 0.8338 - val_precision: 0.8550 - val_recall: 0.8049 - val_auc: 0.9444 - val_top k accuracy: 1.0000\n",
      "Epoch 42/50\n",
      "415/415 [==============================] - 62s 148ms/step - loss: 0.3479 - accuracy: 0.8684 - precision: 0.8883 - recall: 0.8460 - auc: 0.9676 - top k accuracy: 1.0000 - val_loss: 0.9448 - val_accuracy: 0.6841 - val_precision: 0.7040 - val_recall: 0.6592 - val_auc: 0.8582 - val_top k accuracy: 1.0000\n",
      "Epoch 43/50\n",
      "415/415 [==============================] - 62s 149ms/step - loss: 0.3402 - accuracy: 0.8712 - precision: 0.8891 - recall: 0.8502 - auc: 0.9687 - top k accuracy: 1.0000 - val_loss: 0.6130 - val_accuracy: 0.7932 - val_precision: 0.8187 - val_recall: 0.7695 - val_auc: 0.9246 - val_top k accuracy: 1.0000\n",
      "Epoch 44/50\n",
      "415/415 [==============================] - 62s 149ms/step - loss: 0.3449 - accuracy: 0.8702 - precision: 0.8892 - recall: 0.8460 - auc: 0.9680 - top k accuracy: 1.0000 - val_loss: 1.6648 - val_accuracy: 0.5416 - val_precision: 0.5534 - val_recall: 0.5263 - val_auc: 0.7628 - val_top k accuracy: 1.0000\n",
      "Epoch 45/50\n",
      "415/415 [==============================] - 62s 148ms/step - loss: 0.3350 - accuracy: 0.8722 - precision: 0.8896 - recall: 0.8503 - auc: 0.9694 - top k accuracy: 1.0000 - val_loss: 0.7059 - val_accuracy: 0.7674 - val_precision: 0.7836 - val_recall: 0.7490 - val_auc: 0.9100 - val_top k accuracy: 1.0000\n",
      "Epoch 46/50\n",
      "415/415 [==============================] - 62s 148ms/step - loss: 0.3406 - accuracy: 0.8713 - precision: 0.8890 - recall: 0.8488 - auc: 0.9684 - top k accuracy: 1.0000 - val_loss: 0.6406 - val_accuracy: 0.8028 - val_precision: 0.8147 - val_recall: 0.7848 - val_auc: 0.9235 - val_top k accuracy: 1.0000\n",
      "Epoch 47/50\n",
      "415/415 [==============================] - 62s 149ms/step - loss: 0.3350 - accuracy: 0.8756 - precision: 0.8924 - recall: 0.8548 - auc: 0.9696 - top k accuracy: 1.0000 - val_loss: 0.6620 - val_accuracy: 0.7896 - val_precision: 0.7997 - val_recall: 0.7812 - val_auc: 0.9250 - val_top k accuracy: 1.0000\n",
      "Epoch 48/50\n",
      "415/415 [==============================] - 63s 150ms/step - loss: 0.3310 - accuracy: 0.8759 - precision: 0.8919 - recall: 0.8555 - auc: 0.9703 - top k accuracy: 1.0000 - val_loss: 0.9326 - val_accuracy: 0.6904 - val_precision: 0.7151 - val_recall: 0.6616 - val_auc: 0.8668 - val_top k accuracy: 1.0000\n",
      "Epoch 49/50\n",
      "415/415 [==============================] - 62s 149ms/step - loss: 0.3262 - accuracy: 0.8776 - precision: 0.8954 - recall: 0.8597 - auc: 0.9712 - top k accuracy: 1.0000 - val_loss: 0.9629 - val_accuracy: 0.7115 - val_precision: 0.7231 - val_recall: 0.6985 - val_auc: 0.8691 - val_top k accuracy: 1.0000\n",
      "Epoch 50/50\n",
      "415/415 [==============================] - 62s 149ms/step - loss: 0.3360 - accuracy: 0.8758 - precision: 0.8938 - recall: 0.8549 - auc: 0.9696 - top k accuracy: 1.0000 - val_loss: 0.5568 - val_accuracy: 0.8061 - val_precision: 0.8266 - val_recall: 0.7821 - val_auc: 0.9306 - val_top k accuracy: 1.0000\n"
     ]
    }
   ],
   "source": [
    "history_dcnn = net_dcnn_112_down.fit_generator(train_data,\n",
    "          epochs=50,\n",
    "          steps_per_epoch=step_per_epoch_train,\n",
    "          validation_data=validation_data,\n",
    "          validation_steps=step_per_epoch_val,\n",
    "          workers = 3,\n",
    "          callbacks=[model_checkpoint_callback, early_stopper])"
   ]
  },
  {
   "cell_type": "code",
   "execution_count": 51,
   "metadata": {},
   "outputs": [],
   "source": [
    "np.save(f'C:/Users/marco/Desktop/Local_Documents/models/Undersampling_Augmentation/dcnn_history_{img_size}_{version}.npy',\n",
    "        history_dcnn.history)"
   ]
  },
  {
   "cell_type": "code",
   "execution_count": 55,
   "metadata": {},
   "outputs": [
    {
     "data": {
      "text/plain": [
       "<matplotlib.legend.Legend at 0x134ba78a070>"
      ]
     },
     "execution_count": 55,
     "metadata": {},
     "output_type": "execute_result"
    },
    {
     "data": {
      "image/png": "[encoded data removed]",
      "text/plain": [
       "<Figure size 800x800 with 2 Axes>"
      ]
     },
     "metadata": {},
     "output_type": "display_data"
    }
   ],
   "source": [
    "# Visualization of the learning curves\n",
    "\n",
    "# Loss\n",
    "plt.subplot(1, 2, 1)\n",
    "plt.plot(history_dcnn.history['loss'])\n",
    "plt.plot(history_dcnn.history['val_loss'])\n",
    "plt.xlabel('Epoch')\n",
    "plt.ylabel('Loss')\n",
    "plt.legend(['train', 'validation'])\n",
    "\n",
    "# Accuracy\n",
    "plt.subplot(1, 2, 2)\n",
    "plt.plot(history_dcnn.history['accuracy'])\n",
    "plt.plot(history_dcnn.history['val_accuracy'])\n",
    "plt.xlabel('Epoch')\n",
    "plt.ylabel('Accuracy')\n",
    "plt.legend(['train', 'validation'])"
   ]
  },
  {
   "cell_type": "code",
   "execution_count": 88,
   "metadata": {},
   "outputs": [
    {
     "name": "stdout",
     "output_type": "stream",
     "text": [
      "13/13 [==============================] - 1s 54ms/step - loss: 0.4988 - accuracy: 0.8438 - precision: 0.8713 - recall: 0.8186 - auc: 0.9484 - top k accuracy: 1.0000\n",
      "Test loss: 0.4987522065639496\n",
      "Test accuracy: 0.8438287377357483\n"
     ]
    }
   ],
   "source": [
    "# Evaluation\n",
    "score = net_dcnn_112_down.evaluate(test_data)\n",
    "print('Test loss:', score[0])\n",
    "print('Test accuracy:', score[1])"
   ]
  }
 ],
 "metadata": {
  "kernelspec": {
   "display_name": "Python 3.8.16 ('tf')",
   "language": "python",
   "name": "python3"
  },
  "language_info": {
   "codemirror_mode": {
    "name": "ipython",
    "version": 3
   },
   "file_extension": ".py",
   "mimetype": "text/x-python",
   "name": "python",
   "nbconvert_exporter": "python",
   "pygments_lexer": "ipython3",
   "version": "3.8.16"
  },
  "orig_nbformat": 4,
  "vscode": {
   "interpreter": {
    "hash": "4a44bbf2a83640dfde2344ebe838e4635fa18e86f31ce321969bab99fe559bce"
   }
  }
 },
 "nbformat": 4,
 "nbformat_minor": 2
}
