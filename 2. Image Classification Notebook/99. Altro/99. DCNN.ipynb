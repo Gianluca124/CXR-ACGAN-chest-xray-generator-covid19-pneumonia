{
 "cells": [
  {
   "cell_type": "markdown",
   "metadata": {},
   "source": [
    "# Preliminary operation and Import Packages"
   ]
  },
  {
   "cell_type": "markdown",
   "metadata": {},
   "source": [
    "2.9 version of TensorFlow/Keras, because some data augmentation techniques are particularly slow"
   ]
  },
  {
   "cell_type": "code",
   "execution_count": null,
   "metadata": {},
   "outputs": [],
   "source": [
    "%pip install tensorflow-gpu==2.8.3 \n",
    "%pip install -U scikit-learn"
   ]
  },
  {
   "cell_type": "code",
   "execution_count": null,
   "metadata": {},
   "outputs": [
    {
     "name": "stdout",
     "output_type": "stream",
     "text": [
      "Mon Feb  6 21:40:24 2023       \n",
      "+-----------------------------------------------------------------------------+\n",
      "| NVIDIA-SMI 528.24       Driver Version: 528.24       CUDA Version: 12.0     |\n",
      "|-------------------------------+----------------------+----------------------+\n",
      "| GPU  Name            TCC/WDDM | Bus-Id        Disp.A | Volatile Uncorr. ECC |\n",
      "| Fan  Temp  Perf  Pwr:Usage/Cap|         Memory-Usage | GPU-Util  Compute M. |\n",
      "|                               |                      |               MIG M. |\n",
      "|===============================+======================+======================|\n",
      "|   0  NVIDIA GeForce ... WDDM  | 00000000:01:00.0 Off |                  N/A |\n",
      "| N/A   54C    P0    N/A /  N/A |    214MiB /  2048MiB |      2%      Default |\n",
      "|                               |                      |                  N/A |\n",
      "+-------------------------------+----------------------+----------------------+\n",
      "                                                                               \n",
      "+-----------------------------------------------------------------------------+\n",
      "| Processes:                                                                  |\n",
      "|  GPU   GI   CI        PID   Type   Process name                  GPU Memory |\n",
      "|        ID   ID                                                   Usage      |\n",
      "|=============================================================================|\n",
      "|    0   N/A  N/A      8184    C+G   ...ser\\Application\\brave.exe    N/A      |\n",
      "+-----------------------------------------------------------------------------+\n"
     ]
    }
   ],
   "source": [
    "!nvidia-smi"
   ]
  },
  {
   "cell_type": "code",
   "execution_count": null,
   "metadata": {},
   "outputs": [
    {
     "name": "stdout",
     "output_type": "stream",
     "text": [
      "nvcc: NVIDIA (R) Cuda compiler driver\n",
      "Copyright (c) 2005-2022 NVIDIA Corporation\n",
      "Built on Wed_Sep_21_10:41:10_Pacific_Daylight_Time_2022\n",
      "Cuda compilation tools, release 11.8, V11.8.89\n",
      "Build cuda_11.8.r11.8/compiler.31833905_0\n"
     ]
    }
   ],
   "source": [
    "!nvcc -V"
   ]
  },
  {
   "cell_type": "code",
   "execution_count": null,
   "metadata": {},
   "outputs": [
    {
     "name": "stdout",
     "output_type": "stream",
     "text": [
      "[name: \"/device:CPU:0\"\n",
      "device_type: \"CPU\"\n",
      "memory_limit: 268435456\n",
      "locality {\n",
      "}\n",
      "incarnation: 3053378521526046220\n",
      "xla_global_id: -1\n",
      ", name: \"/device:GPU:0\"\n",
      "device_type: \"GPU\"\n",
      "memory_limit: 1297474971\n",
      "locality {\n",
      "  bus_id: 1\n",
      "  links {\n",
      "  }\n",
      "}\n",
      "incarnation: 2118325974425920900\n",
      "physical_device_desc: \"device: 0, name: NVIDIA GeForce MX450, pci bus id: 0000:01:00.0, compute capability: 7.5\"\n",
      "xla_global_id: 416903419\n",
      "]\n"
     ]
    }
   ],
   "source": [
    "from tensorflow.python.client import device_lib\n",
    "print(device_lib.list_local_devices())"
   ]
  },
  {
   "cell_type": "code",
   "execution_count": null,
   "metadata": {},
   "outputs": [],
   "source": [
    "# Keras e TF\n",
    "\n",
    "import tensorflow as tf \n",
    "from tensorflow import keras\n",
    "from tensorflow.keras.utils import load_img\n",
    "from keras.preprocessing.image import ImageDataGenerator\n",
    "from keras.models import Sequential\n",
    "from keras.layers import Conv2D, Conv1D, MaxPooling2D, Dense, Flatten, BatchNormalization, Activation, AveragePooling2D, Input, Flatten, Dropout\n",
    "from keras.callbacks import ModelCheckpoint, LearningRateScheduler\n",
    "from keras.callbacks import ReduceLROnPlateau\n",
    "from keras.regularizers import l2\n",
    "from keras import backend as K\n",
    "from keras.models import Model\n",
    "from keras import regularizers\n",
    "from tensorflow import initializers\n",
    "from keras.layers import LSTM\n",
    "# from keras.layers.embeddings import Embedding\n",
    "from keras.preprocessing import sequence\n",
    "from keras.layers import TimeDistributed\n",
    "from keras.layers import LSTM\n",
    "from keras.models import load_model\n",
    "from keras.layers import Activation\n",
    "\n",
    "# Sk-Learn\n",
    "from sklearn.metrics import classification_report, confusion_matrix\n",
    "from sklearn.model_selection import train_test_split\n",
    "from sklearn.metrics import classification_report,confusion_matrix\n",
    "\n",
    "# Image management\n",
    "import cv2\n",
    "\n",
    "from time import time\n",
    "import sys\n",
    "import os\n",
    "import glob2 as glob\n",
    "from matplotlib import pyplot as plt\n",
    "import seaborn as sns\n",
    "import numpy as np\n",
    "import pandas as pd\n",
    "from scipy.linalg import fractional_matrix_power\n",
    "\n",
    "from sklearn.utils import resample\n",
    "from sklearn.utils import shuffle\n",
    "from sklearn.utils import class_weight \n",
    "\n",
    "import pydot\n",
    "import pydotplus\n",
    "from pydotplus import graphviz"
   ]
  },
  {
   "cell_type": "code",
   "execution_count": null,
   "metadata": {},
   "outputs": [],
   "source": [
    "# Set visualization size for figures \n",
    "plt.rcParams['figure.figsize'] = [10,10] # width, height"
   ]
  },
  {
   "cell_type": "markdown",
   "metadata": {},
   "source": [
    "## Images generator w\\AGC & w\\pre-processing size 224x224"
   ]
  },
  {
   "cell_type": "markdown",
   "metadata": {},
   "source": [
    "### Image generator"
   ]
  },
  {
   "cell_type": "code",
   "execution_count": null,
   "metadata": {},
   "outputs": [],
   "source": [
    "batch_size = 32 # Batch size\n",
    "\n",
    "train_path_gc_224 = 'C:\\\\Users\\\\marco\\\\Desktop\\\\Local_Documents\\\\data\\\\COVIDx-splitted-resized\\\\train_agc_process'\n",
    "test_path_224 = 'C:\\\\Users\\\\marco\\\\Desktop\\\\Local_Documents\\\\data\\\\COVIDx-splitted-resized\\\\test' \n",
    "\n",
    "train_datagen_gc_224 = ImageDataGenerator(rescale=1./255., validation_split=0.2)\n",
    "test_datagen_gc_224 = ImageDataGenerator(rescale=1./255.)"
   ]
  },
  {
   "cell_type": "code",
   "execution_count": null,
   "metadata": {},
   "outputs": [
    {
     "name": "stdout",
     "output_type": "stream",
     "text": [
      "Found 23524 images belonging to 3 classes.\n"
     ]
    }
   ],
   "source": [
    "train_generator_gc_224 = train_datagen_gc_224.flow_from_directory(\n",
    "        train_path_gc_224,  \n",
    "        target_size=(224, 224),  # Lo inserisco per precauzione\n",
    "        batch_size=batch_size,\n",
    "        seed=123,\n",
    "        shuffle=True,\n",
    "        subset='training',\n",
    "        class_mode='categorical')"
   ]
  },
  {
   "cell_type": "code",
   "execution_count": null,
   "metadata": {},
   "outputs": [
    {
     "data": {
      "text/plain": [
       "{'COVID-19': 0, 'normal': 1, 'pneumonia': 2}"
      ]
     },
     "metadata": {},
     "output_type": "display_data"
    }
   ],
   "source": [
    "train_generator_gc_224.class_indices"
   ]
  },
  {
   "cell_type": "code",
   "execution_count": null,
   "metadata": {},
   "outputs": [
    {
     "name": "stdout",
     "output_type": "stream",
     "text": [
      "Found 5880 images belonging to 3 classes.\n"
     ]
    }
   ],
   "source": [
    "validation_generator_gc_224 = train_datagen_gc_224.flow_from_directory(\n",
    "        train_path_gc_224,  \n",
    "        target_size=(224, 224),  # Lo inserisco per precauzione\n",
    "        batch_size=batch_size,\n",
    "        seed=123,\n",
    "        shuffle=True,\n",
    "        subset='validation',\n",
    "        class_mode='categorical')"
   ]
  },
  {
   "cell_type": "code",
   "execution_count": null,
   "metadata": {},
   "outputs": [
    {
     "name": "stdout",
     "output_type": "stream",
     "text": [
      "Found 400 images belonging to 3 classes.\n"
     ]
    }
   ],
   "source": [
    "# Test set\n",
    "test_generator_gc_224 = test_datagen_gc_224.flow_from_directory(\n",
    "        test_path_224,  \n",
    "        target_size=(224, 224),  # Lo inserisco per precauzione\n",
    "        batch_size=batch_size,\n",
    "        shuffle=True,\n",
    "        class_mode='categorical')"
   ]
  },
  {
   "cell_type": "markdown",
   "metadata": {},
   "source": [
    "### Class Weights"
   ]
  },
  {
   "cell_type": "markdown",
   "metadata": {},
   "source": [
    "Attribuisco una penalizzazione maggiore quando il modello sbaglia sulla classe minore"
   ]
  },
  {
   "cell_type": "code",
   "execution_count": null,
   "metadata": {},
   "outputs": [
    {
     "name": "stdout",
     "output_type": "stream",
     "text": [
      "{0: 0.6213417855256207, 1: 1.212327355184498, 2: 1.76765855124737}\n"
     ]
    }
   ],
   "source": [
    "class_weights = class_weight.compute_class_weight(\n",
    "            class_weight= 'balanced',\n",
    "            classes = np.unique(train_datagen_gc_224.classes), \n",
    "            y = train_datagen_gc_224.classes)\n",
    "train_class_weights_224 = dict(enumerate(class_weights))\n",
    "print(train_class_weights_224"
   ]
  },
  {
   "cell_type": "markdown",
   "metadata": {},
   "source": [
    "## Images generator w\\AGC size 112x112"
   ]
  },
  {
   "cell_type": "markdown",
   "metadata": {},
   "source": [
    "### Image generator"
   ]
  },
  {
   "cell_type": "code",
   "execution_count": null,
   "metadata": {},
   "outputs": [],
   "source": [
    "batch_size = 32 # Batch size\n",
    "\n",
    "train_path_gc_112 = 'C:\\\\Users\\\\marco\\\\Desktop\\\\Local_Documents\\\\data\\\\COVIDx-splitted-resized-112\\\\train_agc'\n",
    "test_path_112 = 'C:\\\\Users\\\\marco\\\\Desktop\\\\Local_Documents\\\\data\\\\COVIDx-splitted-resized-112\\\\test' \n",
    "\n",
    "train_datagen_gc_112 = ImageDataGenerator(rescale=1./255., validation_split=0.2)\n",
    "test_datagen_gc_112 = ImageDataGenerator(rescale=1./255.)"
   ]
  },
  {
   "cell_type": "code",
   "execution_count": null,
   "metadata": {},
   "outputs": [
    {
     "name": "stdout",
     "output_type": "stream",
     "text": [
      "Found 23524 images belonging to 3 classes.\n"
     ]
    }
   ],
   "source": [
    "train_generator_gc_112 = train_datagen_gc_112.flow_from_directory(\n",
    "        train_path_gc_112,  \n",
    "        target_size=(112, 112),  # Lo inserisco per precauzione\n",
    "        batch_size=batch_size,\n",
    "        seed=123,\n",
    "        shuffle=True,\n",
    "        subset='training',\n",
    "        class_mode='categorical')"
   ]
  },
  {
   "cell_type": "code",
   "execution_count": null,
   "metadata": {},
   "outputs": [
    {
     "data": {
      "text/plain": [
       "{'COVID-19': 0, 'normal': 1, 'pneumonia': 2}"
      ]
     },
     "metadata": {},
     "output_type": "display_data"
    }
   ],
   "source": [
    "train_generator_gc_112.class_indices"
   ]
  },
  {
   "cell_type": "code",
   "execution_count": null,
   "metadata": {},
   "outputs": [
    {
     "name": "stdout",
     "output_type": "stream",
     "text": [
      "Found 5880 images belonging to 3 classes.\n"
     ]
    }
   ],
   "source": [
    "validation_generator_gc_112 = train_datagen_gc_112.flow_from_directory(\n",
    "        train_path_gc_112,  \n",
    "        target_size=(112, 112),  # Lo inserisco per precauzione\n",
    "        batch_size=batch_size,\n",
    "        seed=123,\n",
    "        shuffle=True,\n",
    "        subset='validation',\n",
    "        class_mode='categorical')"
   ]
  },
  {
   "cell_type": "code",
   "execution_count": null,
   "metadata": {},
   "outputs": [
    {
     "name": "stdout",
     "output_type": "stream",
     "text": [
      "Found 400 images belonging to 3 classes.\n"
     ]
    }
   ],
   "source": [
    "# Test set\n",
    "test_generator_gc_112 = test_datagen_gc_112.flow_from_directory(\n",
    "        test_path_112,  \n",
    "        target_size=(112,112),  # Lo inserisco per precauzione\n",
    "        batch_size=batch_size,\n",
    "        shuffle=True,\n",
    "        class_mode='categorical')"
   ]
  },
  {
   "cell_type": "markdown",
   "metadata": {},
   "source": [
    "### Class Weights (-> Class Imbalance prolem)"
   ]
  },
  {
   "cell_type": "markdown",
   "metadata": {},
   "source": [
    "Attribuisco una penalizzazione maggiore quando il modello sbaglia sulla classe minore"
   ]
  },
  {
   "cell_type": "code",
   "execution_count": null,
   "metadata": {},
   "outputs": [
    {
     "name": "stdout",
     "output_type": "stream",
     "text": [
      "{0: 0.6213417855256207, 1: 1.212327355184498, 2: 1.76765855124737}\n"
     ]
    }
   ],
   "source": [
    "class_weights = class_weight.compute_class_weight(\n",
    "            class_weight= 'balanced',\n",
    "            classes = np.unique(train_generator_gc_112.classes), \n",
    "            y = train_generator_gc_112.classes)\n",
    "train_class_weights_112 = dict(enumerate(class_weights))\n",
    "print(train_class_weights_112)"
   ]
  },
  {
   "attachments": {},
   "cell_type": "markdown",
   "metadata": {},
   "source": [
    "# Models"
   ]
  },
  {
   "cell_type": "code",
   "execution_count": null,
   "metadata": {},
   "outputs": [],
   "source": [
    "#Definizione del CallBacks: Early stopper sulla loss di validazione\n",
    "early_stopper = tf.keras.callbacks.EarlyStopping(monitor='val_loss', patience=100)"
   ]
  },
  {
   "cell_type": "markdown",
   "metadata": {},
   "source": [
    "### w\\AGC & Pre-processing 224x224"
   ]
  },
  {
   "cell_type": "code",
   "execution_count": null,
   "metadata": {},
   "outputs": [],
   "source": [
    "version = \"v1\"\n",
    "arc = \"a1\"\n",
    "checkpoint_filepath = f'C:/Users/marco/Desktop/Local_Documents/models/dcnn_model_224_{version}_{arc}_val_acc_best.hdf5'\n",
    "model_checkpoint_callback = tf.keras.callbacks.ModelCheckpoint(\n",
    "    filepath=checkpoint_filepath,\n",
    "    monitor='val_accuracy',\n",
    "    mode='max',\n",
    "    save_best_only=True)"
   ]
  },
  {
   "cell_type": "code",
   "execution_count": null,
   "metadata": {},
   "outputs": [],
   "source": [
    "num_classes = 3\n",
    "inputs = keras.Input((224,224,3))\n",
    "\n",
    "x = inputs\n",
    "\n",
    "x = keras.layers.Conv2D(16, 3, padding =\"same\", strides=1)(x)\n",
    "x = keras.layers.Activation('relu')(x)\n",
    "x = keras.layers.BatchNormalization()(x)\n",
    "\n",
    "x = keras.layers.Conv2D(32, 3,  padding =\"same\", strides=1)(x)\n",
    "x = keras.layers.Activation('relu')(x)\n",
    "x = keras.layers.MaxPooling2D(pool_size=(3,3), strides=(3,3))(x)\n",
    "x = keras.layers.Dropout(0.2)(x)\n",
    "\n",
    "x = keras.layers.Conv2D(64, 3,  padding =\"same\", strides=1)(x)\n",
    "x = keras.layers.Activation('relu')(x)\n",
    "x = keras.layers.BatchNormalization()(x)\n",
    "\n",
    "x = keras.layers.Conv2D(128, 2,  padding =\"same\", strides=1)(x)\n",
    "x = keras.layers.Activation('relu')(x)\n",
    "\n",
    "x = keras.layers.MaxPooling2D(pool_size=(2,2), strides=(3,3))(x)\n",
    "\n",
    "x = keras.layers.Dropout(0.2)(x)\n",
    "\n",
    "# x = keras.layers.GlobalMaxPool2D()(x)\n",
    "x = keras.layers.Flatten()(x)\n",
    "\n",
    "x = keras.layers.Dense(128, activation='relu')(x)\n",
    "x = keras.layers.Dropout(0.5)(x)\n",
    "\n",
    "# x = keras.layers.Dense(1000, activation='relu')(x)\n",
    "# x = keras.layers.Dropout(0.5)(x)\n",
    "\n",
    "outputs = keras.layers.Dense(num_classes, activation='softmax')(x)\n",
    "net_dcnn_224 = keras.Model(inputs, outputs)\n",
    "\n"
   ]
  },
  {
   "cell_type": "code",
   "execution_count": null,
   "metadata": {},
   "outputs": [
    {
     "name": "stdout",
     "output_type": "stream",
     "text": [
      "Model: \"model_7\"\n",
      "_________________________________________________________________\n",
      " Layer (type)                Output Shape              Param #   \n",
      "=================================================================\n",
      " input_9 (InputLayer)        [(None, 224, 224, 3)]     0         \n",
      "                                                                 \n",
      " conv2d_29 (Conv2D)          (None, 224, 224, 16)      448       \n",
      "                                                                 \n",
      " activation_28 (Activation)  (None, 224, 224, 16)      0         \n",
      "                                                                 \n",
      " batch_normalization_14 (Bat  (None, 224, 224, 16)     64        \n",
      " chNormalization)                                                \n",
      "                                                                 \n",
      " conv2d_30 (Conv2D)          (None, 224, 224, 32)      4640      \n",
      "                                                                 \n",
      " activation_29 (Activation)  (None, 224, 224, 32)      0         \n",
      "                                                                 \n",
      " max_pooling2d_14 (MaxPoolin  (None, 74, 74, 32)       0         \n",
      " g2D)                                                            \n",
      "                                                                 \n",
      " dropout_21 (Dropout)        (None, 74, 74, 32)        0         \n",
      "                                                                 \n",
      " conv2d_31 (Conv2D)          (None, 74, 74, 64)        18496     \n",
      "                                                                 \n",
      " activation_30 (Activation)  (None, 74, 74, 64)        0         \n",
      "                                                                 \n",
      " batch_normalization_15 (Bat  (None, 74, 74, 64)       256       \n",
      " chNormalization)                                                \n",
      "                                                                 \n",
      " conv2d_32 (Conv2D)          (None, 74, 74, 128)       32896     \n",
      "                                                                 \n",
      " activation_31 (Activation)  (None, 74, 74, 128)       0         \n",
      "                                                                 \n",
      " max_pooling2d_15 (MaxPoolin  (None, 25, 25, 128)      0         \n",
      " g2D)                                                            \n",
      "                                                                 \n",
      " dropout_22 (Dropout)        (None, 25, 25, 128)       0         \n",
      "                                                                 \n",
      " flatten_7 (Flatten)         (None, 80000)             0         \n",
      "                                                                 \n",
      " dense_14 (Dense)            (None, 128)               10240128  \n",
      "                                                                 \n",
      " dropout_23 (Dropout)        (None, 128)               0         \n",
      "                                                                 \n",
      " dense_15 (Dense)            (None, 3)                 387       \n",
      "                                                                 \n",
      "=================================================================\n",
      "Total params: 10,297,315\n",
      "Trainable params: 10,297,155\n",
      "Non-trainable params: 160\n",
      "_________________________________________________________________\n"
     ]
    }
   ],
   "source": [
    "net_dcnn_224.summary()"
   ]
  },
  {
   "cell_type": "code",
   "execution_count": null,
   "metadata": {},
   "outputs": [],
   "source": [
    "METRICS = [ \n",
    "      keras.metrics.CategoricalAccuracy(name='accuracy'),\n",
    "      keras.metrics.Precision(name='precision'),\n",
    "      keras.metrics.Recall(name='recall'),\n",
    "      keras.metrics.AUC(name='auc'),\n",
    "]\n",
    "OPTIMIZER = keras.optimizers.Adam(learning_rate=0.0001)"
   ]
  },
  {
   "cell_type": "code",
   "execution_count": null,
   "metadata": {},
   "outputs": [],
   "source": [
    "net_dcnn_224.compile(loss=keras.losses.categorical_crossentropy,\n",
    "            optimizer = OPTIMIZER,\n",
    "            metrics=METRICS)"
   ]
  },
  {
   "cell_type": "code",
   "execution_count": null,
   "metadata": {},
   "outputs": [
    {
     "name": "stdout",
     "output_type": "stream",
     "text": [
      "Epoch 1/30\n",
      "736/736 [==============================] - 242s 328ms/step - loss: 0.8040 - accuracy: 0.6409 - precision: 0.7515 - recall: 0.5038 - auc: 0.8402 - val_loss: 0.4954 - val_accuracy: 0.8315 - val_precision: 0.8968 - val_recall: 0.7374 - val_auc: 0.9477\n",
      "Epoch 2/30\n",
      "736/736 [==============================] - 232s 315ms/step - loss: 0.6165 - accuracy: 0.7610 - precision: 0.8228 - recall: 0.6700 - auc: 0.9102 - val_loss: 0.3872 - val_accuracy: 0.8633 - val_precision: 0.9031 - val_recall: 0.8097 - val_auc: 0.9650\n",
      "Epoch 3/30\n",
      "736/736 [==============================] - 229s 311ms/step - loss: 0.5582 - accuracy: 0.7926 - precision: 0.8479 - recall: 0.7217 - auc: 0.9291 - val_loss: 0.3724 - val_accuracy: 0.8648 - val_precision: 0.9097 - val_recall: 0.8031 - val_auc: 0.9686\n",
      "Epoch 4/30\n",
      "736/736 [==============================] - 245s 333ms/step - loss: 0.5132 - accuracy: 0.8113 - precision: 0.8615 - recall: 0.7518 - auc: 0.9402 - val_loss: 0.4364 - val_accuracy: 0.8158 - val_precision: 0.8432 - val_recall: 0.7940 - val_auc: 0.9490\n",
      "Epoch 5/30\n",
      "736/736 [==============================] - 228s 310ms/step - loss: 0.4726 - accuracy: 0.8280 - precision: 0.8739 - recall: 0.7751 - auc: 0.9502 - val_loss: 0.4123 - val_accuracy: 0.8250 - val_precision: 0.8572 - val_recall: 0.7821 - val_auc: 0.9539\n",
      "Epoch 6/30\n",
      "736/736 [==============================] - 232s 315ms/step - loss: 0.4600 - accuracy: 0.8332 - precision: 0.8775 - recall: 0.7791 - auc: 0.9525 - val_loss: 0.3441 - val_accuracy: 0.8690 - val_precision: 0.8904 - val_recall: 0.8400 - val_auc: 0.9687\n",
      "Epoch 7/30\n",
      "736/736 [==============================] - 237s 322ms/step - loss: 0.4260 - accuracy: 0.8479 - precision: 0.8892 - recall: 0.8005 - auc: 0.9593 - val_loss: 0.2805 - val_accuracy: 0.9010 - val_precision: 0.9156 - val_recall: 0.8798 - val_auc: 0.9791\n",
      "Epoch 8/30\n",
      "736/736 [==============================] - 248s 336ms/step - loss: 0.4034 - accuracy: 0.8586 - precision: 0.8976 - recall: 0.8172 - auc: 0.9639 - val_loss: 0.3362 - val_accuracy: 0.8701 - val_precision: 0.8930 - val_recall: 0.8420 - val_auc: 0.9701\n",
      "Epoch 9/30\n",
      "736/736 [==============================] - 254s 345ms/step - loss: 0.3777 - accuracy: 0.8684 - precision: 0.9044 - recall: 0.8267 - auc: 0.9681 - val_loss: 0.2408 - val_accuracy: 0.9170 - val_precision: 0.9280 - val_recall: 0.9049 - val_auc: 0.9839\n",
      "Epoch 10/30\n",
      "736/736 [==============================] - 235s 319ms/step - loss: 0.3767 - accuracy: 0.8685 - precision: 0.9030 - recall: 0.8275 - auc: 0.9688 - val_loss: 0.2539 - val_accuracy: 0.9031 - val_precision: 0.9164 - val_recall: 0.8840 - val_auc: 0.9821\n",
      "Epoch 11/30\n",
      "736/736 [==============================] - 256s 348ms/step - loss: 0.3531 - accuracy: 0.8779 - precision: 0.9113 - recall: 0.8398 - auc: 0.9725 - val_loss: 0.2463 - val_accuracy: 0.9094 - val_precision: 0.9195 - val_recall: 0.8998 - val_auc: 0.9832\n",
      "Epoch 12/30\n",
      "736/736 [==============================] - 249s 338ms/step - loss: 0.3447 - accuracy: 0.8802 - precision: 0.9119 - recall: 0.8439 - auc: 0.9738 - val_loss: 0.2549 - val_accuracy: 0.9105 - val_precision: 0.9188 - val_recall: 0.9026 - val_auc: 0.9820\n",
      "Epoch 13/30\n",
      "736/736 [==============================] - 259s 352ms/step - loss: 0.3217 - accuracy: 0.8883 - precision: 0.9192 - recall: 0.8562 - auc: 0.9772 - val_loss: 0.2558 - val_accuracy: 0.9012 - val_precision: 0.9121 - val_recall: 0.8896 - val_auc: 0.9816\n",
      "Epoch 14/30\n",
      "736/736 [==============================] - 245s 332ms/step - loss: 0.3161 - accuracy: 0.8893 - precision: 0.9213 - recall: 0.8582 - auc: 0.9783 - val_loss: 0.2791 - val_accuracy: 0.8964 - val_precision: 0.9017 - val_recall: 0.8895 - val_auc: 0.9792\n",
      "Epoch 15/30\n",
      "736/736 [==============================] - 302s 411ms/step - loss: 0.3041 - accuracy: 0.8958 - precision: 0.9258 - recall: 0.8651 - auc: 0.9796 - val_loss: 0.2340 - val_accuracy: 0.9219 - val_precision: 0.9252 - val_recall: 0.9172 - val_auc: 0.9849\n",
      "Epoch 16/30\n",
      "736/736 [==============================] - 247s 336ms/step - loss: 0.2954 - accuracy: 0.8969 - precision: 0.9235 - recall: 0.8641 - auc: 0.9807 - val_loss: 0.4045 - val_accuracy: 0.8772 - val_precision: 0.8841 - val_recall: 0.8679 - val_auc: 0.9663\n",
      "Epoch 17/30\n",
      "736/736 [==============================] - 269s 366ms/step - loss: 0.2805 - accuracy: 0.9029 - precision: 0.9286 - recall: 0.8728 - auc: 0.9828 - val_loss: 0.4466 - val_accuracy: 0.8357 - val_precision: 0.8451 - val_recall: 0.8236 - val_auc: 0.9494\n",
      "Epoch 18/30\n",
      "736/736 [==============================] - 250s 340ms/step - loss: 0.2755 - accuracy: 0.9058 - precision: 0.9314 - recall: 0.8746 - auc: 0.9834 - val_loss: 0.2285 - val_accuracy: 0.9197 - val_precision: 0.9271 - val_recall: 0.9129 - val_auc: 0.9851\n",
      "Epoch 19/30\n",
      "736/736 [==============================] - 251s 341ms/step - loss: 0.2587 - accuracy: 0.9103 - precision: 0.9360 - recall: 0.8831 - auc: 0.9850 - val_loss: 0.3548 - val_accuracy: 0.8755 - val_precision: 0.8852 - val_recall: 0.8588 - val_auc: 0.9695\n",
      "Epoch 20/30\n",
      "736/736 [==============================] - 263s 357ms/step - loss: 0.2617 - accuracy: 0.9102 - precision: 0.9358 - recall: 0.8809 - auc: 0.9848 - val_loss: 0.3407 - val_accuracy: 0.8997 - val_precision: 0.9047 - val_recall: 0.8946 - val_auc: 0.9754\n",
      "Epoch 21/30\n",
      "736/736 [==============================] - 311s 423ms/step - loss: 0.2465 - accuracy: 0.9163 - precision: 0.9392 - recall: 0.8894 - auc: 0.9866 - val_loss: 0.3506 - val_accuracy: 0.8956 - val_precision: 0.8977 - val_recall: 0.8935 - val_auc: 0.9737\n",
      "Epoch 22/30\n",
      "736/736 [==============================] - 242s 329ms/step - loss: 0.2431 - accuracy: 0.9171 - precision: 0.9411 - recall: 0.8895 - auc: 0.9870 - val_loss: 0.2542 - val_accuracy: 0.9226 - val_precision: 0.9242 - val_recall: 0.9204 - val_auc: 0.9833\n",
      "Epoch 23/30\n",
      "736/736 [==============================] - 250s 339ms/step - loss: 0.2369 - accuracy: 0.9184 - precision: 0.9412 - recall: 0.8922 - auc: 0.9875 - val_loss: 0.2572 - val_accuracy: 0.9168 - val_precision: 0.9216 - val_recall: 0.9102 - val_auc: 0.9828\n",
      "Epoch 24/30\n",
      "736/736 [==============================] - 247s 336ms/step - loss: 0.2287 - accuracy: 0.9202 - precision: 0.9424 - recall: 0.8939 - auc: 0.9882 - val_loss: 0.2673 - val_accuracy: 0.9158 - val_precision: 0.9191 - val_recall: 0.9145 - val_auc: 0.9825\n",
      "Epoch 25/30\n",
      "736/736 [==============================] - 242s 328ms/step - loss: 0.2230 - accuracy: 0.9231 - precision: 0.9461 - recall: 0.8970 - auc: 0.9887 - val_loss: 0.3537 - val_accuracy: 0.8929 - val_precision: 0.8998 - val_recall: 0.8872 - val_auc: 0.9725\n",
      "Epoch 26/30\n",
      "736/736 [==============================] - 233s 316ms/step - loss: 0.2086 - accuracy: 0.9281 - precision: 0.9495 - recall: 0.9031 - auc: 0.9902 - val_loss: 0.3641 - val_accuracy: 0.8973 - val_precision: 0.9041 - val_recall: 0.8918 - val_auc: 0.9719\n",
      "Epoch 27/30\n",
      "736/736 [==============================] - 248s 337ms/step - loss: 0.2110 - accuracy: 0.9291 - precision: 0.9488 - recall: 0.9043 - auc: 0.9900 - val_loss: 0.5684 - val_accuracy: 0.8553 - val_precision: 0.8652 - val_recall: 0.8481 - val_auc: 0.9541\n",
      "Epoch 28/30\n",
      "736/736 [==============================] - 295s 401ms/step - loss: 0.2080 - accuracy: 0.9289 - precision: 0.9513 - recall: 0.9025 - auc: 0.9903 - val_loss: 0.2781 - val_accuracy: 0.9141 - val_precision: 0.9164 - val_recall: 0.9111 - val_auc: 0.9809\n",
      "Epoch 29/30\n",
      "736/736 [==============================] - 265s 359ms/step - loss: 0.2021 - accuracy: 0.9305 - precision: 0.9520 - recall: 0.9043 - auc: 0.9905 - val_loss: 0.7091 - val_accuracy: 0.8173 - val_precision: 0.8237 - val_recall: 0.8134 - val_auc: 0.9379\n",
      "Epoch 30/30\n",
      "736/736 [==============================] - 284s 386ms/step - loss: 0.2131 - accuracy: 0.9250 - precision: 0.9508 - recall: 0.9017 - auc: 0.9892 - val_loss: 0.2552 - val_accuracy: 0.9219 - val_precision: 0.9248 - val_recall: 0.9156 - val_auc: 0.9829\n"
     ]
    }
   ],
   "source": [
    "history_dcnn = net_dcnn_224.fit(train_generator_gc_224,\n",
    "          epochs=30,\n",
    "          validation_data=validation_generator_gc_224,\n",
    "          class_weight = train_class_weights_224,\n",
    "          workers = 1,\n",
    "          callbacks=[model_checkpoint_callback, early_stopper])"
   ]
  },
  {
   "cell_type": "code",
   "execution_count": null,
   "metadata": {},
   "outputs": [],
   "source": [
    "np.save(f'C:/Users/marco/Desktop/Local_Documents/models/dcnn_acg_prepro_224_{version}_{arc}.npy',\n",
    "        history_dcnn.history)"
   ]
  },
  {
   "cell_type": "code",
   "execution_count": null,
   "metadata": {},
   "outputs": [
    {
     "data": {
      "text/plain": [
       "<matplotlib.legend.Legend at 0x1972de7d370>"
      ]
     },
     "metadata": {},
     "output_type": "display_data"
    },
    {
     "data": {
      "image/png": "[encoded data removed]",
      "text/plain": [
       "<Figure size 640x480 with 2 Axes>"
      ]
     },
     "metadata": {},
     "output_type": "display_data"
    }
   ],
   "source": [
    "# Visualization of the learning curves\n",
    "\n",
    "# Loss\n",
    "plt.subplot(1, 2, 1)\n",
    "plt.plot(history_dcnn.history['loss'])\n",
    "plt.plot(history_dcnn.history['val_loss'])\n",
    "plt.xlabel('Epoch')\n",
    "plt.ylabel('Loss')\n",
    "plt.legend(['train', 'test'])\n",
    "\n",
    "# Accuracy\n",
    "plt.subplot(1, 2, 2)\n",
    "plt.plot(history_dcnn.history['accuracy'])\n",
    "plt.plot(history_dcnn.history['val_accuracy'])\n",
    "plt.xlabel('Epoch')\n",
    "plt.ylabel('Accuracy')\n",
    "plt.legend(['train', 'test'])"
   ]
  },
  {
   "cell_type": "markdown",
   "metadata": {},
   "source": [
    "### w\\AGC  112x112"
   ]
  },
  {
   "cell_type": "code",
   "execution_count": null,
   "metadata": {},
   "outputs": [],
   "source": [
    "num_classes = 3\n",
    "inputs = keras.Input((112,112,3))\n",
    "\n",
    "x = inputs\n",
    "\n",
    "x = keras.layers.Conv2D(16, 3, padding =\"same\", strides=1)(x)\n",
    "x = keras.layers.Activation('relu')(x)\n",
    "x = keras.layers.BatchNormalization()(x)\n",
    "\n",
    "x = keras.layers.Conv2D(32, 3,  padding =\"same\", strides=1)(x)\n",
    "x = keras.layers.Activation('relu')(x)\n",
    "x = keras.layers.MaxPooling2D(pool_size=(3,3), strides=(3,3))(x)\n",
    "x = keras.layers.Dropout(0.2)(x)\n",
    "\n",
    "x = keras.layers.Conv2D(64, 3,  padding =\"same\", strides=1)(x)\n",
    "x = keras.layers.Activation('relu')(x)\n",
    "x = keras.layers.BatchNormalization()(x)\n",
    "\n",
    "x = keras.layers.Conv2D(128, 2,  padding =\"same\", strides=1)(x)\n",
    "x = keras.layers.Activation('relu')(x)\n",
    "\n",
    "x = keras.layers.MaxPooling2D(pool_size=(2,2), strides=(3,3))(x)\n",
    "\n",
    "x = keras.layers.Dropout(0.2)(x)\n",
    "\n",
    "# x = keras.layers.GlobalMaxPool2D()(x)\n",
    "x = keras.layers.Flatten()(x)\n",
    "\n",
    "x = keras.layers.Dense(128, activation='relu')(x)\n",
    "x = keras.layers.Dropout(0.5)(x)\n",
    "\n",
    "# x = keras.layers.Dense(1000, activation='relu')(x)\n",
    "# x = keras.layers.Dropout(0.5)(x)\n",
    "\n",
    "outputs = keras.layers.Dense(num_classes, activation='softmax')(x)\n",
    "net_dcnn_112 = keras.Model(inputs, outputs)\n",
    "\n"
   ]
  },
  {
   "cell_type": "code",
   "execution_count": null,
   "metadata": {},
   "outputs": [
    {
     "name": "stdout",
     "output_type": "stream",
     "text": [
      "Model: \"model_9\"\n",
      "_________________________________________________________________\n",
      " Layer (type)                Output Shape              Param #   \n",
      "=================================================================\n",
      " input_11 (InputLayer)       [(None, 112, 112, 3)]     0         \n",
      "                                                                 \n",
      " conv2d_37 (Conv2D)          (None, 112, 112, 16)      448       \n",
      "                                                                 \n",
      " activation_36 (Activation)  (None, 112, 112, 16)      0         \n",
      "                                                                 \n",
      " batch_normalization_18 (Bat  (None, 112, 112, 16)     64        \n",
      " chNormalization)                                                \n",
      "                                                                 \n",
      " conv2d_38 (Conv2D)          (None, 112, 112, 32)      4640      \n",
      "                                                                 \n",
      " activation_37 (Activation)  (None, 112, 112, 32)      0         \n",
      "                                                                 \n",
      " max_pooling2d_18 (MaxPoolin  (None, 37, 37, 32)       0         \n",
      " g2D)                                                            \n",
      "                                                                 \n",
      " dropout_27 (Dropout)        (None, 37, 37, 32)        0         \n",
      "                                                                 \n",
      " conv2d_39 (Conv2D)          (None, 37, 37, 64)        18496     \n",
      "                                                                 \n",
      " activation_38 (Activation)  (None, 37, 37, 64)        0         \n",
      "                                                                 \n",
      " batch_normalization_19 (Bat  (None, 37, 37, 64)       256       \n",
      " chNormalization)                                                \n",
      "                                                                 \n",
      " conv2d_40 (Conv2D)          (None, 37, 37, 128)       32896     \n",
      "                                                                 \n",
      " activation_39 (Activation)  (None, 37, 37, 128)       0         \n",
      "                                                                 \n",
      " max_pooling2d_19 (MaxPoolin  (None, 12, 12, 128)      0         \n",
      " g2D)                                                            \n",
      "                                                                 \n",
      " dropout_28 (Dropout)        (None, 12, 12, 128)       0         \n",
      "                                                                 \n",
      " flatten_9 (Flatten)         (None, 18432)             0         \n",
      "                                                                 \n",
      " dense_18 (Dense)            (None, 128)               2359424   \n",
      "                                                                 \n",
      " dropout_29 (Dropout)        (None, 128)               0         \n",
      "                                                                 \n",
      " dense_19 (Dense)            (None, 3)                 387       \n",
      "                                                                 \n",
      "=================================================================\n",
      "Total params: 2,416,611\n",
      "Trainable params: 2,416,451\n",
      "Non-trainable params: 160\n",
      "_________________________________________________________________\n"
     ]
    }
   ],
   "source": [
    "net_dcnn_112.summary()"
   ]
  },
  {
   "cell_type": "code",
   "execution_count": null,
   "metadata": {},
   "outputs": [],
   "source": [
    "METRICS = [ \n",
    "      keras.metrics.CategoricalAccuracy(name='accuracy'),\n",
    "      keras.metrics.Precision(name='precision'),\n",
    "      keras.metrics.Recall(name='recall'),\n",
    "      keras.metrics.AUC(name='auc'),\n",
    "]\n",
    "OPTIMIZER = keras.optimizers.Adam(learning_rate=0.0001)"
   ]
  },
  {
   "cell_type": "code",
   "execution_count": null,
   "metadata": {},
   "outputs": [],
   "source": [
    "net_dcnn_112.compile(loss=keras.losses.categorical_crossentropy,\n",
    "            optimizer = OPTIMIZER,\n",
    "            metrics = METRICS)"
   ]
  },
  {
   "cell_type": "code",
   "execution_count": null,
   "metadata": {},
   "outputs": [
    {
     "name": "stdout",
     "output_type": "stream",
     "text": [
      "Epoch 1/30\n",
      "736/736 [==============================] - 68s 89ms/step - loss: 0.6805 - accuracy: 0.7031 - precision: 0.7655 - recall: 0.6294 - auc: 0.8793 - val_loss: 0.4936 - val_accuracy: 0.7740 - val_precision: 0.8137 - val_recall: 0.7257 - val_auc: 0.9326\n",
      "Epoch 2/30\n",
      "736/736 [==============================] - 73s 98ms/step - loss: 0.5354 - accuracy: 0.7986 - precision: 0.8365 - recall: 0.7446 - auc: 0.9315 - val_loss: 0.3527 - val_accuracy: 0.8656 - val_precision: 0.8944 - val_recall: 0.8340 - val_auc: 0.9695\n",
      "Epoch 3/30\n",
      "736/736 [==============================] - 70s 94ms/step - loss: 0.4516 - accuracy: 0.8413 - precision: 0.8692 - recall: 0.8075 - auc: 0.9542 - val_loss: 0.2788 - val_accuracy: 0.8957 - val_precision: 0.9099 - val_recall: 0.8811 - val_auc: 0.9788\n",
      "Epoch 4/30\n",
      "736/736 [==============================] - 70s 95ms/step - loss: 0.3739 - accuracy: 0.8813 - precision: 0.9012 - recall: 0.8588 - auc: 0.9708 - val_loss: 0.2211 - val_accuracy: 0.9160 - val_precision: 0.9243 - val_recall: 0.9097 - val_auc: 0.9864\n",
      "Epoch 5/30\n",
      "736/736 [==============================] - 69s 93ms/step - loss: 0.3456 - accuracy: 0.8908 - precision: 0.9070 - recall: 0.8737 - auc: 0.9754 - val_loss: 0.2476 - val_accuracy: 0.9102 - val_precision: 0.9185 - val_recall: 0.9003 - val_auc: 0.9827\n",
      "Epoch 6/30\n",
      "736/736 [==============================] - 71s 96ms/step - loss: 0.3256 - accuracy: 0.8978 - precision: 0.9121 - recall: 0.8827 - auc: 0.9783 - val_loss: 0.2310 - val_accuracy: 0.9119 - val_precision: 0.9225 - val_recall: 0.9007 - val_auc: 0.9855\n",
      "Epoch 7/30\n",
      "736/736 [==============================] - 66s 90ms/step - loss: 0.3001 - accuracy: 0.9080 - precision: 0.9193 - recall: 0.8940 - auc: 0.9815 - val_loss: 0.2406 - val_accuracy: 0.9136 - val_precision: 0.9211 - val_recall: 0.9060 - val_auc: 0.9835\n",
      "Epoch 8/30\n",
      "736/736 [==============================] - 67s 91ms/step - loss: 0.2918 - accuracy: 0.9113 - precision: 0.9221 - recall: 0.8996 - auc: 0.9825 - val_loss: 0.3264 - val_accuracy: 0.8920 - val_precision: 0.9013 - val_recall: 0.8850 - val_auc: 0.9745\n",
      "Epoch 9/30\n",
      "736/736 [==============================] - 70s 95ms/step - loss: 0.2820 - accuracy: 0.9146 - precision: 0.9252 - recall: 0.9035 - auc: 0.9837 - val_loss: 0.2115 - val_accuracy: 0.9236 - val_precision: 0.9285 - val_recall: 0.9168 - val_auc: 0.9871\n",
      "Epoch 10/30\n",
      "736/736 [==============================] - 72s 97ms/step - loss: 0.2666 - accuracy: 0.9195 - precision: 0.9293 - recall: 0.9089 - auc: 0.9855 - val_loss: 0.2295 - val_accuracy: 0.9189 - val_precision: 0.9229 - val_recall: 0.9136 - val_auc: 0.9851\n",
      "Epoch 11/30\n",
      "736/736 [==============================] - 76s 103ms/step - loss: 0.2604 - accuracy: 0.9207 - precision: 0.9289 - recall: 0.9117 - auc: 0.9861 - val_loss: 0.2625 - val_accuracy: 0.9054 - val_precision: 0.9176 - val_recall: 0.8918 - val_auc: 0.9812\n",
      "Epoch 12/30\n",
      "736/736 [==============================] - 81s 110ms/step - loss: 0.2494 - accuracy: 0.9250 - precision: 0.9330 - recall: 0.9171 - auc: 0.9872 - val_loss: 0.2273 - val_accuracy: 0.9151 - val_precision: 0.9180 - val_recall: 0.9141 - val_auc: 0.9851\n",
      "Epoch 13/30\n",
      "736/736 [==============================] - 72s 98ms/step - loss: 0.2383 - accuracy: 0.9274 - precision: 0.9350 - recall: 0.9193 - auc: 0.9884 - val_loss: 0.3534 - val_accuracy: 0.8855 - val_precision: 0.8936 - val_recall: 0.8757 - val_auc: 0.9701\n",
      "Epoch 14/30\n",
      "736/736 [==============================] - 85s 116ms/step - loss: 0.2319 - accuracy: 0.9288 - precision: 0.9366 - recall: 0.9211 - auc: 0.9890 - val_loss: 0.1735 - val_accuracy: 0.9342 - val_precision: 0.9372 - val_recall: 0.9315 - val_auc: 0.9910\n",
      "Epoch 15/30\n",
      "736/736 [==============================] - 66s 90ms/step - loss: 0.2190 - accuracy: 0.9323 - precision: 0.9392 - recall: 0.9265 - auc: 0.9902 - val_loss: 0.2141 - val_accuracy: 0.9224 - val_precision: 0.9246 - val_recall: 0.9158 - val_auc: 0.9867\n",
      "Epoch 16/30\n",
      "736/736 [==============================] - 66s 90ms/step - loss: 0.2176 - accuracy: 0.9325 - precision: 0.9395 - recall: 0.9254 - auc: 0.9904 - val_loss: 0.1737 - val_accuracy: 0.9364 - val_precision: 0.9383 - val_recall: 0.9340 - val_auc: 0.9907\n",
      "Epoch 17/30\n",
      "736/736 [==============================] - 67s 90ms/step - loss: 0.2123 - accuracy: 0.9344 - precision: 0.9410 - recall: 0.9288 - auc: 0.9907 - val_loss: 0.2202 - val_accuracy: 0.9293 - val_precision: 0.9338 - val_recall: 0.9243 - val_auc: 0.9864\n",
      "Epoch 18/30\n",
      "736/736 [==============================] - 78s 106ms/step - loss: 0.1968 - accuracy: 0.9410 - precision: 0.9458 - recall: 0.9346 - auc: 0.9921 - val_loss: 0.2543 - val_accuracy: 0.9172 - val_precision: 0.9249 - val_recall: 0.9131 - val_auc: 0.9820\n",
      "Epoch 19/30\n",
      "736/736 [==============================] - 85s 115ms/step - loss: 0.1903 - accuracy: 0.9414 - precision: 0.9464 - recall: 0.9354 - auc: 0.9925 - val_loss: 0.2069 - val_accuracy: 0.9299 - val_precision: 0.9327 - val_recall: 0.9264 - val_auc: 0.9876\n",
      "Epoch 20/30\n",
      "736/736 [==============================] - 70s 95ms/step - loss: 0.1883 - accuracy: 0.9428 - precision: 0.9470 - recall: 0.9380 - auc: 0.9926 - val_loss: 0.1972 - val_accuracy: 0.9342 - val_precision: 0.9364 - val_recall: 0.9311 - val_auc: 0.9887\n",
      "Epoch 21/30\n",
      "736/736 [==============================] - 72s 98ms/step - loss: 0.1840 - accuracy: 0.9441 - precision: 0.9489 - recall: 0.9392 - auc: 0.9930 - val_loss: 0.1760 - val_accuracy: 0.9389 - val_precision: 0.9403 - val_recall: 0.9379 - val_auc: 0.9908\n",
      "Epoch 22/30\n",
      "736/736 [==============================] - 71s 96ms/step - loss: 0.1771 - accuracy: 0.9457 - precision: 0.9510 - recall: 0.9418 - auc: 0.9936 - val_loss: 0.1684 - val_accuracy: 0.9396 - val_precision: 0.9412 - val_recall: 0.9386 - val_auc: 0.9913\n",
      "Epoch 23/30\n",
      "736/736 [==============================] - 73s 99ms/step - loss: 0.1702 - accuracy: 0.9460 - precision: 0.9504 - recall: 0.9410 - auc: 0.9939 - val_loss: 0.2219 - val_accuracy: 0.9320 - val_precision: 0.9346 - val_recall: 0.9291 - val_auc: 0.9856\n",
      "Epoch 24/30\n",
      "736/736 [==============================] - 89s 121ms/step - loss: 0.1623 - accuracy: 0.9500 - precision: 0.9536 - recall: 0.9452 - auc: 0.9943 - val_loss: 0.2355 - val_accuracy: 0.9333 - val_precision: 0.9347 - val_recall: 0.9316 - val_auc: 0.9853\n",
      "Epoch 25/30\n",
      "736/736 [==============================] - 71s 96ms/step - loss: 0.1595 - accuracy: 0.9495 - precision: 0.9535 - recall: 0.9449 - auc: 0.9948 - val_loss: 0.2709 - val_accuracy: 0.9216 - val_precision: 0.9246 - val_recall: 0.9180 - val_auc: 0.9816\n",
      "Epoch 26/30\n",
      "736/736 [==============================] - 67s 91ms/step - loss: 0.1552 - accuracy: 0.9523 - precision: 0.9563 - recall: 0.9493 - auc: 0.9948 - val_loss: 0.2860 - val_accuracy: 0.9122 - val_precision: 0.9150 - val_recall: 0.9095 - val_auc: 0.9804\n",
      "Epoch 27/30\n",
      "736/736 [==============================] - 69s 93ms/step - loss: 0.1525 - accuracy: 0.9516 - precision: 0.9558 - recall: 0.9476 - auc: 0.9950 - val_loss: 0.3443 - val_accuracy: 0.8888 - val_precision: 0.8935 - val_recall: 0.8844 - val_auc: 0.9738\n",
      "Epoch 28/30\n",
      "736/736 [==============================] - 77s 104ms/step - loss: 0.1460 - accuracy: 0.9538 - precision: 0.9579 - recall: 0.9506 - auc: 0.9956 - val_loss: 0.1658 - val_accuracy: 0.9439 - val_precision: 0.9447 - val_recall: 0.9418 - val_auc: 0.9914\n",
      "Epoch 29/30\n",
      "736/736 [==============================] - 76s 103ms/step - loss: 0.1392 - accuracy: 0.9565 - precision: 0.9594 - recall: 0.9523 - auc: 0.9962 - val_loss: 0.1813 - val_accuracy: 0.9415 - val_precision: 0.9426 - val_recall: 0.9403 - val_auc: 0.9899\n",
      "Epoch 30/30\n",
      "736/736 [==============================] - 105s 143ms/step - loss: 0.1422 - accuracy: 0.9551 - precision: 0.9591 - recall: 0.9521 - auc: 0.9956 - val_loss: 0.4054 - val_accuracy: 0.8818 - val_precision: 0.8859 - val_recall: 0.8794 - val_auc: 0.9687\n"
     ]
    }
   ],
   "source": [
    "history_dcnn_112 = net_dcnn_112.fit(train_generator_gc_112,\n",
    "          epochs=30,\n",
    "          validation_data=validation_generator_gc_112,\n",
    "          class_weight = train_class_weights_112,\n",
    "          workers = 1,\n",
    "          callbacks=[model_checkpoint_callback, early_stopper])"
   ]
  },
  {
   "cell_type": "code",
   "execution_count": null,
   "metadata": {},
   "outputs": [],
   "source": [
    "np.save(f'C:/Users/marco/Desktop/Local_Documents/models/dcnn_acg_112_{version}_{arc}.npy',\n",
    "        history_dcnn_112.history)"
   ]
  },
  {
   "cell_type": "code",
   "execution_count": null,
   "metadata": {},
   "outputs": [
    {
     "data": {
      "text/plain": [
       "<matplotlib.legend.Legend at 0x19732290b50>"
      ]
     },
     "metadata": {},
     "output_type": "display_data"
    },
    {
     "data": {
      "image/png": "[encoded data removed]",
      "text/plain": [
       "<Figure size 640x480 with 2 Axes>"
      ]
     },
     "metadata": {},
     "output_type": "display_data"
    }
   ],
   "source": [
    "# Visualization of the learning curves\n",
    "\n",
    "# Loss\n",
    "plt.subplot(1, 2, 1)\n",
    "plt.plot(history_dcnn_112.history['loss'])\n",
    "plt.plot(history_dcnn_112.history['val_loss'])\n",
    "plt.xlabel('Epoch')\n",
    "plt.ylabel('Loss')\n",
    "plt.legend(['train', 'test'])\n",
    "\n",
    "# Accuracy\n",
    "plt.subplot(1, 2, 2)\n",
    "plt.plot(history_dcnn_112.history['accuracy'])\n",
    "plt.plot(history_dcnn_112.history['val_accuracy'])\n",
    "plt.xlabel('Epoch')\n",
    "plt.ylabel('Accuracy')\n",
    "plt.legend(['train', 'test'])"
   ]
  }
 ],
 "metadata": {
  "kernelspec": {
   "display_name": "Python 3.8.16 ('tf')",
   "language": "python",
   "name": "python3"
  },
  "language_info": {
   "name": "python",
   "version": "3.8.16"
  },
  "orig_nbformat": 4,
  "vscode": {
   "interpreter": {
    "hash": "4a44bbf2a83640dfde2344ebe838e4635fa18e86f31ce321969bab99fe559bce"
   }
  }
 },
 "nbformat": 4,
 "nbformat_minor": 2
}
