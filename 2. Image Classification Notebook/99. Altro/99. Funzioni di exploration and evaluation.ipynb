{
 "cells": [
  {
   "attachments": {},
   "cell_type": "markdown",
   "metadata": {},
   "source": [
    "# Visualizzazione"
   ]
  },
  {
   "cell_type": "code",
   "execution_count": null,
   "metadata": {},
   "outputs": [],
   "source": [
    "import matplotlib.pyplot as plt\n",
    "\n",
    "def print_images(samples): \n",
    "    images = samples[\"path\"].to_numpy()\n",
    "    labels = samples['label'].to_numpy()\n",
    "    \n",
    "    fig=plt.figure(figsize=(20, 8))\n",
    "    columns = 4\n",
    "    rows = 1\n",
    "    \n",
    "    for i, image_path in enumerate(images):\n",
    "        image = cv2.imread(image_path, cv2.IMREAD_COLOR)\n",
    "        \n",
    "        fig.add_subplot(rows,columns,i + 1)\n",
    "        title = '{}'.format(labels[i])\n",
    "        \n",
    "        Sample_image = cv2.resize(image, (224, 224), interpolation = cv2.INTER_CUBIC)\n",
    "        \n",
    "        plt.imshow(Sample_image, cmap='gray')\n",
    "        plt.title(title)\n",
    "        \n",
    "    plt.show()\n",
    "        \n",
    "print_images(img_path_map[img_path_map['label']==\"NORMAL\"].iloc[0:4])\n",
    "print_images(img_path_map[img_path_map['label']==\"PNEUMONIA\"].iloc[0:4])\n",
    "print_images(img_path_map[img_path_map['label']==\"COVID\"].iloc[0:4])\n",
    "\n",
    "%matplotlib inline"
   ]
  },
  {
   "attachments": {},
   "cell_type": "markdown",
   "metadata": {},
   "source": [
    "Inserisco un po' di funzione che possono tornare utili per valutare le varie CNN"
   ]
  },
  {
   "attachments": {},
   "cell_type": "markdown",
   "metadata": {},
   "source": [
    "# Valutazione dei modelli "
   ]
  }
 ],
 "metadata": {
  "kernelspec": {
   "display_name": "Python 3.8.16 ('tf')",
   "language": "python",
   "name": "python3"
  },
  "language_info": {
   "name": "python",
   "version": "3.8.16"
  },
  "orig_nbformat": 4,
  "vscode": {
   "interpreter": {
    "hash": "4a44bbf2a83640dfde2344ebe838e4635fa18e86f31ce321969bab99fe559bce"
   }
  }
 },
 "nbformat": 4,
 "nbformat_minor": 2
}
