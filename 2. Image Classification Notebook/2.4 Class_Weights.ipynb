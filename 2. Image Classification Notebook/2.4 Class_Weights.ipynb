{
 "cells": [
  {
   "cell_type": "code",
   "execution_count": null,
   "metadata": {},
   "outputs": [
    {
     "name": "stdout",
     "output_type": "stream",
     "text": [
      "Tue Feb  7 11:36:13 2023       \n",
      "+-----------------------------------------------------------------------------+\n",
      "| NVIDIA-SMI 528.24       Driver Version: 528.24       CUDA Version: 12.0     |\n",
      "|-------------------------------+----------------------+----------------------+\n",
      "| GPU  Name            TCC/WDDM | Bus-Id        Disp.A | Volatile Uncorr. ECC |\n",
      "| Fan  Temp  Perf  Pwr:Usage/Cap|         Memory-Usage | GPU-Util  Compute M. |\n",
      "|                               |                      |               MIG M. |\n",
      "|===============================+======================+======================|\n",
      "|   0  NVIDIA GeForce ... WDDM  | 00000000:01:00.0 Off |                  N/A |\n",
      "| N/A   54C    P0    N/A /  N/A |   1778MiB /  2048MiB |     25%      Default |\n",
      "|                               |                      |                  N/A |\n",
      "+-------------------------------+----------------------+----------------------+\n",
      "                                                                               \n",
      "+-----------------------------------------------------------------------------+\n",
      "| Processes:                                                                  |\n",
      "|  GPU   GI   CI        PID   Type   Process name                  GPU Memory |\n",
      "|        ID   ID                                                   Usage      |\n",
      "|=============================================================================|\n",
      "|    0   N/A  N/A     23468      C   ...conda3\\envs\\tf\\python.exe    N/A      |\n",
      "|    0   N/A  N/A     23672    C+G   ...ser\\Application\\brave.exe    N/A      |\n",
      "+-----------------------------------------------------------------------------+\n"
     ]
    }
   ],
   "source": [
    "!nvidia-smi"
   ]
  },
  {
   "cell_type": "code",
   "execution_count": null,
   "metadata": {},
   "outputs": [
    {
     "name": "stdout",
     "output_type": "stream",
     "text": [
      "nvcc: NVIDIA (R) Cuda compiler driver\n",
      "Copyright (c) 2005-2022 NVIDIA Corporation\n",
      "Built on Wed_Sep_21_10:41:10_Pacific_Daylight_Time_2022\n",
      "Cuda compilation tools, release 11.8, V11.8.89\n",
      "Build cuda_11.8.r11.8/compiler.31833905_0\n"
     ]
    }
   ],
   "source": [
    "!nvcc -V"
   ]
  },
  {
   "cell_type": "code",
   "execution_count": null,
   "metadata": {},
   "outputs": [
    {
     "name": "stdout",
     "output_type": "stream",
     "text": [
      "[name: \"/device:CPU:0\"\n",
      "device_type: \"CPU\"\n",
      "memory_limit: 268435456\n",
      "locality {\n",
      "}\n",
      "incarnation: 2996846242452572785\n",
      "xla_global_id: -1\n",
      ", name: \"/device:GPU:0\"\n",
      "device_type: \"GPU\"\n",
      "memory_limit: 1225944676\n",
      "locality {\n",
      "  bus_id: 1\n",
      "  links {\n",
      "  }\n",
      "}\n",
      "incarnation: 18166989647878258434\n",
      "physical_device_desc: \"device: 0, name: NVIDIA GeForce MX450, pci bus id: 0000:01:00.0, compute capability: 7.5\"\n",
      "xla_global_id: 416903419\n",
      "]\n"
     ]
    }
   ],
   "source": [
    "from tensorflow.python.client import device_lib\n",
    "print(device_lib.list_local_devices())"
   ]
  },
  {
   "cell_type": "code",
   "execution_count": 48,
   "metadata": {},
   "outputs": [],
   "source": [
    "# Keras e TF\n",
    "\n",
    "import tensorflow as tf \n",
    "from tensorflow import keras\n",
    "# from tensorflow.keras.utils import load_img\n",
    "from keras.preprocessing.image import ImageDataGenerator\n",
    "from keras.models import Sequential\n",
    "from keras.layers import Conv2D, Conv1D, MaxPooling2D, Dense, Flatten, BatchNormalization, Activation, AveragePooling2D, Input, Flatten, Dropout\n",
    "from keras.callbacks import ModelCheckpoint, LearningRateScheduler\n",
    "from keras.callbacks import ReduceLROnPlateau\n",
    "from keras.regularizers import l2\n",
    "from keras import backend as K\n",
    "from keras.models import Model\n",
    "from keras import regularizers\n",
    "from tensorflow import initializers\n",
    "from keras.layers import LSTM\n",
    "# from keras.layers.embeddings import Embedding\n",
    "from keras.preprocessing import sequence\n",
    "from keras.layers import TimeDistributed\n",
    "from keras.layers import LSTM\n",
    "from keras.models import load_model\n",
    "from keras.layers import Activation\n",
    "\n",
    "# Sk-Learn\n",
    "from sklearn.metrics import classification_report, confusion_matrix\n",
    "from sklearn.model_selection import train_test_split\n",
    "from sklearn.metrics import classification_report,confusion_matrix, ConfusionMatrixDisplay\n",
    "\n",
    "# Image management\n",
    "import cv2\n",
    "\n",
    "from time import time\n",
    "import sys\n",
    "import os\n",
    "import glob2 as glob\n",
    "from matplotlib import pyplot as plt\n",
    "import seaborn as sns\n",
    "import numpy as np\n",
    "import pandas as pd\n",
    "from scipy.linalg import fractional_matrix_power\n",
    "\n",
    "from sklearn.utils import resample\n",
    "from sklearn.utils import shuffle\n",
    "from sklearn.utils import class_weight \n",
    "\n",
    "import pydot\n",
    "import pydotplus\n",
    "from pydotplus import graphviz"
   ]
  },
  {
   "cell_type": "code",
   "execution_count": 66,
   "metadata": {},
   "outputs": [],
   "source": [
    "# Set visualization size for figures \n",
    "plt.rcParams['figure.figsize'] = [7,7] # width, height"
   ]
  },
  {
   "cell_type": "code",
   "execution_count": 3,
   "metadata": {},
   "outputs": [],
   "source": [
    "os.chdir('C:/Users/marco/Desktop/Local_Documents/data/COVIDx-splitted-resized-112')"
   ]
  },
  {
   "cell_type": "markdown",
   "metadata": {},
   "source": [
    "# Image generator"
   ]
  },
  {
   "cell_type": "code",
   "execution_count": 4,
   "metadata": {},
   "outputs": [],
   "source": [
    "batch_size = 32 # Batch size\n",
    "\n",
    "train_path = './train'\n",
    "test_path = './test' \n",
    "\n",
    "train_datagen = ImageDataGenerator(rescale=1./255., validation_split=0.2)\n",
    "test_datagen = ImageDataGenerator(rescale=1./255.)"
   ]
  },
  {
   "cell_type": "code",
   "execution_count": 5,
   "metadata": {},
   "outputs": [
    {
     "name": "stdout",
     "output_type": "stream",
     "text": [
      "Found 23524 images belonging to 3 classes.\n"
     ]
    }
   ],
   "source": [
    "train_data = train_datagen.flow_from_directory(\n",
    "        train_path,  \n",
    "        target_size=(112, 112),  # Lo inserisco per precauzione\n",
    "        batch_size=batch_size,\n",
    "        seed=123,\n",
    "        shuffle=True,\n",
    "        subset='training',\n",
    "        class_mode='categorical')"
   ]
  },
  {
   "cell_type": "code",
   "execution_count": 6,
   "metadata": {},
   "outputs": [
    {
     "name": "stdout",
     "output_type": "stream",
     "text": [
      "Found 5880 images belonging to 3 classes.\n"
     ]
    }
   ],
   "source": [
    "validation_data = train_datagen.flow_from_directory(\n",
    "        train_path,  \n",
    "        target_size=(112, 112),  # Lo inserisco per precauzione\n",
    "        batch_size=batch_size,\n",
    "        seed=123,\n",
    "        shuffle=True,\n",
    "        subset='validation',\n",
    "        class_mode='categorical')"
   ]
  },
  {
   "cell_type": "code",
   "execution_count": 7,
   "metadata": {},
   "outputs": [
    {
     "name": "stdout",
     "output_type": "stream",
     "text": [
      "Found 397 images belonging to 3 classes.\n"
     ]
    }
   ],
   "source": [
    "# Test set\n",
    "test_data = test_datagen.flow_from_directory(\n",
    "        test_path,  \n",
    "        target_size=(112, 112),  # Lo inserisco per precauzione\n",
    "        batch_size=batch_size,\n",
    "        shuffle=False,\n",
    "        class_mode='categorical')"
   ]
  },
  {
   "cell_type": "code",
   "execution_count": null,
   "metadata": {},
   "outputs": [
    {
     "data": {
      "text/plain": [
       "{'COVID-19': 0, 'normal': 1, 'pneumonia': 2}"
      ]
     },
     "metadata": {},
     "output_type": "display_data"
    }
   ],
   "source": [
    "train_data.class_indices"
   ]
  },
  {
   "cell_type": "code",
   "execution_count": null,
   "metadata": {},
   "outputs": [
    {
     "data": {
      "text/plain": [
       "{'COVID-19': 0, 'normal': 1, 'pneumonia': 2}"
      ]
     },
     "metadata": {},
     "output_type": "display_data"
    }
   ],
   "source": [
    "validation_data.class_indices"
   ]
  },
  {
   "cell_type": "code",
   "execution_count": null,
   "metadata": {},
   "outputs": [
    {
     "data": {
      "text/plain": [
       "{'COVID-19': 0, 'normal': 1, 'pneumonia': 2}"
      ]
     },
     "metadata": {},
     "output_type": "display_data"
    }
   ],
   "source": [
    "test_data.class_indices"
   ]
  },
  {
   "cell_type": "markdown",
   "metadata": {},
   "source": [
    "## Class Weights"
   ]
  },
  {
   "cell_type": "markdown",
   "metadata": {},
   "source": [
    "Attribuisco una penalizzazione maggiore quando il modello sbaglia sulla classe minore"
   ]
  },
  {
   "cell_type": "code",
   "execution_count": 8,
   "metadata": {},
   "outputs": [
    {
     "name": "stdout",
     "output_type": "stream",
     "text": [
      "{0: 0.6213417855256207, 1: 1.212327355184498, 2: 1.76765855124737}\n"
     ]
    }
   ],
   "source": [
    "class_weights = class_weight.compute_class_weight(\n",
    "            class_weight= 'balanced',\n",
    "            classes = np.unique(train_data.classes), \n",
    "            y = train_data.classes)\n",
    "train_class_weights = dict(enumerate(class_weights))\n",
    "print(train_class_weights)"
   ]
  },
  {
   "cell_type": "markdown",
   "metadata": {},
   "source": [
    "# Definizione dell'architettura"
   ]
  },
  {
   "cell_type": "code",
   "execution_count": 9,
   "metadata": {},
   "outputs": [],
   "source": [
    "#Definizione del CallBacks: Early stopper sulla loss di validazione\n",
    "early_stopper = tf.keras.callbacks.EarlyStopping(monitor='val_loss', patience=100)"
   ]
  },
  {
   "cell_type": "code",
   "execution_count": 10,
   "metadata": {},
   "outputs": [],
   "source": [
    "version = \"v1\"\n",
    "img_size = '112'\n",
    "checkpoint_filepath = f'C:/Users/marco/Desktop/Local_Documents/models/Class_Weight_NoAug/dcnn_model_{img_size}_{version}_val_acc_best.hdf5'\n",
    "model_checkpoint_callback = tf.keras.callbacks.ModelCheckpoint(\n",
    "    filepath=checkpoint_filepath,\n",
    "    monitor='val_accuracy',\n",
    "    mode='max',\n",
    "    save_best_only=True)"
   ]
  },
  {
   "cell_type": "code",
   "execution_count": 23,
   "metadata": {},
   "outputs": [],
   "source": [
    "num_classes = 3\n",
    "inputs = keras.Input((112,112,3))\n",
    "\n",
    "x = inputs\n",
    "\n",
    "x = keras.layers.Conv2D(16, 3, padding =\"same\", strides=1)(x)\n",
    "x = keras.layers.Activation('relu')(x)\n",
    "x = keras.layers.BatchNormalization()(x)\n",
    "\n",
    "x = keras.layers.Conv2D(32, 3,  padding =\"same\", strides=1)(x)\n",
    "x = keras.layers.Activation('relu')(x)\n",
    "x = keras.layers.MaxPooling2D(pool_size=(3,3), strides=(3,3))(x)\n",
    "x = keras.layers.Dropout(0.2)(x)\n",
    "\n",
    "x = keras.layers.Conv2D(64, 3,  padding =\"same\", strides=1)(x)\n",
    "x = keras.layers.Activation('relu')(x)\n",
    "x = keras.layers.BatchNormalization()(x)\n",
    "\n",
    "x = keras.layers.Conv2D(128, 2,  padding =\"same\", strides=1)(x)\n",
    "x = keras.layers.Activation('relu')(x)\n",
    "\n",
    "x = keras.layers.MaxPooling2D(pool_size=(2,2), strides=(3,3))(x)\n",
    "\n",
    "x = keras.layers.Dropout(0.2)(x)\n",
    "\n",
    "# x = keras.layers.GlobalMaxPool2D()(x)\n",
    "x = keras.layers.Flatten()(x)\n",
    "\n",
    "x = keras.layers.Dense(128, activation='relu')(x)\n",
    "x = keras.layers.Dropout(0.5)(x)\n",
    "\n",
    "# x = keras.layers.Dense(512, activation='relu')(x)\n",
    "# x = keras.layers.Dropout(0.5)(x)\n",
    "\n",
    "# x = keras.layers.Dense(1000, activation='relu')(x)\n",
    "# x = keras.layers.Dropout(0.5)(x)\n",
    "\n",
    "outputs = keras.layers.Dense(num_classes, activation='softmax')(x)\n",
    "net_dcnn_112_cw = keras.Model(inputs, outputs)\n",
    "\n"
   ]
  },
  {
   "cell_type": "code",
   "execution_count": 24,
   "metadata": {},
   "outputs": [
    {
     "name": "stdout",
     "output_type": "stream",
     "text": [
      "Model: \"model_1\"\n",
      "_________________________________________________________________\n",
      " Layer (type)                Output Shape              Param #   \n",
      "=================================================================\n",
      " input_2 (InputLayer)        [(None, 112, 112, 3)]     0         \n",
      "                                                                 \n",
      " conv2d_4 (Conv2D)           (None, 112, 112, 16)      448       \n",
      "                                                                 \n",
      " activation_4 (Activation)   (None, 112, 112, 16)      0         \n",
      "                                                                 \n",
      " batch_normalization_2 (Batc  (None, 112, 112, 16)     64        \n",
      " hNormalization)                                                 \n",
      "                                                                 \n",
      " conv2d_5 (Conv2D)           (None, 112, 112, 32)      4640      \n",
      "                                                                 \n",
      " activation_5 (Activation)   (None, 112, 112, 32)      0         \n",
      "                                                                 \n",
      " max_pooling2d_2 (MaxPooling  (None, 37, 37, 32)       0         \n",
      " 2D)                                                             \n",
      "                                                                 \n",
      " dropout_3 (Dropout)         (None, 37, 37, 32)        0         \n",
      "                                                                 \n",
      " conv2d_6 (Conv2D)           (None, 37, 37, 64)        18496     \n",
      "                                                                 \n",
      " activation_6 (Activation)   (None, 37, 37, 64)        0         \n",
      "                                                                 \n",
      " batch_normalization_3 (Batc  (None, 37, 37, 64)       256       \n",
      " hNormalization)                                                 \n",
      "                                                                 \n",
      " conv2d_7 (Conv2D)           (None, 37, 37, 128)       32896     \n",
      "                                                                 \n",
      " activation_7 (Activation)   (None, 37, 37, 128)       0         \n",
      "                                                                 \n",
      " max_pooling2d_3 (MaxPooling  (None, 12, 12, 128)      0         \n",
      " 2D)                                                             \n",
      "                                                                 \n",
      " dropout_4 (Dropout)         (None, 12, 12, 128)       0         \n",
      "                                                                 \n",
      " flatten_1 (Flatten)         (None, 18432)             0         \n",
      "                                                                 \n",
      " dense_2 (Dense)             (None, 128)               2359424   \n",
      "                                                                 \n",
      " dropout_5 (Dropout)         (None, 128)               0         \n",
      "                                                                 \n",
      " dense_3 (Dense)             (None, 3)                 387       \n",
      "                                                                 \n",
      "=================================================================\n",
      "Total params: 2,416,611\n",
      "Trainable params: 2,416,451\n",
      "Non-trainable params: 160\n",
      "_________________________________________________________________\n"
     ]
    }
   ],
   "source": [
    "net_dcnn_112_cw.summary()"
   ]
  },
  {
   "cell_type": "code",
   "execution_count": 13,
   "metadata": {},
   "outputs": [],
   "source": [
    "METRICS = [ \n",
    "      keras.metrics.CategoricalAccuracy(name='accuracy'),\n",
    "      keras.metrics.Precision(name='precision'),\n",
    "      keras.metrics.Recall(name='recall'),\n",
    "      keras.metrics.AUC(name='auc'),\n",
    "      keras.metrics.TopKCategoricalAccuracy(name='top k accuracy'),\n",
    "]\n",
    "OPTIMIZER = keras.optimizers.Adam(learning_rate=0.0001)"
   ]
  },
  {
   "cell_type": "code",
   "execution_count": 25,
   "metadata": {},
   "outputs": [
    {
     "name": "stdout",
     "output_type": "stream",
     "text": [
      "735\n",
      "183\n"
     ]
    }
   ],
   "source": [
    "# batch size \n",
    "step_per_epoch_train = len(train_data.labels) // batch_size\n",
    "print(step_per_epoch_train)\n",
    "step_per_epoch_val = len(validation_data.labels) // batch_size\n",
    "print(step_per_epoch_val)"
   ]
  },
  {
   "cell_type": "code",
   "execution_count": 26,
   "metadata": {},
   "outputs": [],
   "source": [
    "net_dcnn_112_cw.compile(loss=keras.losses.categorical_crossentropy,\n",
    "            optimizer = OPTIMIZER,\n",
    "            metrics=METRICS)"
   ]
  },
  {
   "cell_type": "code",
   "execution_count": 27,
   "metadata": {},
   "outputs": [
    {
     "name": "stdout",
     "output_type": "stream",
     "text": [
      "Epoch 1/50\n",
      "735/735 [==============================] - 67s 89ms/step - loss: 0.6740 - accuracy: 0.7092 - precision: 0.7752 - recall: 0.6221 - auc: 0.8800 - top k accuracy: 1.0000 - val_loss: 0.4185 - val_accuracy: 0.8489 - val_precision: 0.8925 - val_recall: 0.7927 - val_auc: 0.9602 - val_top k accuracy: 1.0000\n",
      "Epoch 2/50\n",
      "735/735 [==============================] - 66s 89ms/step - loss: 0.5370 - accuracy: 0.8024 - precision: 0.8486 - recall: 0.7477 - auc: 0.9362 - top k accuracy: 1.0000 - val_loss: 0.3202 - val_accuracy: 0.8765 - val_precision: 0.8987 - val_recall: 0.8548 - val_auc: 0.9739 - val_top k accuracy: 1.0000\n",
      "Epoch 3/50\n",
      "735/735 [==============================] - 65s 88ms/step - loss: 0.4529 - accuracy: 0.8423 - precision: 0.8776 - recall: 0.8071 - auc: 0.9571 - top k accuracy: 1.0000 - val_loss: 0.2646 - val_accuracy: 0.9056 - val_precision: 0.9283 - val_recall: 0.8738 - val_auc: 0.9836 - val_top k accuracy: 1.0000\n",
      "Epoch 4/50\n",
      "735/735 [==============================] - 775s 1s/step - loss: 0.4103 - accuracy: 0.8658 - precision: 0.8970 - recall: 0.8336 - auc: 0.9663 - top k accuracy: 1.0000 - val_loss: 0.2336 - val_accuracy: 0.9121 - val_precision: 0.9230 - val_recall: 0.8991 - val_auc: 0.9849 - val_top k accuracy: 1.0000\n",
      "Epoch 5/50\n",
      "735/735 [==============================] - 56s 76ms/step - loss: 0.3778 - accuracy: 0.8773 - precision: 0.9036 - recall: 0.8494 - auc: 0.9718 - top k accuracy: 1.0000 - val_loss: 0.2290 - val_accuracy: 0.9122 - val_precision: 0.9199 - val_recall: 0.9045 - val_auc: 0.9848 - val_top k accuracy: 1.0000\n",
      "Epoch 6/50\n",
      "735/735 [==============================] - 56s 76ms/step - loss: 0.3513 - accuracy: 0.8908 - precision: 0.9116 - recall: 0.8679 - auc: 0.9757 - top k accuracy: 1.0000 - val_loss: 0.2084 - val_accuracy: 0.9235 - val_precision: 0.9292 - val_recall: 0.9160 - val_auc: 0.9874 - val_top k accuracy: 1.0000\n",
      "Epoch 7/50\n",
      "735/735 [==============================] - 56s 77ms/step - loss: 0.3359 - accuracy: 0.8950 - precision: 0.9143 - recall: 0.8712 - auc: 0.9777 - top k accuracy: 1.0000 - val_loss: 0.2315 - val_accuracy: 0.9139 - val_precision: 0.9275 - val_recall: 0.9027 - val_auc: 0.9846 - val_top k accuracy: 1.0000\n",
      "Epoch 8/50\n",
      "735/735 [==============================] - 60s 81ms/step - loss: 0.3194 - accuracy: 0.8978 - precision: 0.9183 - recall: 0.8750 - auc: 0.9797 - top k accuracy: 1.0000 - val_loss: 0.2124 - val_accuracy: 0.9220 - val_precision: 0.9306 - val_recall: 0.9119 - val_auc: 0.9869 - val_top k accuracy: 1.0000\n",
      "Epoch 9/50\n",
      "735/735 [==============================] - 559s 761ms/step - loss: 0.3006 - accuracy: 0.9055 - precision: 0.9228 - recall: 0.8861 - auc: 0.9823 - top k accuracy: 1.0000 - val_loss: 0.1832 - val_accuracy: 0.9305 - val_precision: 0.9347 - val_recall: 0.9257 - val_auc: 0.9898 - val_top k accuracy: 1.0000\n",
      "Epoch 10/50\n",
      "735/735 [==============================] - 56s 76ms/step - loss: 0.2935 - accuracy: 0.9097 - precision: 0.9243 - recall: 0.8927 - auc: 0.9830 - top k accuracy: 1.0000 - val_loss: 0.2171 - val_accuracy: 0.9220 - val_precision: 0.9243 - val_recall: 0.9180 - val_auc: 0.9859 - val_top k accuracy: 1.0000\n",
      "Epoch 11/50\n",
      "735/735 [==============================] - 57s 77ms/step - loss: 0.2794 - accuracy: 0.9133 - precision: 0.9293 - recall: 0.8970 - auc: 0.9846 - top k accuracy: 1.0000 - val_loss: 0.1945 - val_accuracy: 0.9319 - val_precision: 0.9385 - val_recall: 0.9249 - val_auc: 0.9888 - val_top k accuracy: 1.0000\n",
      "Epoch 12/50\n",
      "735/735 [==============================] - 61s 82ms/step - loss: 0.2658 - accuracy: 0.9181 - precision: 0.9311 - recall: 0.9007 - auc: 0.9860 - top k accuracy: 1.0000 - val_loss: 0.1830 - val_accuracy: 0.9346 - val_precision: 0.9393 - val_recall: 0.9303 - val_auc: 0.9899 - val_top k accuracy: 1.0000\n",
      "Epoch 13/50\n",
      "735/735 [==============================] - 59s 80ms/step - loss: 0.2602 - accuracy: 0.9194 - precision: 0.9331 - recall: 0.9042 - auc: 0.9866 - top k accuracy: 1.0000 - val_loss: 0.5197 - val_accuracy: 0.8584 - val_precision: 0.8647 - val_recall: 0.8504 - val_auc: 0.9542 - val_top k accuracy: 1.0000\n",
      "Epoch 14/50\n",
      "735/735 [==============================] - 145s 198ms/step - loss: 0.2490 - accuracy: 0.9245 - precision: 0.9370 - recall: 0.9117 - auc: 0.9876 - top k accuracy: 1.0000 - val_loss: 0.1635 - val_accuracy: 0.9384 - val_precision: 0.9416 - val_recall: 0.9356 - val_auc: 0.9918 - val_top k accuracy: 1.0000\n",
      "Epoch 15/50\n",
      "735/735 [==============================] - 59s 80ms/step - loss: 0.2443 - accuracy: 0.9233 - precision: 0.9370 - recall: 0.9104 - auc: 0.9879 - top k accuracy: 1.0000 - val_loss: 0.1713 - val_accuracy: 0.9370 - val_precision: 0.9391 - val_recall: 0.9341 - val_auc: 0.9910 - val_top k accuracy: 1.0000\n",
      "Epoch 16/50\n",
      "735/735 [==============================] - 66s 90ms/step - loss: 0.2382 - accuracy: 0.9261 - precision: 0.9380 - recall: 0.9127 - auc: 0.9887 - top k accuracy: 1.0000 - val_loss: 0.1682 - val_accuracy: 0.9377 - val_precision: 0.9423 - val_recall: 0.9339 - val_auc: 0.9910 - val_top k accuracy: 1.0000\n",
      "Epoch 17/50\n",
      "735/735 [==============================] - 66s 89ms/step - loss: 0.2283 - accuracy: 0.9304 - precision: 0.9422 - recall: 0.9184 - auc: 0.9896 - top k accuracy: 1.0000 - val_loss: 0.2022 - val_accuracy: 0.9307 - val_precision: 0.9318 - val_recall: 0.9291 - val_auc: 0.9880 - val_top k accuracy: 1.0000\n",
      "Epoch 18/50\n",
      "735/735 [==============================] - 72s 98ms/step - loss: 0.2224 - accuracy: 0.9336 - precision: 0.9433 - recall: 0.9221 - auc: 0.9902 - top k accuracy: 1.0000 - val_loss: 0.1895 - val_accuracy: 0.9298 - val_precision: 0.9315 - val_recall: 0.9267 - val_auc: 0.9897 - val_top k accuracy: 1.0000\n",
      "Epoch 19/50\n",
      "735/735 [==============================] - 66s 90ms/step - loss: 0.2155 - accuracy: 0.9340 - precision: 0.9449 - recall: 0.9230 - auc: 0.9907 - top k accuracy: 1.0000 - val_loss: 0.8076 - val_accuracy: 0.8058 - val_precision: 0.8126 - val_recall: 0.7992 - val_auc: 0.9245 - val_top k accuracy: 1.0000\n",
      "Epoch 20/50\n",
      "735/735 [==============================] - 66s 90ms/step - loss: 0.2160 - accuracy: 0.9336 - precision: 0.9439 - recall: 0.9210 - auc: 0.9907 - top k accuracy: 1.0000 - val_loss: 0.1948 - val_accuracy: 0.9331 - val_precision: 0.9373 - val_recall: 0.9267 - val_auc: 0.9886 - val_top k accuracy: 1.0000\n",
      "Epoch 21/50\n",
      "735/735 [==============================] - 66s 90ms/step - loss: 0.2078 - accuracy: 0.9350 - precision: 0.9463 - recall: 0.9239 - auc: 0.9916 - top k accuracy: 1.0000 - val_loss: 0.2077 - val_accuracy: 0.9324 - val_precision: 0.9344 - val_recall: 0.9312 - val_auc: 0.9874 - val_top k accuracy: 1.0000\n",
      "Epoch 22/50\n",
      "735/735 [==============================] - 279s 380ms/step - loss: 0.2004 - accuracy: 0.9362 - precision: 0.9459 - recall: 0.9258 - auc: 0.9920 - top k accuracy: 1.0000 - val_loss: 0.1848 - val_accuracy: 0.9370 - val_precision: 0.9388 - val_recall: 0.9356 - val_auc: 0.9897 - val_top k accuracy: 1.0000\n",
      "Epoch 23/50\n",
      "735/735 [==============================] - 72s 97ms/step - loss: 0.1908 - accuracy: 0.9403 - precision: 0.9495 - recall: 0.9309 - auc: 0.9928 - top k accuracy: 1.0000 - val_loss: 0.1646 - val_accuracy: 0.9425 - val_precision: 0.9443 - val_recall: 0.9413 - val_auc: 0.9916 - val_top k accuracy: 1.0000\n",
      "Epoch 24/50\n",
      "735/735 [==============================] - 66s 90ms/step - loss: 0.1931 - accuracy: 0.9384 - precision: 0.9482 - recall: 0.9281 - auc: 0.9924 - top k accuracy: 1.0000 - val_loss: 0.2042 - val_accuracy: 0.9344 - val_precision: 0.9389 - val_recall: 0.9310 - val_auc: 0.9879 - val_top k accuracy: 1.0000\n",
      "Epoch 25/50\n",
      "735/735 [==============================] - 66s 90ms/step - loss: 0.1812 - accuracy: 0.9440 - precision: 0.9522 - recall: 0.9344 - auc: 0.9934 - top k accuracy: 1.0000 - val_loss: 0.2104 - val_accuracy: 0.9339 - val_precision: 0.9353 - val_recall: 0.9325 - val_auc: 0.9870 - val_top k accuracy: 1.0000\n",
      "Epoch 26/50\n",
      "735/735 [==============================] - 66s 90ms/step - loss: 0.1779 - accuracy: 0.9428 - precision: 0.9512 - recall: 0.9341 - auc: 0.9937 - top k accuracy: 1.0000 - val_loss: 0.2098 - val_accuracy: 0.9343 - val_precision: 0.9350 - val_recall: 0.9327 - val_auc: 0.9869 - val_top k accuracy: 1.0000\n",
      "Epoch 27/50\n",
      "735/735 [==============================] - 66s 90ms/step - loss: 0.1737 - accuracy: 0.9431 - precision: 0.9512 - recall: 0.9341 - auc: 0.9938 - top k accuracy: 1.0000 - val_loss: 0.2490 - val_accuracy: 0.9308 - val_precision: 0.9337 - val_recall: 0.9284 - val_auc: 0.9843 - val_top k accuracy: 1.0000\n",
      "Epoch 28/50\n",
      "735/735 [==============================] - 66s 90ms/step - loss: 0.1775 - accuracy: 0.9432 - precision: 0.9522 - recall: 0.9350 - auc: 0.9936 - top k accuracy: 1.0000 - val_loss: 0.1829 - val_accuracy: 0.9416 - val_precision: 0.9422 - val_recall: 0.9411 - val_auc: 0.9897 - val_top k accuracy: 1.0000\n",
      "Epoch 29/50\n",
      "735/735 [==============================] - 65s 88ms/step - loss: 0.1703 - accuracy: 0.9457 - precision: 0.9536 - recall: 0.9380 - auc: 0.9940 - top k accuracy: 1.0000 - val_loss: 0.1825 - val_accuracy: 0.9380 - val_precision: 0.9398 - val_recall: 0.9361 - val_auc: 0.9896 - val_top k accuracy: 1.0000\n",
      "Epoch 30/50\n",
      "735/735 [==============================] - 63s 86ms/step - loss: 0.1674 - accuracy: 0.9466 - precision: 0.9541 - recall: 0.9390 - auc: 0.9943 - top k accuracy: 1.0000 - val_loss: 0.2082 - val_accuracy: 0.9314 - val_precision: 0.9356 - val_recall: 0.9276 - val_auc: 0.9873 - val_top k accuracy: 1.0000\n",
      "Epoch 31/50\n",
      "735/735 [==============================] - 63s 86ms/step - loss: 0.1577 - accuracy: 0.9496 - precision: 0.9574 - recall: 0.9412 - auc: 0.9949 - top k accuracy: 1.0000 - val_loss: 0.2033 - val_accuracy: 0.9372 - val_precision: 0.9391 - val_recall: 0.9349 - val_auc: 0.9881 - val_top k accuracy: 1.0000\n",
      "Epoch 32/50\n",
      "735/735 [==============================] - 64s 87ms/step - loss: 0.1534 - accuracy: 0.9508 - precision: 0.9569 - recall: 0.9427 - auc: 0.9953 - top k accuracy: 1.0000 - val_loss: 0.2178 - val_accuracy: 0.9382 - val_precision: 0.9397 - val_recall: 0.9365 - val_auc: 0.9870 - val_top k accuracy: 1.0000\n",
      "Epoch 33/50\n",
      "735/735 [==============================] - 64s 87ms/step - loss: 0.1522 - accuracy: 0.9523 - precision: 0.9587 - recall: 0.9451 - auc: 0.9953 - top k accuracy: 1.0000 - val_loss: 0.1813 - val_accuracy: 0.9440 - val_precision: 0.9457 - val_recall: 0.9430 - val_auc: 0.9896 - val_top k accuracy: 1.0000\n",
      "Epoch 34/50\n",
      "735/735 [==============================] - 64s 87ms/step - loss: 0.1504 - accuracy: 0.9514 - precision: 0.9591 - recall: 0.9439 - auc: 0.9952 - top k accuracy: 1.0000 - val_loss: 0.2408 - val_accuracy: 0.9327 - val_precision: 0.9347 - val_recall: 0.9314 - val_auc: 0.9849 - val_top k accuracy: 1.0000\n",
      "Epoch 35/50\n",
      "735/735 [==============================] - 64s 87ms/step - loss: 0.1435 - accuracy: 0.9520 - precision: 0.9588 - recall: 0.9453 - auc: 0.9956 - top k accuracy: 1.0000 - val_loss: 0.1850 - val_accuracy: 0.9443 - val_precision: 0.9455 - val_recall: 0.9428 - val_auc: 0.9896 - val_top k accuracy: 1.0000\n",
      "Epoch 36/50\n",
      "735/735 [==============================] - 66s 90ms/step - loss: 0.1435 - accuracy: 0.9532 - precision: 0.9598 - recall: 0.9464 - auc: 0.9957 - top k accuracy: 1.0000 - val_loss: 0.2041 - val_accuracy: 0.9406 - val_precision: 0.9413 - val_recall: 0.9394 - val_auc: 0.9873 - val_top k accuracy: 1.0000\n",
      "Epoch 37/50\n",
      "735/735 [==============================] - 66s 89ms/step - loss: 0.1421 - accuracy: 0.9534 - precision: 0.9602 - recall: 0.9470 - auc: 0.9956 - top k accuracy: 1.0000 - val_loss: 0.1936 - val_accuracy: 0.9431 - val_precision: 0.9442 - val_recall: 0.9419 - val_auc: 0.9882 - val_top k accuracy: 1.0000\n",
      "Epoch 38/50\n",
      "735/735 [==============================] - 66s 89ms/step - loss: 0.1376 - accuracy: 0.9555 - precision: 0.9614 - recall: 0.9491 - auc: 0.9960 - top k accuracy: 1.0000 - val_loss: 0.2259 - val_accuracy: 0.9349 - val_precision: 0.9371 - val_recall: 0.9331 - val_auc: 0.9859 - val_top k accuracy: 1.0000\n",
      "Epoch 39/50\n",
      "735/735 [==============================] - 66s 89ms/step - loss: 0.1364 - accuracy: 0.9557 - precision: 0.9625 - recall: 0.9485 - auc: 0.9960 - top k accuracy: 1.0000 - val_loss: 0.3398 - val_accuracy: 0.9143 - val_precision: 0.9148 - val_recall: 0.9129 - val_auc: 0.9763 - val_top k accuracy: 1.0000\n",
      "Epoch 40/50\n",
      "735/735 [==============================] - 66s 89ms/step - loss: 0.1358 - accuracy: 0.9548 - precision: 0.9605 - recall: 0.9487 - auc: 0.9960 - top k accuracy: 1.0000 - val_loss: 0.2026 - val_accuracy: 0.9356 - val_precision: 0.9369 - val_recall: 0.9349 - val_auc: 0.9878 - val_top k accuracy: 1.0000\n",
      "Epoch 41/50\n",
      "735/735 [==============================] - 66s 89ms/step - loss: 0.1232 - accuracy: 0.9577 - precision: 0.9639 - recall: 0.9520 - auc: 0.9968 - top k accuracy: 1.0000 - val_loss: 0.2024 - val_accuracy: 0.9435 - val_precision: 0.9442 - val_recall: 0.9428 - val_auc: 0.9878 - val_top k accuracy: 1.0000\n",
      "Epoch 42/50\n",
      "735/735 [==============================] - 66s 89ms/step - loss: 0.1293 - accuracy: 0.9562 - precision: 0.9622 - recall: 0.9498 - auc: 0.9966 - top k accuracy: 1.0000 - val_loss: 0.2415 - val_accuracy: 0.9385 - val_precision: 0.9401 - val_recall: 0.9378 - val_auc: 0.9848 - val_top k accuracy: 1.0000\n",
      "Epoch 43/50\n",
      "735/735 [==============================] - 66s 89ms/step - loss: 0.1266 - accuracy: 0.9585 - precision: 0.9648 - recall: 0.9521 - auc: 0.9966 - top k accuracy: 1.0000 - val_loss: 0.2014 - val_accuracy: 0.9428 - val_precision: 0.9442 - val_recall: 0.9416 - val_auc: 0.9876 - val_top k accuracy: 1.0000\n",
      "Epoch 44/50\n",
      "735/735 [==============================] - 66s 89ms/step - loss: 0.1197 - accuracy: 0.9608 - precision: 0.9662 - recall: 0.9551 - auc: 0.9969 - top k accuracy: 1.0000 - val_loss: 0.2382 - val_accuracy: 0.9366 - val_precision: 0.9383 - val_recall: 0.9349 - val_auc: 0.9845 - val_top k accuracy: 1.0000\n",
      "Epoch 45/50\n",
      "735/735 [==============================] - 66s 90ms/step - loss: 0.1159 - accuracy: 0.9608 - precision: 0.9652 - recall: 0.9556 - auc: 0.9970 - top k accuracy: 1.0000 - val_loss: 0.2489 - val_accuracy: 0.9385 - val_precision: 0.9405 - val_recall: 0.9372 - val_auc: 0.9846 - val_top k accuracy: 1.0000\n",
      "Epoch 46/50\n",
      "735/735 [==============================] - 66s 89ms/step - loss: 0.1087 - accuracy: 0.9623 - precision: 0.9677 - recall: 0.9576 - auc: 0.9974 - top k accuracy: 1.0000 - val_loss: 0.2273 - val_accuracy: 0.9406 - val_precision: 0.9410 - val_recall: 0.9394 - val_auc: 0.9857 - val_top k accuracy: 1.0000\n",
      "Epoch 47/50\n",
      "735/735 [==============================] - 66s 89ms/step - loss: 0.1146 - accuracy: 0.9619 - precision: 0.9673 - recall: 0.9570 - auc: 0.9970 - top k accuracy: 1.0000 - val_loss: 0.2190 - val_accuracy: 0.9399 - val_precision: 0.9411 - val_recall: 0.9392 - val_auc: 0.9870 - val_top k accuracy: 1.0000\n",
      "Epoch 48/50\n",
      "735/735 [==============================] - 63s 86ms/step - loss: 0.1150 - accuracy: 0.9609 - precision: 0.9670 - recall: 0.9554 - auc: 0.9971 - top k accuracy: 1.0000 - val_loss: 0.5258 - val_accuracy: 0.8781 - val_precision: 0.8806 - val_recall: 0.8762 - val_auc: 0.9613 - val_top k accuracy: 1.0000\n",
      "Epoch 49/50\n",
      "735/735 [==============================] - 64s 87ms/step - loss: 0.1066 - accuracy: 0.9632 - precision: 0.9680 - recall: 0.9582 - auc: 0.9975 - top k accuracy: 1.0000 - val_loss: 0.2181 - val_accuracy: 0.9464 - val_precision: 0.9473 - val_recall: 0.9452 - val_auc: 0.9869 - val_top k accuracy: 1.0000\n",
      "Epoch 50/50\n",
      "735/735 [==============================] - 65s 89ms/step - loss: 0.1115 - accuracy: 0.9628 - precision: 0.9684 - recall: 0.9560 - auc: 0.9975 - top k accuracy: 1.0000 - val_loss: 0.2153 - val_accuracy: 0.9450 - val_precision: 0.9459 - val_recall: 0.9440 - val_auc: 0.9867 - val_top k accuracy: 1.0000\n"
     ]
    }
   ],
   "source": [
    "history_dcnn_cw = net_dcnn_112_cw.fit(train_data,\n",
    "          epochs=50,\n",
    "          steps_per_epoch=step_per_epoch_train,\n",
    "          validation_data=validation_data,\n",
    "          validation_steps=step_per_epoch_val,\n",
    "          class_weight = train_class_weights,\n",
    "          workers = 3,\n",
    "          callbacks=[model_checkpoint_callback, early_stopper])"
   ]
  },
  {
   "cell_type": "code",
   "execution_count": 28,
   "metadata": {},
   "outputs": [],
   "source": [
    "np.save(f'C:/Users/marco/Desktop/Local_Documents/models/Class_Weight_NoAug/dcnn_history_{img_size}_{version}.npy',\n",
    "        history_dcnn_cw.history)"
   ]
  },
  {
   "attachments": {},
   "cell_type": "markdown",
   "metadata": {},
   "source": [
    "# Evaluation"
   ]
  },
  {
   "cell_type": "code",
   "execution_count": 30,
   "metadata": {},
   "outputs": [
    {
     "data": {
      "text/plain": [
       "<matplotlib.legend.Legend at 0x177b038bb50>"
      ]
     },
     "execution_count": 30,
     "metadata": {},
     "output_type": "execute_result"
    },
    {
     "data": {
      "image/png": "[encoded data removed]",
      "text/plain": [
       "<Figure size 1000x1000 with 2 Axes>"
      ]
     },
     "metadata": {},
     "output_type": "display_data"
    }
   ],
   "source": [
    "# Visualization of the learning curves\n",
    "\n",
    "# Loss\n",
    "plt.subplot(1, 2, 1)\n",
    "plt.plot(history_dcnn_cw.history['loss'])\n",
    "plt.plot(history_dcnn_cw.history['val_loss'])\n",
    "plt.xlabel('Epoch')\n",
    "plt.ylabel('Loss')\n",
    "plt.legend(['train', 'validation'])\n",
    "\n",
    "# Accuracy\n",
    "plt.subplot(1, 2, 2)\n",
    "plt.plot(history_dcnn_cw.history['accuracy'])\n",
    "plt.plot(history_dcnn_cw.history['val_accuracy'])\n",
    "plt.xlabel('Epoch')\n",
    "plt.ylabel('Accuracy')\n",
    "plt.legend(['train', 'validation'])"
   ]
  },
  {
   "cell_type": "code",
   "execution_count": 32,
   "metadata": {},
   "outputs": [
    {
     "name": "stdout",
     "output_type": "stream",
     "text": [
      "13/13 [==============================] - 0s 24ms/step - loss: 0.3965 - accuracy: 0.9068 - precision: 0.9086 - recall: 0.9018 - auc: 0.9680 - top k accuracy: 1.0000\n",
      "Test loss: 0.3964598774909973\n",
      "Test accuracy: 0.9068009853363037\n"
     ]
    }
   ],
   "source": [
    "# Evaluation\n",
    "score = net_dcnn_112_cw.evaluate(test_data)\n",
    "print('Test loss:', score[0])\n",
    "print('Test accuracy:', score[1])"
   ]
  },
  {
   "cell_type": "code",
   "execution_count": 33,
   "metadata": {},
   "outputs": [
    {
     "name": "stdout",
     "output_type": "stream",
     "text": [
      "13/13 [==============================] - 4s 37ms/step\n"
     ]
    }
   ],
   "source": [
    "pred = net_dcnn_112_cw.predict(test_data)"
   ]
  },
  {
   "cell_type": "code",
   "execution_count": 40,
   "metadata": {},
   "outputs": [
    {
     "data": {
      "text/plain": [
       "array([0, 0, 0, 0, 0, 0, 0, 0, 0, 0, 0, 0, 0, 0, 0, 0, 0, 0, 0, 0, 0, 0,\n",
       "       0, 0, 0, 0, 0, 0, 0, 0, 0, 0, 0, 0, 0, 0, 0, 0, 0, 0, 0, 0, 0, 0,\n",
       "       0, 0, 0, 0, 0, 0, 0, 0, 0, 0, 0, 0, 0, 0, 0, 0, 0, 0, 0, 0, 0, 0,\n",
       "       0, 0, 0, 0, 0, 0, 0, 0, 0, 0, 0, 0, 0, 0, 0, 0, 0, 0, 0, 0, 0, 0,\n",
       "       0, 0, 0, 0, 0, 0, 0, 0, 0, 0, 0, 0, 0, 0, 0, 0, 0, 0, 0, 0, 0, 0,\n",
       "       0, 0, 0, 0, 0, 0, 0, 0, 0, 0, 0, 0, 0, 0, 0, 0, 0, 0, 0, 0, 0, 0,\n",
       "       0, 0, 0, 0, 0, 0, 0, 0, 0, 0, 0, 0, 0, 0, 0, 0, 0, 0, 0, 0, 0, 0,\n",
       "       0, 0, 0, 0, 0, 0, 0, 0, 0, 0, 0, 0, 0, 0, 0, 0, 0, 0, 0, 0, 0, 0,\n",
       "       0, 0, 0, 0, 0, 0, 0, 0, 0, 0, 0, 0, 0, 0, 0, 0, 0, 0, 0, 0, 0, 0,\n",
       "       0, 1, 1, 1, 1, 1, 1, 1, 1, 1, 1, 1, 1, 1, 1, 1, 1, 1, 1, 1, 1, 1,\n",
       "       1, 1, 1, 1, 1, 1, 1, 1, 1, 1, 1, 1, 1, 1, 1, 1, 1, 1, 1, 1, 1, 1,\n",
       "       1, 1, 1, 1, 1, 1, 1, 1, 1, 1, 1, 1, 1, 1, 1, 1, 1, 1, 1, 1, 1, 1,\n",
       "       1, 1, 1, 1, 1, 1, 1, 1, 1, 1, 1, 1, 1, 1, 1, 1, 1, 1, 1, 1, 1, 1,\n",
       "       1, 1, 1, 1, 1, 1, 1, 1, 1, 1, 1, 1, 2, 2, 2, 2, 2, 2, 2, 2, 2, 2,\n",
       "       2, 2, 2, 2, 2, 2, 2, 2, 2, 2, 2, 2, 2, 2, 2, 2, 2, 2, 2, 2, 2, 2,\n",
       "       2, 2, 2, 2, 2, 2, 2, 2, 2, 2, 2, 2, 2, 2, 2, 2, 2, 2, 2, 2, 2, 2,\n",
       "       2, 2, 2, 2, 2, 2, 2, 2, 2, 2, 2, 2, 2, 2, 2, 2, 2, 2, 2, 2, 2, 2,\n",
       "       2, 2, 2, 2, 2, 2, 2, 2, 2, 2, 2, 2, 2, 2, 2, 2, 2, 2, 2, 2, 2, 2,\n",
       "       2])"
      ]
     },
     "execution_count": 40,
     "metadata": {},
     "output_type": "execute_result"
    }
   ],
   "source": [
    "test_data.classes"
   ]
  },
  {
   "cell_type": "code",
   "execution_count": 41,
   "metadata": {},
   "outputs": [
    {
     "name": "stdout",
     "output_type": "stream",
     "text": [
      "[0 0 0 0 0 0 2 0 0 0 0 0 0 0 0 0 0 0 0 1 2 0 2 0 0 0 0 0 1 0 0 0 0 0 0 0 0\n",
      " 0 0 0 0 0 0 0 0 0 0 0 1 0 0 0 0 0 0 0 0 0 0 0 0 0 0 1 0 1 0 0 0 0 0 0 0 0\n",
      " 0 0 1 0 0 0 0 1 0 0 0 0 0 0 0 0 0 2 0 0 0 1 0 0 0 1 0 0 0 0 0 0 1 0 0 0 0\n",
      " 0 0 0 0 0 2 0 0 0 0 0 0 0 0 0 0 0 0 0 0 0 1 0 0 0 0 0 0 0 0 0 0 0 0 0 0 0\n",
      " 0 0 0 0 0 0 0 0 0 0 0 0 0 0 0 0 0 0 0 0 0 0 0 0 0 0 0 0 0 0 0 0 1 0 0 1 0\n",
      " 0 0 0 0 0 0 0 0 0 0 2 0 0 0 1 0 1 1 1 1 1 1 1 1 1 2 1 1 1 1 2 1 1 1 1 2 1\n",
      " 2 1 1 1 1 1 1 1 2 2 1 1 1 1 1 1 0 1 1 1 1 1 1 1 1 1 1 1 1 1 1 1 1 1 1 1 1\n",
      " 1 1 1 1 1 1 1 1 1 1 1 1 1 1 1 1 1 1 1 1 1 1 1 1 2 1 1 1 1 1 1 1 1 1 1 1 1\n",
      " 1 1 2 2 2 2 2 2 2 2 1 2 2 2 2 2 2 2 2 2 2 2 1 2 2 2 2 2 2 2 0 2 0 2 2 2 2\n",
      " 2 2 2 1 2 2 2 2 2 2 2 1 2 2 2 2 1 2 2 2 2 2 1 2 2 2 2 1 2 2 2 2 2 2 2 2 2\n",
      " 2 2 2 2 2 2 2 2 2 2 2 2 2 2 2 2 2 2 2 2 2 2 2 2 2 2 2]\n"
     ]
    }
   ],
   "source": [
    "print(pred.argmax(axis=1))"
   ]
  },
  {
   "cell_type": "code",
   "execution_count": 51,
   "metadata": {},
   "outputs": [
    {
     "data": {
      "text/plain": [
       "{'COVID-19': 0, 'normal': 1, 'pneumonia': 2}"
      ]
     },
     "execution_count": 51,
     "metadata": {},
     "output_type": "execute_result"
    }
   ],
   "source": [
    "test_data.class_indices"
   ]
  },
  {
   "cell_type": "code",
   "execution_count": 62,
   "metadata": {},
   "outputs": [
    {
     "name": "stdout",
     "output_type": "stream",
     "text": [
      "['COVID-19', 'normal', 'pneumonia']\n"
     ]
    }
   ],
   "source": [
    "labels = test_data.class_indices\n",
    "labels = list(labels.keys())\n",
    "print(labels)"
   ]
  },
  {
   "cell_type": "code",
   "execution_count": 64,
   "metadata": {},
   "outputs": [],
   "source": [
    "y_pred = pred.argmax(axis=1)\n",
    "y_test = test_data.classes\n",
    "\n",
    "# Matrice di confusione\n",
    "matrix = confusion_matrix(y_test, y_pred, labels = [0,1,2])"
   ]
  },
  {
   "cell_type": "code",
   "execution_count": 67,
   "metadata": {},
   "outputs": [
    {
     "data": {
      "image/png": "[encoded data removed]",
      "text/plain": [
       "<Figure size 700x700 with 2 Axes>"
      ]
     },
     "metadata": {},
     "output_type": "display_data"
    }
   ],
   "source": [
    "cm_display = ConfusionMatrixDisplay(confusion_matrix = matrix)\n",
    "\n",
    "cm_display.plot()\n",
    "plt.show()"
   ]
  }
 ],
 "metadata": {
  "kernelspec": {
   "display_name": "Python 3.8.16 ('tf')",
   "language": "python",
   "name": "python3"
  },
  "language_info": {
   "codemirror_mode": {
    "name": "ipython",
    "version": 3
   },
   "file_extension": ".py",
   "mimetype": "text/x-python",
   "name": "python",
   "nbconvert_exporter": "python",
   "pygments_lexer": "ipython3",
   "version": "3.8.16"
  },
  "orig_nbformat": 4,
  "vscode": {
   "interpreter": {
    "hash": "4a44bbf2a83640dfde2344ebe838e4635fa18e86f31ce321969bab99fe559bce"
   }
  }
 },
 "nbformat": 4,
 "nbformat_minor": 2
}
