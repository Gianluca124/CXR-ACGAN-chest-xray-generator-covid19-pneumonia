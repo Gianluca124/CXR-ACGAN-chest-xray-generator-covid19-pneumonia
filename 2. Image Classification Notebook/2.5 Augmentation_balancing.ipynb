{
 "cells": [
  {
   "cell_type": "code",
   "execution_count": 111,
   "metadata": {},
   "outputs": [
    {
     "name": "stdout",
     "output_type": "stream",
     "text": [
      "Wed Feb  8 13:12:38 2023       \n",
      "+-----------------------------------------------------------------------------+\n",
      "| NVIDIA-SMI 528.24       Driver Version: 528.24       CUDA Version: 12.0     |\n",
      "|-------------------------------+----------------------+----------------------+\n",
      "| GPU  Name            TCC/WDDM | Bus-Id        Disp.A | Volatile Uncorr. ECC |\n",
      "| Fan  Temp  Perf  Pwr:Usage/Cap|         Memory-Usage | GPU-Util  Compute M. |\n",
      "|                               |                      |               MIG M. |\n",
      "|===============================+======================+======================|\n",
      "|   0  NVIDIA GeForce ... WDDM  | 00000000:01:00.0 Off |                  N/A |\n",
      "| N/A   60C    P8    N/A /  N/A |    361MiB /  2048MiB |      0%      Default |\n",
      "|                               |                      |                  N/A |\n",
      "+-------------------------------+----------------------+----------------------+\n",
      "                                                                               \n",
      "+-----------------------------------------------------------------------------+\n",
      "| Processes:                                                                  |\n",
      "|  GPU   GI   CI        PID   Type   Process name                  GPU Memory |\n",
      "|        ID   ID                                                   Usage      |\n",
      "|=============================================================================|\n",
      "|    0   N/A  N/A     23024      C   ...conda3\\envs\\tf\\python.exe    N/A      |\n",
      "|    0   N/A  N/A     26588    C+G   ...ser\\Application\\brave.exe    N/A      |\n",
      "+-----------------------------------------------------------------------------+\n"
     ]
    }
   ],
   "source": [
    "!nvidia-smi"
   ]
  },
  {
   "cell_type": "code",
   "execution_count": 112,
   "metadata": {},
   "outputs": [
    {
     "name": "stdout",
     "output_type": "stream",
     "text": [
      "nvcc: NVIDIA (R) Cuda compiler driver\n",
      "Copyright (c) 2005-2022 NVIDIA Corporation\n",
      "Built on Wed_Sep_21_10:41:10_Pacific_Daylight_Time_2022\n",
      "Cuda compilation tools, release 11.8, V11.8.89\n",
      "Build cuda_11.8.r11.8/compiler.31833905_0\n"
     ]
    }
   ],
   "source": [
    "!nvcc -V"
   ]
  },
  {
   "cell_type": "code",
   "execution_count": 113,
   "metadata": {},
   "outputs": [
    {
     "name": "stdout",
     "output_type": "stream",
     "text": [
      "[name: \"/device:CPU:0\"\n",
      "device_type: \"CPU\"\n",
      "memory_limit: 268435456\n",
      "locality {\n",
      "}\n",
      "incarnation: 12151677134713004603\n",
      "xla_global_id: -1\n",
      ", name: \"/device:GPU:0\"\n",
      "device_type: \"GPU\"\n",
      "memory_limit: 1297474971\n",
      "locality {\n",
      "  bus_id: 1\n",
      "  links {\n",
      "  }\n",
      "}\n",
      "incarnation: 6695397469065531639\n",
      "physical_device_desc: \"device: 0, name: NVIDIA GeForce MX450, pci bus id: 0000:01:00.0, compute capability: 7.5\"\n",
      "xla_global_id: 416903419\n",
      "]\n"
     ]
    }
   ],
   "source": [
    "from tensorflow.python.client import device_lib\n",
    "print(device_lib.list_local_devices())"
   ]
  },
  {
   "cell_type": "code",
   "execution_count": 4,
   "metadata": {},
   "outputs": [],
   "source": [
    "# Keras e TF\n",
    "\n",
    "import tensorflow as tf \n",
    "from tensorflow import keras\n",
    "# from tensorflow.keras.utils import load_img\n",
    "from keras.preprocessing.image import ImageDataGenerator\n",
    "from keras.models import Sequential\n",
    "from keras.layers import Conv2D, Conv1D, MaxPooling2D, Dense, Flatten, BatchNormalization, Activation, AveragePooling2D, Input, Flatten, Dropout\n",
    "from keras.callbacks import ModelCheckpoint, LearningRateScheduler\n",
    "from keras.callbacks import ReduceLROnPlateau\n",
    "from keras.regularizers import l2\n",
    "from keras import backend as K\n",
    "from keras.models import Model\n",
    "from keras import regularizers\n",
    "from tensorflow import initializers\n",
    "from keras.layers import LSTM\n",
    "# from keras.layers.embeddings import Embedding\n",
    "from keras.preprocessing import sequence\n",
    "from keras.layers import TimeDistributed\n",
    "from keras.layers import LSTM\n",
    "from keras.models import load_model\n",
    "from keras.layers import Activation\n",
    "\n",
    "# Sk-Learn\n",
    "from sklearn.metrics import classification_report, confusion_matrix\n",
    "from sklearn.model_selection import train_test_split\n",
    "from sklearn.metrics import classification_report,confusion_matrix, ConfusionMatrixDisplay\n",
    "\n",
    "# Image management\n",
    "import cv2\n",
    "\n",
    "from time import time\n",
    "import sys\n",
    "import os\n",
    "import glob2 as glob\n",
    "from matplotlib import pyplot as plt\n",
    "import seaborn as sns\n",
    "import numpy as np\n",
    "import pandas as pd\n",
    "from scipy.linalg import fractional_matrix_power\n",
    "\n",
    "from sklearn.utils import resample\n",
    "from sklearn.utils import shuffle\n",
    "from sklearn.utils import class_weight \n",
    "\n",
    "import pydot\n",
    "import pydotplus\n",
    "from pydotplus import graphviz"
   ]
  },
  {
   "cell_type": "code",
   "execution_count": 5,
   "metadata": {},
   "outputs": [],
   "source": [
    "# Set visualization size for figures \n",
    "plt.rcParams['figure.figsize'] = [7,7] # width, height"
   ]
  },
  {
   "cell_type": "code",
   "execution_count": 89,
   "metadata": {},
   "outputs": [],
   "source": [
    "os.chdir('C:/Users/marco/Desktop/Local_Documents/data/COVIDx-splitted-resized-112')"
   ]
  },
  {
   "attachments": {},
   "cell_type": "markdown",
   "metadata": {},
   "source": [
    "Determiniamo il numero di immagini necessarie per bilanciare le classi, importando il .txt contenente il dettaglio delle immagini per ogni classe"
   ]
  },
  {
   "cell_type": "code",
   "execution_count": 118,
   "metadata": {},
   "outputs": [],
   "source": [
    "# Import annotation (train, test)\n",
    "\n",
    "os.chdir('C:/Users/marco/Desktop/Local_Documents/data/COVIDx-splitted-resized-112')\n",
    "\n",
    "train_label =pd.read_csv('train_COVIDx9A.txt', sep = ' ', header=None)\n",
    "train_label.columns=['patient id', 'img_path', 'label', 'data source']\n",
    "train_label=train_label.drop(['patient id', 'data source'], axis=1 )"
   ]
  },
  {
   "cell_type": "code",
   "execution_count": 119,
   "metadata": {},
   "outputs": [
    {
     "data": {
      "text/html": [
       "<div>\n",
       "<style scoped>\n",
       "    .dataframe tbody tr th:only-of-type {\n",
       "        vertical-align: middle;\n",
       "    }\n",
       "\n",
       "    .dataframe tbody tr th {\n",
       "        vertical-align: top;\n",
       "    }\n",
       "\n",
       "    .dataframe thead th {\n",
       "        text-align: right;\n",
       "    }\n",
       "</style>\n",
       "<table border=\"1\" class=\"dataframe\">\n",
       "  <thead>\n",
       "    <tr style=\"text-align: right;\">\n",
       "      <th></th>\n",
       "      <th>img_path</th>\n",
       "      <th>label</th>\n",
       "    </tr>\n",
       "  </thead>\n",
       "  <tbody>\n",
       "    <tr>\n",
       "      <th>0</th>\n",
       "      <td>pneumonia/SARS-10.1148rg.242035193-g04mr34g0-F...</td>\n",
       "      <td>pneumonia</td>\n",
       "    </tr>\n",
       "    <tr>\n",
       "      <th>1</th>\n",
       "      <td>pneumonia/SARS-10.1148rg.242035193-g04mr34g0-F...</td>\n",
       "      <td>pneumonia</td>\n",
       "    </tr>\n",
       "    <tr>\n",
       "      <th>2</th>\n",
       "      <td>pneumonia/SARS-10.1148rg.242035193-g04mr34g0-F...</td>\n",
       "      <td>pneumonia</td>\n",
       "    </tr>\n",
       "    <tr>\n",
       "      <th>3</th>\n",
       "      <td>pneumonia/SARS-10.1148rg.242035193-g04mr34g04a...</td>\n",
       "      <td>pneumonia</td>\n",
       "    </tr>\n",
       "    <tr>\n",
       "      <th>4</th>\n",
       "      <td>pneumonia/SARS-10.1148rg.242035193-g04mr34g04b...</td>\n",
       "      <td>pneumonia</td>\n",
       "    </tr>\n",
       "  </tbody>\n",
       "</table>\n",
       "</div>"
      ],
      "text/plain": [
       "                                            img_path      label\n",
       "0  pneumonia/SARS-10.1148rg.242035193-g04mr34g0-F...  pneumonia\n",
       "1  pneumonia/SARS-10.1148rg.242035193-g04mr34g0-F...  pneumonia\n",
       "2  pneumonia/SARS-10.1148rg.242035193-g04mr34g0-F...  pneumonia\n",
       "3  pneumonia/SARS-10.1148rg.242035193-g04mr34g04a...  pneumonia\n",
       "4  pneumonia/SARS-10.1148rg.242035193-g04mr34g04b...  pneumonia"
      ]
     },
     "execution_count": 119,
     "metadata": {},
     "output_type": "execute_result"
    }
   ],
   "source": [
    "train_label.head()"
   ]
  },
  {
   "cell_type": "code",
   "execution_count": 120,
   "metadata": {},
   "outputs": [
    {
     "data": {
      "text/plain": [
       "COVID-19     16490\n",
       "normal        8085\n",
       "pneumonia     5555\n",
       "Name: label, dtype: int64"
      ]
     },
     "execution_count": 120,
     "metadata": {},
     "output_type": "execute_result"
    }
   ],
   "source": [
    "train_label['label'].value_counts()"
   ]
  },
  {
   "cell_type": "code",
   "execution_count": 122,
   "metadata": {},
   "outputs": [
    {
     "name": "stdout",
     "output_type": "stream",
     "text": [
      "COVID-19     16490\n",
      "normal        8085\n",
      "pneumonia     5555\n",
      "Name: label, dtype: int64\n"
     ]
    }
   ],
   "source": [
    "distr = train_label['label'].value_counts()\n",
    "print(distr)"
   ]
  },
  {
   "cell_type": "code",
   "execution_count": 123,
   "metadata": {},
   "outputs": [
    {
     "name": "stdout",
     "output_type": "stream",
     "text": [
      "8405\n"
     ]
    }
   ],
   "source": [
    "num_image_norm = distr[0] - distr[1] # Numero di immagini da generare per la classe normal\n",
    "print(num_image_norm)"
   ]
  },
  {
   "cell_type": "code",
   "execution_count": 124,
   "metadata": {},
   "outputs": [
    {
     "name": "stdout",
     "output_type": "stream",
     "text": [
      "10935\n"
     ]
    }
   ],
   "source": [
    "num_image_pneum = distr[0] - distr[2] # Numero di immagini da generare per la classe pneumonia\n",
    "print(num_image_pneum)"
   ]
  },
  {
   "attachments": {},
   "cell_type": "markdown",
   "metadata": {},
   "source": [
    "# Oversampling via Augmentation"
   ]
  },
  {
   "attachments": {},
   "cell_type": "markdown",
   "metadata": {},
   "source": [
    "Tramite lo script *image_generator.py* andiamo a bilanciare le classi, generando  immagini ruotate, flippate, blurrate ecc.. dalle due classi minori, tali da avere un dataset bilanciato.\n",
    "\n",
    "Andiamo a verificare l'effettivo bilanciamento del dataset"
   ]
  },
  {
   "cell_type": "code",
   "execution_count": 107,
   "metadata": {},
   "outputs": [],
   "source": [
    "# Import annotation augmented (train, test)\n",
    "\n",
    "os.chdir('C:/Users/marco/Desktop/Local_Documents/data/COVIDx-splitted-resized-112_augm')\n",
    "\n",
    "train_label_augm =pd.read_csv('train_COVIDx9A_rebuild.txt', sep = ' ', header=None)\n",
    "train_label_augm.columns=['img_path', 'label']"
   ]
  },
  {
   "cell_type": "code",
   "execution_count": 109,
   "metadata": {},
   "outputs": [
    {
     "data": {
      "text/plain": [
       "<AxesSubplot: xlabel='label', ylabel='Count'>"
      ]
     },
     "execution_count": 109,
     "metadata": {},
     "output_type": "execute_result"
    },
    {
     "data": {
      "image/png": "[encoded data removed]",
      "text/plain": [
       "<Figure size 700x700 with 1 Axes>"
      ]
     },
     "metadata": {},
     "output_type": "display_data"
    }
   ],
   "source": [
    "sns.histplot(train_label_augm['label'], discrete=True)"
   ]
  },
  {
   "attachments": {},
   "cell_type": "markdown",
   "metadata": {},
   "source": [
    "Il dataset ora contiene lo stesso numero di immagini per ogni classe"
   ]
  },
  {
   "cell_type": "code",
   "execution_count": 110,
   "metadata": {},
   "outputs": [
    {
     "name": "stdout",
     "output_type": "stream",
     "text": [
      "COVID-19     15774\n",
      "normal       15774\n",
      "pneumonia    15774\n",
      "Name: label, dtype: int64\n"
     ]
    }
   ],
   "source": [
    "distr = train_label_augm['label'].value_counts()\n",
    "print(distr)"
   ]
  },
  {
   "attachments": {},
   "cell_type": "markdown",
   "metadata": {},
   "source": [
    "# Image generator"
   ]
  },
  {
   "cell_type": "markdown",
   "metadata": {},
   "source": [
    "Per bilanciare le classi viene usata la funzione menzionata precedentemente , che genera un numero fissato di immagini (un numero pari a bilanciare il dataset). Una volta generate le immaginisi avrà quindi un nuovo dataset di train, contenente le immagini vere e quelle fittizie. \n",
    "\n",
    "Per il training della CNN verrà usato questo approccio:\n",
    "-   Per la fase di **training** viene usato il dataset contenuto in *COVIDx-splitted-resized-112_augm* (cartella che contiene immagini vere e fittizie appena generate)\n",
    "-   Per la fase di **validation**  viene usato il dataset sbilanciato contenuto in *COVIDx-splitted-resized-112* contenente le sole immagini reali, affinchè in fase di validation del modello la distribuzione delle classi rispetti quella reale"
   ]
  },
  {
   "cell_type": "code",
   "execution_count": 114,
   "metadata": {},
   "outputs": [],
   "source": [
    "batch_size = 32 # Batch size\n",
    "\n",
    "os.chdir('C:/Users/marco/Desktop/Local_Documents/data/COVIDx-splitted-resized-112')\n",
    "\n",
    "train_path = 'C:/Users/marco/Desktop/Local_Documents/data/COVIDx-splitted-resized-112_augm/train'\n",
    "validation_path = 'C:/Users/marco/Desktop/Local_Documents/data/COVIDx-splitted-resized-112/train'\n",
    "test_path = 'C:/Users/marco/Desktop/Local_Documents/data/COVIDx-splitted-resized-112_augm/test'\n",
    "\n",
    "train_datagen = ImageDataGenerator(rescale=1./255., validation_split=0.3)\n",
    "test_datagen = ImageDataGenerator(rescale=1./255.)"
   ]
  },
  {
   "cell_type": "code",
   "execution_count": 115,
   "metadata": {},
   "outputs": [
    {
     "name": "stdout",
     "output_type": "stream",
     "text": [
      "Found 33126 images belonging to 3 classes.\n"
     ]
    }
   ],
   "source": [
    "train_data = train_datagen.flow_from_directory(\n",
    "        train_path,  \n",
    "        target_size=(112, 112),  # Lo inserisco per precauzione\n",
    "        batch_size=batch_size,\n",
    "        seed=123,\n",
    "        shuffle=True,\n",
    "        subset='training',\n",
    "        class_mode='categorical')"
   ]
  },
  {
   "cell_type": "code",
   "execution_count": 116,
   "metadata": {},
   "outputs": [
    {
     "name": "stdout",
     "output_type": "stream",
     "text": [
      "Found 8820 images belonging to 3 classes.\n"
     ]
    }
   ],
   "source": [
    "validation_data = train_datagen.flow_from_directory(\n",
    "        validation_path,  \n",
    "        target_size=(112, 112),  # Lo inserisco per precauzione\n",
    "        batch_size=batch_size,\n",
    "        seed=123,\n",
    "        shuffle=True,\n",
    "        subset='validation',\n",
    "        class_mode='categorical')"
   ]
  },
  {
   "cell_type": "code",
   "execution_count": null,
   "metadata": {},
   "outputs": [
    {
     "name": "stdout",
     "output_type": "stream",
     "text": [
      "Found 397 images belonging to 3 classes.\n"
     ]
    }
   ],
   "source": [
    "# Test set\n",
    "test_data = test_datagen.flow_from_directory(\n",
    "        test_path,  \n",
    "        target_size=(112, 112),  # Lo inserisco per precauzione\n",
    "        batch_size=batch_size,\n",
    "        shuffle=False,\n",
    "        class_mode='categorical')"
   ]
  },
  {
   "cell_type": "markdown",
   "metadata": {},
   "source": [
    "# Definizione dell'architettura"
   ]
  },
  {
   "cell_type": "code",
   "execution_count": null,
   "metadata": {},
   "outputs": [],
   "source": [
    "#Definizione del CallBacks: Early stopper sulla loss di validazione\n",
    "early_stopper = tf.keras.callbacks.EarlyStopping(monitor='val_loss', patience=100)"
   ]
  },
  {
   "cell_type": "code",
   "execution_count": null,
   "metadata": {},
   "outputs": [],
   "source": [
    "version = \"v1\"\n",
    "img_size = '112'\n",
    "checkpoint_filepath = f'C:/Users/marco/Desktop/Local_Documents/models/Class_Weight_NoAug/dcnn_model_{img_size}_{version}_val_acc_best.hdf5'\n",
    "model_checkpoint_callback = tf.keras.callbacks.ModelCheckpoint(\n",
    "    filepath=checkpoint_filepath,\n",
    "    monitor='val_accuracy',\n",
    "    mode='max',\n",
    "    save_best_only=True)"
   ]
  },
  {
   "cell_type": "code",
   "execution_count": null,
   "metadata": {},
   "outputs": [],
   "source": [
    "num_classes = 3\n",
    "inputs = keras.Input((112,112,3))\n",
    "\n",
    "x = inputs\n",
    "\n",
    "x = keras.layers.Conv2D(16, 3, padding =\"same\", strides=1)(x)\n",
    "x = keras.layers.Activation('relu')(x)\n",
    "x = keras.layers.BatchNormalization()(x)\n",
    "\n",
    "x = keras.layers.Conv2D(32, 3,  padding =\"same\", strides=1)(x)\n",
    "x = keras.layers.Activation('relu')(x)\n",
    "x = keras.layers.MaxPooling2D(pool_size=(3,3), strides=(3,3))(x)\n",
    "x = keras.layers.Dropout(0.2)(x)\n",
    "\n",
    "x = keras.layers.Conv2D(64, 3,  padding =\"same\", strides=1)(x)\n",
    "x = keras.layers.Activation('relu')(x)\n",
    "x = keras.layers.BatchNormalization()(x)\n",
    "\n",
    "x = keras.layers.Conv2D(128, 2,  padding =\"same\", strides=1)(x)\n",
    "x = keras.layers.Activation('relu')(x)\n",
    "\n",
    "x = keras.layers.MaxPooling2D(pool_size=(2,2), strides=(3,3))(x)\n",
    "\n",
    "x = keras.layers.Dropout(0.2)(x)\n",
    "\n",
    "# x = keras.layers.GlobalMaxPool2D()(x)\n",
    "x = keras.layers.Flatten()(x)\n",
    "\n",
    "x = keras.layers.Dense(128, activation='relu')(x)\n",
    "x = keras.layers.Dropout(0.5)(x)\n",
    "\n",
    "# x = keras.layers.Dense(512, activation='relu')(x)\n",
    "# x = keras.layers.Dropout(0.5)(x)\n",
    "\n",
    "# x = keras.layers.Dense(1000, activation='relu')(x)\n",
    "# x = keras.layers.Dropout(0.5)(x)\n",
    "\n",
    "outputs = keras.layers.Dense(num_classes, activation='softmax')(x)\n",
    "net_dcnn_112_cw = keras.Model(inputs, outputs)\n",
    "\n"
   ]
  },
  {
   "cell_type": "code",
   "execution_count": null,
   "metadata": {},
   "outputs": [
    {
     "name": "stdout",
     "output_type": "stream",
     "text": [
      "Model: \"model_1\"\n",
      "_________________________________________________________________\n",
      " Layer (type)                Output Shape              Param #   \n",
      "=================================================================\n",
      " input_2 (InputLayer)        [(None, 112, 112, 3)]     0         \n",
      "                                                                 \n",
      " conv2d_4 (Conv2D)           (None, 112, 112, 16)      448       \n",
      "                                                                 \n",
      " activation_4 (Activation)   (None, 112, 112, 16)      0         \n",
      "                                                                 \n",
      " batch_normalization_2 (Batc  (None, 112, 112, 16)     64        \n",
      " hNormalization)                                                 \n",
      "                                                                 \n",
      " conv2d_5 (Conv2D)           (None, 112, 112, 32)      4640      \n",
      "                                                                 \n",
      " activation_5 (Activation)   (None, 112, 112, 32)      0         \n",
      "                                                                 \n",
      " max_pooling2d_2 (MaxPooling  (None, 37, 37, 32)       0         \n",
      " 2D)                                                             \n",
      "                                                                 \n",
      " dropout_3 (Dropout)         (None, 37, 37, 32)        0         \n",
      "                                                                 \n",
      " conv2d_6 (Conv2D)           (None, 37, 37, 64)        18496     \n",
      "                                                                 \n",
      " activation_6 (Activation)   (None, 37, 37, 64)        0         \n",
      "                                                                 \n",
      " batch_normalization_3 (Batc  (None, 37, 37, 64)       256       \n",
      " hNormalization)                                                 \n",
      "                                                                 \n",
      " conv2d_7 (Conv2D)           (None, 37, 37, 128)       32896     \n",
      "                                                                 \n",
      " activation_7 (Activation)   (None, 37, 37, 128)       0         \n",
      "                                                                 \n",
      " max_pooling2d_3 (MaxPooling  (None, 12, 12, 128)      0         \n",
      " 2D)                                                             \n",
      "                                                                 \n",
      " dropout_4 (Dropout)         (None, 12, 12, 128)       0         \n",
      "                                                                 \n",
      " flatten_1 (Flatten)         (None, 18432)             0         \n",
      "                                                                 \n",
      " dense_2 (Dense)             (None, 128)               2359424   \n",
      "                                                                 \n",
      " dropout_5 (Dropout)         (None, 128)               0         \n",
      "                                                                 \n",
      " dense_3 (Dense)             (None, 3)                 387       \n",
      "                                                                 \n",
      "=================================================================\n",
      "Total params: 2,416,611\n",
      "Trainable params: 2,416,451\n",
      "Non-trainable params: 160\n",
      "_________________________________________________________________\n"
     ]
    }
   ],
   "source": [
    "net_dcnn_112_cw.summary()"
   ]
  },
  {
   "cell_type": "code",
   "execution_count": null,
   "metadata": {},
   "outputs": [],
   "source": [
    "METRICS = [ \n",
    "      keras.metrics.CategoricalAccuracy(name='accuracy'),\n",
    "      keras.metrics.Precision(name='precision'),\n",
    "      keras.metrics.Recall(name='recall'),\n",
    "      keras.metrics.AUC(name='auc'),\n",
    "      keras.metrics.TopKCategoricalAccuracy(name='top k accuracy'),\n",
    "]\n",
    "OPTIMIZER = keras.optimizers.Adam(learning_rate=0.0001)"
   ]
  },
  {
   "cell_type": "code",
   "execution_count": null,
   "metadata": {},
   "outputs": [
    {
     "name": "stdout",
     "output_type": "stream",
     "text": [
      "735\n",
      "183\n"
     ]
    }
   ],
   "source": [
    "# batch size \n",
    "step_per_epoch_train = len(train_data.labels) // batch_size\n",
    "print(step_per_epoch_train)\n",
    "step_per_epoch_val = len(validation_data.labels) // batch_size\n",
    "print(step_per_epoch_val)"
   ]
  },
  {
   "cell_type": "code",
   "execution_count": null,
   "metadata": {},
   "outputs": [],
   "source": [
    "net_dcnn_112_cw.compile(loss=keras.losses.categorical_crossentropy,\n",
    "            optimizer = OPTIMIZER,\n",
    "            metrics=METRICS)"
   ]
  },
  {
   "cell_type": "code",
   "execution_count": null,
   "metadata": {},
   "outputs": [],
   "source": [
    "history_dcnn_cw = net_dcnn_112_cw.fit(train_data,\n",
    "          epochs=50,\n",
    "          steps_per_epoch=step_per_epoch_train,\n",
    "          validation_data=validation_data,\n",
    "          validation_steps=step_per_epoch_val,\n",
    "          class_weight = train_class_weights,\n",
    "          workers = 3,\n",
    "          callbacks=[model_checkpoint_callback, early_stopper])"
   ]
  },
  {
   "cell_type": "code",
   "execution_count": null,
   "metadata": {},
   "outputs": [],
   "source": [
    "np.save(f'C:/Users/marco/Desktop/Local_Documents/models/Class_Weight_NoAug/dcnn_history_{img_size}_{version}.npy',\n",
    "        history_dcnn_cw.history)"
   ]
  },
  {
   "cell_type": "markdown",
   "metadata": {},
   "source": [
    "# Evaluation"
   ]
  },
  {
   "cell_type": "code",
   "execution_count": null,
   "metadata": {},
   "outputs": [
    {
     "data": {
      "text/plain": [
       "<matplotlib.legend.Legend at 0x177b038bb50>"
      ]
     },
     "metadata": {},
     "output_type": "display_data"
    },
    {
     "data": {
      "image/png": "[encoded data removed]",
      "text/plain": [
       "<Figure size 1000x1000 with 2 Axes>"
      ]
     },
     "metadata": {},
     "output_type": "display_data"
    }
   ],
   "source": [
    "# Visualization of the learning curves\n",
    "\n",
    "# Loss\n",
    "plt.subplot(1, 2, 1)\n",
    "plt.plot(history_dcnn_cw.history['loss'])\n",
    "plt.plot(history_dcnn_cw.history['val_loss'])\n",
    "plt.xlabel('Epoch')\n",
    "plt.ylabel('Loss')\n",
    "plt.legend(['train', 'validation'])\n",
    "\n",
    "# Accuracy\n",
    "plt.subplot(1, 2, 2)\n",
    "plt.plot(history_dcnn_cw.history['accuracy'])\n",
    "plt.plot(history_dcnn_cw.history['val_accuracy'])\n",
    "plt.xlabel('Epoch')\n",
    "plt.ylabel('Accuracy')\n",
    "plt.legend(['train', 'validation'])"
   ]
  },
  {
   "cell_type": "code",
   "execution_count": null,
   "metadata": {},
   "outputs": [
    {
     "name": "stdout",
     "output_type": "stream",
     "text": [
      "13/13 [==============================] - 0s 24ms/step - loss: 0.3965 - accuracy: 0.9068 - precision: 0.9086 - recall: 0.9018 - auc: 0.9680 - top k accuracy: 1.0000\n",
      "Test loss: 0.3964598774909973\n",
      "Test accuracy: 0.9068009853363037\n"
     ]
    }
   ],
   "source": [
    "# Evaluation\n",
    "score = net_dcnn_112_cw.evaluate(test_data)\n",
    "print('Test loss:', score[0])\n",
    "print('Test accuracy:', score[1])"
   ]
  },
  {
   "cell_type": "code",
   "execution_count": null,
   "metadata": {},
   "outputs": [
    {
     "name": "stdout",
     "output_type": "stream",
     "text": [
      "13/13 [==============================] - 4s 37ms/step\n"
     ]
    }
   ],
   "source": [
    "pred = net_dcnn_112_cw.predict(test_data)"
   ]
  },
  {
   "cell_type": "code",
   "execution_count": null,
   "metadata": {},
   "outputs": [
    {
     "data": {
      "text/plain": [
       "array([0, 0, 0, 0, 0, 0, 0, 0, 0, 0, 0, 0, 0, 0, 0, 0, 0, 0, 0, 0, 0, 0,\n",
       "       0, 0, 0, 0, 0, 0, 0, 0, 0, 0, 0, 0, 0, 0, 0, 0, 0, 0, 0, 0, 0, 0,\n",
       "       0, 0, 0, 0, 0, 0, 0, 0, 0, 0, 0, 0, 0, 0, 0, 0, 0, 0, 0, 0, 0, 0,\n",
       "       0, 0, 0, 0, 0, 0, 0, 0, 0, 0, 0, 0, 0, 0, 0, 0, 0, 0, 0, 0, 0, 0,\n",
       "       0, 0, 0, 0, 0, 0, 0, 0, 0, 0, 0, 0, 0, 0, 0, 0, 0, 0, 0, 0, 0, 0,\n",
       "       0, 0, 0, 0, 0, 0, 0, 0, 0, 0, 0, 0, 0, 0, 0, 0, 0, 0, 0, 0, 0, 0,\n",
       "       0, 0, 0, 0, 0, 0, 0, 0, 0, 0, 0, 0, 0, 0, 0, 0, 0, 0, 0, 0, 0, 0,\n",
       "       0, 0, 0, 0, 0, 0, 0, 0, 0, 0, 0, 0, 0, 0, 0, 0, 0, 0, 0, 0, 0, 0,\n",
       "       0, 0, 0, 0, 0, 0, 0, 0, 0, 0, 0, 0, 0, 0, 0, 0, 0, 0, 0, 0, 0, 0,\n",
       "       0, 1, 1, 1, 1, 1, 1, 1, 1, 1, 1, 1, 1, 1, 1, 1, 1, 1, 1, 1, 1, 1,\n",
       "       1, 1, 1, 1, 1, 1, 1, 1, 1, 1, 1, 1, 1, 1, 1, 1, 1, 1, 1, 1, 1, 1,\n",
       "       1, 1, 1, 1, 1, 1, 1, 1, 1, 1, 1, 1, 1, 1, 1, 1, 1, 1, 1, 1, 1, 1,\n",
       "       1, 1, 1, 1, 1, 1, 1, 1, 1, 1, 1, 1, 1, 1, 1, 1, 1, 1, 1, 1, 1, 1,\n",
       "       1, 1, 1, 1, 1, 1, 1, 1, 1, 1, 1, 1, 2, 2, 2, 2, 2, 2, 2, 2, 2, 2,\n",
       "       2, 2, 2, 2, 2, 2, 2, 2, 2, 2, 2, 2, 2, 2, 2, 2, 2, 2, 2, 2, 2, 2,\n",
       "       2, 2, 2, 2, 2, 2, 2, 2, 2, 2, 2, 2, 2, 2, 2, 2, 2, 2, 2, 2, 2, 2,\n",
       "       2, 2, 2, 2, 2, 2, 2, 2, 2, 2, 2, 2, 2, 2, 2, 2, 2, 2, 2, 2, 2, 2,\n",
       "       2, 2, 2, 2, 2, 2, 2, 2, 2, 2, 2, 2, 2, 2, 2, 2, 2, 2, 2, 2, 2, 2,\n",
       "       2])"
      ]
     },
     "metadata": {},
     "output_type": "display_data"
    }
   ],
   "source": [
    "test_data.classes"
   ]
  },
  {
   "cell_type": "code",
   "execution_count": null,
   "metadata": {},
   "outputs": [
    {
     "name": "stdout",
     "output_type": "stream",
     "text": [
      "[0 0 0 0 0 0 2 0 0 0 0 0 0 0 0 0 0 0 0 1 2 0 2 0 0 0 0 0 1 0 0 0 0 0 0 0 0\n",
      " 0 0 0 0 0 0 0 0 0 0 0 1 0 0 0 0 0 0 0 0 0 0 0 0 0 0 1 0 1 0 0 0 0 0 0 0 0\n",
      " 0 0 1 0 0 0 0 1 0 0 0 0 0 0 0 0 0 2 0 0 0 1 0 0 0 1 0 0 0 0 0 0 1 0 0 0 0\n",
      " 0 0 0 0 0 2 0 0 0 0 0 0 0 0 0 0 0 0 0 0 0 1 0 0 0 0 0 0 0 0 0 0 0 0 0 0 0\n",
      " 0 0 0 0 0 0 0 0 0 0 0 0 0 0 0 0 0 0 0 0 0 0 0 0 0 0 0 0 0 0 0 0 1 0 0 1 0\n",
      " 0 0 0 0 0 0 0 0 0 0 2 0 0 0 1 0 1 1 1 1 1 1 1 1 1 2 1 1 1 1 2 1 1 1 1 2 1\n",
      " 2 1 1 1 1 1 1 1 2 2 1 1 1 1 1 1 0 1 1 1 1 1 1 1 1 1 1 1 1 1 1 1 1 1 1 1 1\n",
      " 1 1 1 1 1 1 1 1 1 1 1 1 1 1 1 1 1 1 1 1 1 1 1 1 2 1 1 1 1 1 1 1 1 1 1 1 1\n",
      " 1 1 2 2 2 2 2 2 2 2 1 2 2 2 2 2 2 2 2 2 2 2 1 2 2 2 2 2 2 2 0 2 0 2 2 2 2\n",
      " 2 2 2 1 2 2 2 2 2 2 2 1 2 2 2 2 1 2 2 2 2 2 1 2 2 2 2 1 2 2 2 2 2 2 2 2 2\n",
      " 2 2 2 2 2 2 2 2 2 2 2 2 2 2 2 2 2 2 2 2 2 2 2 2 2 2 2]\n"
     ]
    }
   ],
   "source": [
    "print(pred.argmax(axis=1))"
   ]
  },
  {
   "cell_type": "code",
   "execution_count": null,
   "metadata": {},
   "outputs": [
    {
     "data": {
      "text/plain": [
       "{'COVID-19': 0, 'normal': 1, 'pneumonia': 2}"
      ]
     },
     "metadata": {},
     "output_type": "display_data"
    }
   ],
   "source": [
    "test_data.class_indices"
   ]
  },
  {
   "cell_type": "code",
   "execution_count": null,
   "metadata": {},
   "outputs": [
    {
     "name": "stdout",
     "output_type": "stream",
     "text": [
      "['COVID-19', 'normal', 'pneumonia']\n"
     ]
    }
   ],
   "source": [
    "labels = test_data.class_indices\n",
    "labels = list(labels.keys())\n",
    "print(labels)"
   ]
  },
  {
   "cell_type": "code",
   "execution_count": null,
   "metadata": {},
   "outputs": [],
   "source": [
    "y_pred = pred.argmax(axis=1)\n",
    "y_test = test_data.classes\n",
    "\n",
    "# Matrice di confusione\n",
    "matrix = confusion_matrix(y_test, y_pred, labels = [0,1,2])"
   ]
  },
  {
   "cell_type": "code",
   "execution_count": null,
   "metadata": {},
   "outputs": [
    {
     "data": {
      "image/png": "[encoded data removed]",
      "text/plain": [
       "<Figure size 700x700 with 2 Axes>"
      ]
     },
     "metadata": {},
     "output_type": "display_data"
    }
   ],
   "source": [
    "cm_display = ConfusionMatrixDisplay(confusion_matrix = matrix)\n",
    "\n",
    "cm_display.plot()\n",
    "plt.show()"
   ]
  }
 ],
 "metadata": {
  "kernelspec": {
   "display_name": "Python 3.8.16 ('tf')",
   "language": "python",
   "name": "python3"
  },
  "language_info": {
   "codemirror_mode": {
    "name": "ipython",
    "version": 3
   },
   "file_extension": ".py",
   "mimetype": "text/x-python",
   "name": "python",
   "nbconvert_exporter": "python",
   "pygments_lexer": "ipython3",
   "version": "3.8.16"
  },
  "orig_nbformat": 4,
  "vscode": {
   "interpreter": {
    "hash": "4a44bbf2a83640dfde2344ebe838e4635fa18e86f31ce321969bab99fe559bce"
   }
  }
 },
 "nbformat": 4,
 "nbformat_minor": 2
}
